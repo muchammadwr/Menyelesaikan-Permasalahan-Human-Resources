{
    "cells": [
        {
            "cell_type": "markdown",
            "metadata": {},
            "source": [
                "# Proyek Pertama: Menyelesaikan Permasalahan Human Resources Perusahaan Jaya Jaya Maju\n"
            ]
        },
        {
            "cell_type": "markdown",
            "metadata": {},
            "source": [
                "- Nama: Muchammad Wildan Alkautsar\n",
                "- Email: muchammadwr@gmail.com\n",
                "- Id Dicoding: muchammadwr\n"
            ]
        },
        {
            "cell_type": "markdown",
            "metadata": {},
            "source": [
                "## Persiapan\n"
            ]
        },
        {
            "cell_type": "markdown",
            "metadata": {},
            "source": [
                "### Menyiapkan library yang dibutuhkan\n"
            ]
        },
        {
            "cell_type": "code",
            "execution_count": 1,
            "metadata": {},
            "outputs": [],
            "source": [
                "import pandas as pd\n",
                "import numpy as np\n",
                "import matplotlib.pyplot as plt\n",
                "import seaborn as sns\n",
                "import warnings\n",
                "\n",
                "warnings.filterwarnings(\"ignore\")"
            ]
        },
        {
            "cell_type": "markdown",
            "metadata": {},
            "source": [
                "### Menyiapkan data yang akan diguankan\n"
            ]
        },
        {
            "cell_type": "markdown",
            "metadata": {},
            "source": [
                "## Data Understanding\n"
            ]
        },
        {
            "cell_type": "code",
            "execution_count": 2,
            "metadata": {},
            "outputs": [
                {
                    "data": {
                        "application/vnd.microsoft.datawrangler.viewer.v0+json": {
                            "columns": [
                                {
                                    "name": "index",
                                    "rawType": "int64",
                                    "type": "integer"
                                },
                                {
                                    "name": "EmployeeId",
                                    "rawType": "int64",
                                    "type": "integer"
                                },
                                {
                                    "name": "Age",
                                    "rawType": "int64",
                                    "type": "integer"
                                },
                                {
                                    "name": "Attrition",
                                    "rawType": "float64",
                                    "type": "float"
                                },
                                {
                                    "name": "BusinessTravel",
                                    "rawType": "object",
                                    "type": "string"
                                },
                                {
                                    "name": "DailyRate",
                                    "rawType": "int64",
                                    "type": "integer"
                                },
                                {
                                    "name": "Department",
                                    "rawType": "object",
                                    "type": "string"
                                },
                                {
                                    "name": "DistanceFromHome",
                                    "rawType": "int64",
                                    "type": "integer"
                                },
                                {
                                    "name": "Education",
                                    "rawType": "int64",
                                    "type": "integer"
                                },
                                {
                                    "name": "EducationField",
                                    "rawType": "object",
                                    "type": "string"
                                },
                                {
                                    "name": "EmployeeCount",
                                    "rawType": "int64",
                                    "type": "integer"
                                },
                                {
                                    "name": "EnvironmentSatisfaction",
                                    "rawType": "int64",
                                    "type": "integer"
                                },
                                {
                                    "name": "Gender",
                                    "rawType": "object",
                                    "type": "string"
                                },
                                {
                                    "name": "HourlyRate",
                                    "rawType": "int64",
                                    "type": "integer"
                                },
                                {
                                    "name": "JobInvolvement",
                                    "rawType": "int64",
                                    "type": "integer"
                                },
                                {
                                    "name": "JobLevel",
                                    "rawType": "int64",
                                    "type": "integer"
                                },
                                {
                                    "name": "JobRole",
                                    "rawType": "object",
                                    "type": "string"
                                },
                                {
                                    "name": "JobSatisfaction",
                                    "rawType": "int64",
                                    "type": "integer"
                                },
                                {
                                    "name": "MaritalStatus",
                                    "rawType": "object",
                                    "type": "string"
                                },
                                {
                                    "name": "MonthlyIncome",
                                    "rawType": "int64",
                                    "type": "integer"
                                },
                                {
                                    "name": "MonthlyRate",
                                    "rawType": "int64",
                                    "type": "integer"
                                },
                                {
                                    "name": "NumCompaniesWorked",
                                    "rawType": "int64",
                                    "type": "integer"
                                },
                                {
                                    "name": "Over18",
                                    "rawType": "object",
                                    "type": "string"
                                },
                                {
                                    "name": "OverTime",
                                    "rawType": "object",
                                    "type": "string"
                                },
                                {
                                    "name": "PercentSalaryHike",
                                    "rawType": "int64",
                                    "type": "integer"
                                },
                                {
                                    "name": "PerformanceRating",
                                    "rawType": "int64",
                                    "type": "integer"
                                },
                                {
                                    "name": "RelationshipSatisfaction",
                                    "rawType": "int64",
                                    "type": "integer"
                                },
                                {
                                    "name": "StandardHours",
                                    "rawType": "int64",
                                    "type": "integer"
                                },
                                {
                                    "name": "StockOptionLevel",
                                    "rawType": "int64",
                                    "type": "integer"
                                },
                                {
                                    "name": "TotalWorkingYears",
                                    "rawType": "int64",
                                    "type": "integer"
                                },
                                {
                                    "name": "TrainingTimesLastYear",
                                    "rawType": "int64",
                                    "type": "integer"
                                },
                                {
                                    "name": "WorkLifeBalance",
                                    "rawType": "int64",
                                    "type": "integer"
                                },
                                {
                                    "name": "YearsAtCompany",
                                    "rawType": "int64",
                                    "type": "integer"
                                },
                                {
                                    "name": "YearsInCurrentRole",
                                    "rawType": "int64",
                                    "type": "integer"
                                },
                                {
                                    "name": "YearsSinceLastPromotion",
                                    "rawType": "int64",
                                    "type": "integer"
                                },
                                {
                                    "name": "YearsWithCurrManager",
                                    "rawType": "int64",
                                    "type": "integer"
                                }
                            ],
                            "ref": "b40ac893-8a3e-4e7e-9628-49112b10a6b4",
                            "rows": [
                                [
                                    "0",
                                    "1",
                                    "38",
                                    null,
                                    "Travel_Frequently",
                                    "1444",
                                    "Human Resources",
                                    "1",
                                    "4",
                                    "Other",
                                    "1",
                                    "4",
                                    "Male",
                                    "88",
                                    "3",
                                    "1",
                                    "Human Resources",
                                    "2",
                                    "Married",
                                    "2991",
                                    "5224",
                                    "0",
                                    "Y",
                                    "Yes",
                                    "11",
                                    "3",
                                    "2",
                                    "80",
                                    "1",
                                    "7",
                                    "2",
                                    "3",
                                    "6",
                                    "2",
                                    "1",
                                    "2"
                                ],
                                [
                                    "1",
                                    "2",
                                    "37",
                                    "1.0",
                                    "Travel_Rarely",
                                    "1141",
                                    "Research & Development",
                                    "11",
                                    "2",
                                    "Medical",
                                    "1",
                                    "1",
                                    "Female",
                                    "61",
                                    "1",
                                    "2",
                                    "Healthcare Representative",
                                    "2",
                                    "Married",
                                    "4777",
                                    "14382",
                                    "5",
                                    "Y",
                                    "No",
                                    "15",
                                    "3",
                                    "1",
                                    "80",
                                    "0",
                                    "15",
                                    "2",
                                    "1",
                                    "1",
                                    "0",
                                    "0",
                                    "0"
                                ],
                                [
                                    "2",
                                    "3",
                                    "51",
                                    "1.0",
                                    "Travel_Rarely",
                                    "1323",
                                    "Research & Development",
                                    "4",
                                    "4",
                                    "Life Sciences",
                                    "1",
                                    "1",
                                    "Male",
                                    "34",
                                    "3",
                                    "1",
                                    "Research Scientist",
                                    "3",
                                    "Married",
                                    "2461",
                                    "10332",
                                    "9",
                                    "Y",
                                    "Yes",
                                    "12",
                                    "3",
                                    "3",
                                    "80",
                                    "3",
                                    "18",
                                    "2",
                                    "4",
                                    "10",
                                    "0",
                                    "2",
                                    "7"
                                ],
                                [
                                    "3",
                                    "4",
                                    "42",
                                    "0.0",
                                    "Travel_Frequently",
                                    "555",
                                    "Sales",
                                    "26",
                                    "3",
                                    "Marketing",
                                    "1",
                                    "3",
                                    "Female",
                                    "77",
                                    "3",
                                    "4",
                                    "Sales Executive",
                                    "2",
                                    "Married",
                                    "13525",
                                    "14864",
                                    "5",
                                    "Y",
                                    "No",
                                    "14",
                                    "3",
                                    "4",
                                    "80",
                                    "1",
                                    "23",
                                    "2",
                                    "4",
                                    "20",
                                    "4",
                                    "4",
                                    "8"
                                ],
                                [
                                    "4",
                                    "5",
                                    "40",
                                    null,
                                    "Travel_Rarely",
                                    "1194",
                                    "Research & Development",
                                    "2",
                                    "4",
                                    "Medical",
                                    "1",
                                    "3",
                                    "Female",
                                    "98",
                                    "3",
                                    "1",
                                    "Research Scientist",
                                    "3",
                                    "Married",
                                    "2001",
                                    "12549",
                                    "2",
                                    "Y",
                                    "No",
                                    "14",
                                    "3",
                                    "2",
                                    "80",
                                    "3",
                                    "20",
                                    "2",
                                    "3",
                                    "5",
                                    "3",
                                    "0",
                                    "2"
                                ]
                            ],
                            "shape": {
                                "columns": 35,
                                "rows": 5
                            }
                        },
                        "text/html": [
                            "<div>\n",
                            "<style scoped>\n",
                            "    .dataframe tbody tr th:only-of-type {\n",
                            "        vertical-align: middle;\n",
                            "    }\n",
                            "\n",
                            "    .dataframe tbody tr th {\n",
                            "        vertical-align: top;\n",
                            "    }\n",
                            "\n",
                            "    .dataframe thead th {\n",
                            "        text-align: right;\n",
                            "    }\n",
                            "</style>\n",
                            "<table border=\"1\" class=\"dataframe\">\n",
                            "  <thead>\n",
                            "    <tr style=\"text-align: right;\">\n",
                            "      <th></th>\n",
                            "      <th>EmployeeId</th>\n",
                            "      <th>Age</th>\n",
                            "      <th>Attrition</th>\n",
                            "      <th>BusinessTravel</th>\n",
                            "      <th>DailyRate</th>\n",
                            "      <th>Department</th>\n",
                            "      <th>DistanceFromHome</th>\n",
                            "      <th>Education</th>\n",
                            "      <th>EducationField</th>\n",
                            "      <th>EmployeeCount</th>\n",
                            "      <th>...</th>\n",
                            "      <th>RelationshipSatisfaction</th>\n",
                            "      <th>StandardHours</th>\n",
                            "      <th>StockOptionLevel</th>\n",
                            "      <th>TotalWorkingYears</th>\n",
                            "      <th>TrainingTimesLastYear</th>\n",
                            "      <th>WorkLifeBalance</th>\n",
                            "      <th>YearsAtCompany</th>\n",
                            "      <th>YearsInCurrentRole</th>\n",
                            "      <th>YearsSinceLastPromotion</th>\n",
                            "      <th>YearsWithCurrManager</th>\n",
                            "    </tr>\n",
                            "  </thead>\n",
                            "  <tbody>\n",
                            "    <tr>\n",
                            "      <th>0</th>\n",
                            "      <td>1</td>\n",
                            "      <td>38</td>\n",
                            "      <td>NaN</td>\n",
                            "      <td>Travel_Frequently</td>\n",
                            "      <td>1444</td>\n",
                            "      <td>Human Resources</td>\n",
                            "      <td>1</td>\n",
                            "      <td>4</td>\n",
                            "      <td>Other</td>\n",
                            "      <td>1</td>\n",
                            "      <td>...</td>\n",
                            "      <td>2</td>\n",
                            "      <td>80</td>\n",
                            "      <td>1</td>\n",
                            "      <td>7</td>\n",
                            "      <td>2</td>\n",
                            "      <td>3</td>\n",
                            "      <td>6</td>\n",
                            "      <td>2</td>\n",
                            "      <td>1</td>\n",
                            "      <td>2</td>\n",
                            "    </tr>\n",
                            "    <tr>\n",
                            "      <th>1</th>\n",
                            "      <td>2</td>\n",
                            "      <td>37</td>\n",
                            "      <td>1.0</td>\n",
                            "      <td>Travel_Rarely</td>\n",
                            "      <td>1141</td>\n",
                            "      <td>Research &amp; Development</td>\n",
                            "      <td>11</td>\n",
                            "      <td>2</td>\n",
                            "      <td>Medical</td>\n",
                            "      <td>1</td>\n",
                            "      <td>...</td>\n",
                            "      <td>1</td>\n",
                            "      <td>80</td>\n",
                            "      <td>0</td>\n",
                            "      <td>15</td>\n",
                            "      <td>2</td>\n",
                            "      <td>1</td>\n",
                            "      <td>1</td>\n",
                            "      <td>0</td>\n",
                            "      <td>0</td>\n",
                            "      <td>0</td>\n",
                            "    </tr>\n",
                            "    <tr>\n",
                            "      <th>2</th>\n",
                            "      <td>3</td>\n",
                            "      <td>51</td>\n",
                            "      <td>1.0</td>\n",
                            "      <td>Travel_Rarely</td>\n",
                            "      <td>1323</td>\n",
                            "      <td>Research &amp; Development</td>\n",
                            "      <td>4</td>\n",
                            "      <td>4</td>\n",
                            "      <td>Life Sciences</td>\n",
                            "      <td>1</td>\n",
                            "      <td>...</td>\n",
                            "      <td>3</td>\n",
                            "      <td>80</td>\n",
                            "      <td>3</td>\n",
                            "      <td>18</td>\n",
                            "      <td>2</td>\n",
                            "      <td>4</td>\n",
                            "      <td>10</td>\n",
                            "      <td>0</td>\n",
                            "      <td>2</td>\n",
                            "      <td>7</td>\n",
                            "    </tr>\n",
                            "    <tr>\n",
                            "      <th>3</th>\n",
                            "      <td>4</td>\n",
                            "      <td>42</td>\n",
                            "      <td>0.0</td>\n",
                            "      <td>Travel_Frequently</td>\n",
                            "      <td>555</td>\n",
                            "      <td>Sales</td>\n",
                            "      <td>26</td>\n",
                            "      <td>3</td>\n",
                            "      <td>Marketing</td>\n",
                            "      <td>1</td>\n",
                            "      <td>...</td>\n",
                            "      <td>4</td>\n",
                            "      <td>80</td>\n",
                            "      <td>1</td>\n",
                            "      <td>23</td>\n",
                            "      <td>2</td>\n",
                            "      <td>4</td>\n",
                            "      <td>20</td>\n",
                            "      <td>4</td>\n",
                            "      <td>4</td>\n",
                            "      <td>8</td>\n",
                            "    </tr>\n",
                            "    <tr>\n",
                            "      <th>4</th>\n",
                            "      <td>5</td>\n",
                            "      <td>40</td>\n",
                            "      <td>NaN</td>\n",
                            "      <td>Travel_Rarely</td>\n",
                            "      <td>1194</td>\n",
                            "      <td>Research &amp; Development</td>\n",
                            "      <td>2</td>\n",
                            "      <td>4</td>\n",
                            "      <td>Medical</td>\n",
                            "      <td>1</td>\n",
                            "      <td>...</td>\n",
                            "      <td>2</td>\n",
                            "      <td>80</td>\n",
                            "      <td>3</td>\n",
                            "      <td>20</td>\n",
                            "      <td>2</td>\n",
                            "      <td>3</td>\n",
                            "      <td>5</td>\n",
                            "      <td>3</td>\n",
                            "      <td>0</td>\n",
                            "      <td>2</td>\n",
                            "    </tr>\n",
                            "  </tbody>\n",
                            "</table>\n",
                            "<p>5 rows × 35 columns</p>\n",
                            "</div>"
                        ],
                        "text/plain": [
                            "   EmployeeId  Age  Attrition     BusinessTravel  DailyRate  \\\n",
                            "0           1   38        NaN  Travel_Frequently       1444   \n",
                            "1           2   37        1.0      Travel_Rarely       1141   \n",
                            "2           3   51        1.0      Travel_Rarely       1323   \n",
                            "3           4   42        0.0  Travel_Frequently        555   \n",
                            "4           5   40        NaN      Travel_Rarely       1194   \n",
                            "\n",
                            "               Department  DistanceFromHome  Education EducationField  \\\n",
                            "0         Human Resources                 1          4          Other   \n",
                            "1  Research & Development                11          2        Medical   \n",
                            "2  Research & Development                 4          4  Life Sciences   \n",
                            "3                   Sales                26          3      Marketing   \n",
                            "4  Research & Development                 2          4        Medical   \n",
                            "\n",
                            "   EmployeeCount  ...  RelationshipSatisfaction StandardHours  \\\n",
                            "0              1  ...                         2            80   \n",
                            "1              1  ...                         1            80   \n",
                            "2              1  ...                         3            80   \n",
                            "3              1  ...                         4            80   \n",
                            "4              1  ...                         2            80   \n",
                            "\n",
                            "   StockOptionLevel  TotalWorkingYears  TrainingTimesLastYear WorkLifeBalance  \\\n",
                            "0                 1                  7                      2               3   \n",
                            "1                 0                 15                      2               1   \n",
                            "2                 3                 18                      2               4   \n",
                            "3                 1                 23                      2               4   \n",
                            "4                 3                 20                      2               3   \n",
                            "\n",
                            "   YearsAtCompany YearsInCurrentRole  YearsSinceLastPromotion  \\\n",
                            "0               6                  2                        1   \n",
                            "1               1                  0                        0   \n",
                            "2              10                  0                        2   \n",
                            "3              20                  4                        4   \n",
                            "4               5                  3                        0   \n",
                            "\n",
                            "   YearsWithCurrManager  \n",
                            "0                     2  \n",
                            "1                     0  \n",
                            "2                     7  \n",
                            "3                     8  \n",
                            "4                     2  \n",
                            "\n",
                            "[5 rows x 35 columns]"
                        ]
                    },
                    "execution_count": 2,
                    "metadata": {},
                    "output_type": "execute_result"
                }
            ],
            "source": [
                "# Load the dataset\n",
                "df = pd.read_csv(\"./data/employee_data.csv\")\n",
                "df.head()"
            ]
        },
        {
            "cell_type": "markdown",
            "metadata": {},
            "source": [
                "## Data Preparation / Preprocessing\n"
            ]
        },
        {
            "cell_type": "code",
            "execution_count": 3,
            "metadata": {},
            "outputs": [
                {
                    "name": "stdout",
                    "output_type": "stream",
                    "text": [
                        "<class 'pandas.core.frame.DataFrame'>\n",
                        "RangeIndex: 1470 entries, 0 to 1469\n",
                        "Data columns (total 17 columns):\n",
                        " #   Column                   Non-Null Count  Dtype  \n",
                        "---  ------                   --------------  -----  \n",
                        " 0   EmployeeId               1470 non-null   int64  \n",
                        " 1   Age                      1470 non-null   int64  \n",
                        " 2   Attrition                1058 non-null   float64\n",
                        " 3   BusinessTravel           1470 non-null   object \n",
                        " 4   DailyRate                1470 non-null   int64  \n",
                        " 5   Department               1470 non-null   object \n",
                        " 6   DistanceFromHome         1470 non-null   int64  \n",
                        " 7   Education                1470 non-null   int64  \n",
                        " 8   EducationField           1470 non-null   object \n",
                        " 9   EmployeeCount            1470 non-null   int64  \n",
                        " 10  EnvironmentSatisfaction  1470 non-null   int64  \n",
                        " 11  Gender                   1470 non-null   object \n",
                        " 12  HourlyRate               1470 non-null   int64  \n",
                        " 13  JobInvolvement           1470 non-null   int64  \n",
                        " 14  JobLevel                 1470 non-null   int64  \n",
                        " 15  JobRole                  1470 non-null   object \n",
                        " 16  JobSatisfaction          1470 non-null   int64  \n",
                        "dtypes: float64(1), int64(11), object(5)\n",
                        "memory usage: 195.4+ KB\n"
                    ]
                }
            ],
            "source": [
                "# Check the 1/2 first of the DataFrame info\n",
                "df_pertama = df.iloc[:, : len(df.columns) // 2]\n",
                "df_pertama.info()"
            ]
        },
        {
            "cell_type": "code",
            "execution_count": 4,
            "metadata": {},
            "outputs": [
                {
                    "name": "stdout",
                    "output_type": "stream",
                    "text": [
                        "<class 'pandas.core.frame.DataFrame'>\n",
                        "RangeIndex: 1470 entries, 0 to 1469\n",
                        "Data columns (total 18 columns):\n",
                        " #   Column                    Non-Null Count  Dtype \n",
                        "---  ------                    --------------  ----- \n",
                        " 0   MaritalStatus             1470 non-null   object\n",
                        " 1   MonthlyIncome             1470 non-null   int64 \n",
                        " 2   MonthlyRate               1470 non-null   int64 \n",
                        " 3   NumCompaniesWorked        1470 non-null   int64 \n",
                        " 4   Over18                    1470 non-null   object\n",
                        " 5   OverTime                  1470 non-null   object\n",
                        " 6   PercentSalaryHike         1470 non-null   int64 \n",
                        " 7   PerformanceRating         1470 non-null   int64 \n",
                        " 8   RelationshipSatisfaction  1470 non-null   int64 \n",
                        " 9   StandardHours             1470 non-null   int64 \n",
                        " 10  StockOptionLevel          1470 non-null   int64 \n",
                        " 11  TotalWorkingYears         1470 non-null   int64 \n",
                        " 12  TrainingTimesLastYear     1470 non-null   int64 \n",
                        " 13  WorkLifeBalance           1470 non-null   int64 \n",
                        " 14  YearsAtCompany            1470 non-null   int64 \n",
                        " 15  YearsInCurrentRole        1470 non-null   int64 \n",
                        " 16  YearsSinceLastPromotion   1470 non-null   int64 \n",
                        " 17  YearsWithCurrManager      1470 non-null   int64 \n",
                        "dtypes: int64(15), object(3)\n",
                        "memory usage: 206.8+ KB\n"
                    ]
                }
            ],
            "source": [
                "# check the 1/2 last of the DataFrame info\n",
                "df_kedua = df.iloc[:, len(df.columns) // 2 :]\n",
                "df_kedua.info()"
            ]
        },
        {
            "cell_type": "code",
            "execution_count": 5,
            "metadata": {},
            "outputs": [
                {
                    "data": {
                        "application/vnd.microsoft.datawrangler.viewer.v0+json": {
                            "columns": [
                                {
                                    "name": "index",
                                    "rawType": "object",
                                    "type": "string"
                                },
                                {
                                    "name": "0",
                                    "rawType": "int64",
                                    "type": "integer"
                                }
                            ],
                            "ref": "5a6e9ac5-1c80-4bc5-9992-3589a60cd384",
                            "rows": [
                                [
                                    "EmployeeId",
                                    "0"
                                ],
                                [
                                    "Age",
                                    "0"
                                ],
                                [
                                    "Attrition",
                                    "412"
                                ],
                                [
                                    "BusinessTravel",
                                    "0"
                                ],
                                [
                                    "DailyRate",
                                    "0"
                                ],
                                [
                                    "Department",
                                    "0"
                                ],
                                [
                                    "DistanceFromHome",
                                    "0"
                                ],
                                [
                                    "Education",
                                    "0"
                                ],
                                [
                                    "EducationField",
                                    "0"
                                ],
                                [
                                    "EmployeeCount",
                                    "0"
                                ],
                                [
                                    "EnvironmentSatisfaction",
                                    "0"
                                ],
                                [
                                    "Gender",
                                    "0"
                                ],
                                [
                                    "HourlyRate",
                                    "0"
                                ],
                                [
                                    "JobInvolvement",
                                    "0"
                                ],
                                [
                                    "JobLevel",
                                    "0"
                                ],
                                [
                                    "JobRole",
                                    "0"
                                ],
                                [
                                    "JobSatisfaction",
                                    "0"
                                ],
                                [
                                    "MaritalStatus",
                                    "0"
                                ],
                                [
                                    "MonthlyIncome",
                                    "0"
                                ],
                                [
                                    "MonthlyRate",
                                    "0"
                                ],
                                [
                                    "NumCompaniesWorked",
                                    "0"
                                ],
                                [
                                    "Over18",
                                    "0"
                                ],
                                [
                                    "OverTime",
                                    "0"
                                ],
                                [
                                    "PercentSalaryHike",
                                    "0"
                                ],
                                [
                                    "PerformanceRating",
                                    "0"
                                ],
                                [
                                    "RelationshipSatisfaction",
                                    "0"
                                ],
                                [
                                    "StandardHours",
                                    "0"
                                ],
                                [
                                    "StockOptionLevel",
                                    "0"
                                ],
                                [
                                    "TotalWorkingYears",
                                    "0"
                                ],
                                [
                                    "TrainingTimesLastYear",
                                    "0"
                                ],
                                [
                                    "WorkLifeBalance",
                                    "0"
                                ],
                                [
                                    "YearsAtCompany",
                                    "0"
                                ],
                                [
                                    "YearsInCurrentRole",
                                    "0"
                                ],
                                [
                                    "YearsSinceLastPromotion",
                                    "0"
                                ],
                                [
                                    "YearsWithCurrManager",
                                    "0"
                                ]
                            ],
                            "shape": {
                                "columns": 1,
                                "rows": 35
                            }
                        },
                        "text/plain": [
                            "EmployeeId                    0\n",
                            "Age                           0\n",
                            "Attrition                   412\n",
                            "BusinessTravel                0\n",
                            "DailyRate                     0\n",
                            "Department                    0\n",
                            "DistanceFromHome              0\n",
                            "Education                     0\n",
                            "EducationField                0\n",
                            "EmployeeCount                 0\n",
                            "EnvironmentSatisfaction       0\n",
                            "Gender                        0\n",
                            "HourlyRate                    0\n",
                            "JobInvolvement                0\n",
                            "JobLevel                      0\n",
                            "JobRole                       0\n",
                            "JobSatisfaction               0\n",
                            "MaritalStatus                 0\n",
                            "MonthlyIncome                 0\n",
                            "MonthlyRate                   0\n",
                            "NumCompaniesWorked            0\n",
                            "Over18                        0\n",
                            "OverTime                      0\n",
                            "PercentSalaryHike             0\n",
                            "PerformanceRating             0\n",
                            "RelationshipSatisfaction      0\n",
                            "StandardHours                 0\n",
                            "StockOptionLevel              0\n",
                            "TotalWorkingYears             0\n",
                            "TrainingTimesLastYear         0\n",
                            "WorkLifeBalance               0\n",
                            "YearsAtCompany                0\n",
                            "YearsInCurrentRole            0\n",
                            "YearsSinceLastPromotion       0\n",
                            "YearsWithCurrManager          0\n",
                            "dtype: int64"
                        ]
                    },
                    "execution_count": 5,
                    "metadata": {},
                    "output_type": "execute_result"
                }
            ],
            "source": [
                "# Check missing values\n",
                "df.isnull().sum()"
            ]
        },
        {
            "cell_type": "code",
            "execution_count": 6,
            "metadata": {},
            "outputs": [],
            "source": [
                "# Handle Missing Values\n",
                "df.dropna(inplace=True)"
            ]
        },
        {
            "cell_type": "code",
            "execution_count": 7,
            "metadata": {},
            "outputs": [
                {
                    "name": "stdout",
                    "output_type": "stream",
                    "text": [
                        "Jumlah baris duplikat: 0\n"
                    ]
                }
            ],
            "source": [
                "jumlah_duplikat = df.duplicated().sum()\n",
                "print(f\"Jumlah baris duplikat: {jumlah_duplikat}\")"
            ]
        },
        {
            "cell_type": "code",
            "execution_count": 8,
            "metadata": {},
            "outputs": [
                {
                    "data": {
                        "application/vnd.microsoft.datawrangler.viewer.v0+json": {
                            "columns": [
                                {
                                    "name": "index",
                                    "rawType": "int64",
                                    "type": "integer"
                                },
                                {
                                    "name": "EmployeeId",
                                    "rawType": "int64",
                                    "type": "integer"
                                },
                                {
                                    "name": "Age",
                                    "rawType": "int64",
                                    "type": "integer"
                                },
                                {
                                    "name": "Attrition",
                                    "rawType": "float64",
                                    "type": "float"
                                },
                                {
                                    "name": "BusinessTravel",
                                    "rawType": "object",
                                    "type": "string"
                                },
                                {
                                    "name": "DailyRate",
                                    "rawType": "int64",
                                    "type": "integer"
                                },
                                {
                                    "name": "Department",
                                    "rawType": "object",
                                    "type": "string"
                                },
                                {
                                    "name": "DistanceFromHome",
                                    "rawType": "int64",
                                    "type": "integer"
                                },
                                {
                                    "name": "Education",
                                    "rawType": "int64",
                                    "type": "integer"
                                },
                                {
                                    "name": "EducationField",
                                    "rawType": "object",
                                    "type": "string"
                                },
                                {
                                    "name": "EmployeeCount",
                                    "rawType": "int64",
                                    "type": "integer"
                                },
                                {
                                    "name": "EnvironmentSatisfaction",
                                    "rawType": "int64",
                                    "type": "integer"
                                },
                                {
                                    "name": "Gender",
                                    "rawType": "object",
                                    "type": "string"
                                },
                                {
                                    "name": "HourlyRate",
                                    "rawType": "int64",
                                    "type": "integer"
                                },
                                {
                                    "name": "JobInvolvement",
                                    "rawType": "int64",
                                    "type": "integer"
                                },
                                {
                                    "name": "JobLevel",
                                    "rawType": "int64",
                                    "type": "integer"
                                },
                                {
                                    "name": "JobRole",
                                    "rawType": "object",
                                    "type": "string"
                                },
                                {
                                    "name": "JobSatisfaction",
                                    "rawType": "int64",
                                    "type": "integer"
                                },
                                {
                                    "name": "MaritalStatus",
                                    "rawType": "object",
                                    "type": "string"
                                },
                                {
                                    "name": "MonthlyIncome",
                                    "rawType": "int64",
                                    "type": "integer"
                                },
                                {
                                    "name": "MonthlyRate",
                                    "rawType": "int64",
                                    "type": "integer"
                                },
                                {
                                    "name": "NumCompaniesWorked",
                                    "rawType": "int64",
                                    "type": "integer"
                                },
                                {
                                    "name": "Over18",
                                    "rawType": "object",
                                    "type": "string"
                                },
                                {
                                    "name": "OverTime",
                                    "rawType": "object",
                                    "type": "string"
                                },
                                {
                                    "name": "PercentSalaryHike",
                                    "rawType": "int64",
                                    "type": "integer"
                                },
                                {
                                    "name": "PerformanceRating",
                                    "rawType": "int64",
                                    "type": "integer"
                                },
                                {
                                    "name": "RelationshipSatisfaction",
                                    "rawType": "int64",
                                    "type": "integer"
                                },
                                {
                                    "name": "StandardHours",
                                    "rawType": "int64",
                                    "type": "integer"
                                },
                                {
                                    "name": "StockOptionLevel",
                                    "rawType": "int64",
                                    "type": "integer"
                                },
                                {
                                    "name": "TotalWorkingYears",
                                    "rawType": "int64",
                                    "type": "integer"
                                },
                                {
                                    "name": "TrainingTimesLastYear",
                                    "rawType": "int64",
                                    "type": "integer"
                                },
                                {
                                    "name": "WorkLifeBalance",
                                    "rawType": "int64",
                                    "type": "integer"
                                },
                                {
                                    "name": "YearsAtCompany",
                                    "rawType": "int64",
                                    "type": "integer"
                                },
                                {
                                    "name": "YearsInCurrentRole",
                                    "rawType": "int64",
                                    "type": "integer"
                                },
                                {
                                    "name": "YearsSinceLastPromotion",
                                    "rawType": "int64",
                                    "type": "integer"
                                },
                                {
                                    "name": "YearsWithCurrManager",
                                    "rawType": "int64",
                                    "type": "integer"
                                }
                            ],
                            "ref": "ad4dcac5-e2a2-458c-8cdb-f604b00020f4",
                            "rows": [
                                [
                                    "1",
                                    "2",
                                    "37",
                                    "1.0",
                                    "Travel_Rarely",
                                    "1141",
                                    "Research & Development",
                                    "11",
                                    "2",
                                    "Medical",
                                    "1",
                                    "1",
                                    "Female",
                                    "61",
                                    "1",
                                    "2",
                                    "Healthcare Representative",
                                    "2",
                                    "Married",
                                    "4777",
                                    "14382",
                                    "5",
                                    "Y",
                                    "No",
                                    "15",
                                    "3",
                                    "1",
                                    "80",
                                    "0",
                                    "15",
                                    "2",
                                    "1",
                                    "1",
                                    "0",
                                    "0",
                                    "0"
                                ],
                                [
                                    "2",
                                    "3",
                                    "51",
                                    "1.0",
                                    "Travel_Rarely",
                                    "1323",
                                    "Research & Development",
                                    "4",
                                    "4",
                                    "Life Sciences",
                                    "1",
                                    "1",
                                    "Male",
                                    "34",
                                    "3",
                                    "1",
                                    "Research Scientist",
                                    "3",
                                    "Married",
                                    "2461",
                                    "10332",
                                    "9",
                                    "Y",
                                    "Yes",
                                    "12",
                                    "3",
                                    "3",
                                    "80",
                                    "3",
                                    "18",
                                    "2",
                                    "4",
                                    "10",
                                    "0",
                                    "2",
                                    "7"
                                ],
                                [
                                    "3",
                                    "4",
                                    "42",
                                    "0.0",
                                    "Travel_Frequently",
                                    "555",
                                    "Sales",
                                    "26",
                                    "3",
                                    "Marketing",
                                    "1",
                                    "3",
                                    "Female",
                                    "77",
                                    "3",
                                    "4",
                                    "Sales Executive",
                                    "2",
                                    "Married",
                                    "13525",
                                    "14864",
                                    "5",
                                    "Y",
                                    "No",
                                    "14",
                                    "3",
                                    "4",
                                    "80",
                                    "1",
                                    "23",
                                    "2",
                                    "4",
                                    "20",
                                    "4",
                                    "4",
                                    "8"
                                ],
                                [
                                    "6",
                                    "7",
                                    "40",
                                    "0.0",
                                    "Travel_Rarely",
                                    "1124",
                                    "Sales",
                                    "1",
                                    "2",
                                    "Medical",
                                    "1",
                                    "2",
                                    "Male",
                                    "57",
                                    "1",
                                    "2",
                                    "Sales Executive",
                                    "4",
                                    "Married",
                                    "7457",
                                    "13273",
                                    "2",
                                    "Y",
                                    "Yes",
                                    "22",
                                    "4",
                                    "3",
                                    "80",
                                    "3",
                                    "6",
                                    "2",
                                    "2",
                                    "4",
                                    "3",
                                    "0",
                                    "2"
                                ],
                                [
                                    "7",
                                    "8",
                                    "55",
                                    "1.0",
                                    "Travel_Rarely",
                                    "725",
                                    "Research & Development",
                                    "2",
                                    "3",
                                    "Medical",
                                    "1",
                                    "4",
                                    "Male",
                                    "78",
                                    "3",
                                    "5",
                                    "Manager",
                                    "1",
                                    "Married",
                                    "19859",
                                    "21199",
                                    "5",
                                    "Y",
                                    "Yes",
                                    "13",
                                    "3",
                                    "4",
                                    "80",
                                    "1",
                                    "24",
                                    "2",
                                    "3",
                                    "5",
                                    "2",
                                    "1",
                                    "4"
                                ]
                            ],
                            "shape": {
                                "columns": 35,
                                "rows": 5
                            }
                        },
                        "text/html": [
                            "<div>\n",
                            "<style scoped>\n",
                            "    .dataframe tbody tr th:only-of-type {\n",
                            "        vertical-align: middle;\n",
                            "    }\n",
                            "\n",
                            "    .dataframe tbody tr th {\n",
                            "        vertical-align: top;\n",
                            "    }\n",
                            "\n",
                            "    .dataframe thead th {\n",
                            "        text-align: right;\n",
                            "    }\n",
                            "</style>\n",
                            "<table border=\"1\" class=\"dataframe\">\n",
                            "  <thead>\n",
                            "    <tr style=\"text-align: right;\">\n",
                            "      <th></th>\n",
                            "      <th>EmployeeId</th>\n",
                            "      <th>Age</th>\n",
                            "      <th>Attrition</th>\n",
                            "      <th>BusinessTravel</th>\n",
                            "      <th>DailyRate</th>\n",
                            "      <th>Department</th>\n",
                            "      <th>DistanceFromHome</th>\n",
                            "      <th>Education</th>\n",
                            "      <th>EducationField</th>\n",
                            "      <th>EmployeeCount</th>\n",
                            "      <th>...</th>\n",
                            "      <th>RelationshipSatisfaction</th>\n",
                            "      <th>StandardHours</th>\n",
                            "      <th>StockOptionLevel</th>\n",
                            "      <th>TotalWorkingYears</th>\n",
                            "      <th>TrainingTimesLastYear</th>\n",
                            "      <th>WorkLifeBalance</th>\n",
                            "      <th>YearsAtCompany</th>\n",
                            "      <th>YearsInCurrentRole</th>\n",
                            "      <th>YearsSinceLastPromotion</th>\n",
                            "      <th>YearsWithCurrManager</th>\n",
                            "    </tr>\n",
                            "  </thead>\n",
                            "  <tbody>\n",
                            "    <tr>\n",
                            "      <th>1</th>\n",
                            "      <td>2</td>\n",
                            "      <td>37</td>\n",
                            "      <td>1.0</td>\n",
                            "      <td>Travel_Rarely</td>\n",
                            "      <td>1141</td>\n",
                            "      <td>Research &amp; Development</td>\n",
                            "      <td>11</td>\n",
                            "      <td>2</td>\n",
                            "      <td>Medical</td>\n",
                            "      <td>1</td>\n",
                            "      <td>...</td>\n",
                            "      <td>1</td>\n",
                            "      <td>80</td>\n",
                            "      <td>0</td>\n",
                            "      <td>15</td>\n",
                            "      <td>2</td>\n",
                            "      <td>1</td>\n",
                            "      <td>1</td>\n",
                            "      <td>0</td>\n",
                            "      <td>0</td>\n",
                            "      <td>0</td>\n",
                            "    </tr>\n",
                            "    <tr>\n",
                            "      <th>2</th>\n",
                            "      <td>3</td>\n",
                            "      <td>51</td>\n",
                            "      <td>1.0</td>\n",
                            "      <td>Travel_Rarely</td>\n",
                            "      <td>1323</td>\n",
                            "      <td>Research &amp; Development</td>\n",
                            "      <td>4</td>\n",
                            "      <td>4</td>\n",
                            "      <td>Life Sciences</td>\n",
                            "      <td>1</td>\n",
                            "      <td>...</td>\n",
                            "      <td>3</td>\n",
                            "      <td>80</td>\n",
                            "      <td>3</td>\n",
                            "      <td>18</td>\n",
                            "      <td>2</td>\n",
                            "      <td>4</td>\n",
                            "      <td>10</td>\n",
                            "      <td>0</td>\n",
                            "      <td>2</td>\n",
                            "      <td>7</td>\n",
                            "    </tr>\n",
                            "    <tr>\n",
                            "      <th>3</th>\n",
                            "      <td>4</td>\n",
                            "      <td>42</td>\n",
                            "      <td>0.0</td>\n",
                            "      <td>Travel_Frequently</td>\n",
                            "      <td>555</td>\n",
                            "      <td>Sales</td>\n",
                            "      <td>26</td>\n",
                            "      <td>3</td>\n",
                            "      <td>Marketing</td>\n",
                            "      <td>1</td>\n",
                            "      <td>...</td>\n",
                            "      <td>4</td>\n",
                            "      <td>80</td>\n",
                            "      <td>1</td>\n",
                            "      <td>23</td>\n",
                            "      <td>2</td>\n",
                            "      <td>4</td>\n",
                            "      <td>20</td>\n",
                            "      <td>4</td>\n",
                            "      <td>4</td>\n",
                            "      <td>8</td>\n",
                            "    </tr>\n",
                            "    <tr>\n",
                            "      <th>6</th>\n",
                            "      <td>7</td>\n",
                            "      <td>40</td>\n",
                            "      <td>0.0</td>\n",
                            "      <td>Travel_Rarely</td>\n",
                            "      <td>1124</td>\n",
                            "      <td>Sales</td>\n",
                            "      <td>1</td>\n",
                            "      <td>2</td>\n",
                            "      <td>Medical</td>\n",
                            "      <td>1</td>\n",
                            "      <td>...</td>\n",
                            "      <td>3</td>\n",
                            "      <td>80</td>\n",
                            "      <td>3</td>\n",
                            "      <td>6</td>\n",
                            "      <td>2</td>\n",
                            "      <td>2</td>\n",
                            "      <td>4</td>\n",
                            "      <td>3</td>\n",
                            "      <td>0</td>\n",
                            "      <td>2</td>\n",
                            "    </tr>\n",
                            "    <tr>\n",
                            "      <th>7</th>\n",
                            "      <td>8</td>\n",
                            "      <td>55</td>\n",
                            "      <td>1.0</td>\n",
                            "      <td>Travel_Rarely</td>\n",
                            "      <td>725</td>\n",
                            "      <td>Research &amp; Development</td>\n",
                            "      <td>2</td>\n",
                            "      <td>3</td>\n",
                            "      <td>Medical</td>\n",
                            "      <td>1</td>\n",
                            "      <td>...</td>\n",
                            "      <td>4</td>\n",
                            "      <td>80</td>\n",
                            "      <td>1</td>\n",
                            "      <td>24</td>\n",
                            "      <td>2</td>\n",
                            "      <td>3</td>\n",
                            "      <td>5</td>\n",
                            "      <td>2</td>\n",
                            "      <td>1</td>\n",
                            "      <td>4</td>\n",
                            "    </tr>\n",
                            "  </tbody>\n",
                            "</table>\n",
                            "<p>5 rows × 35 columns</p>\n",
                            "</div>"
                        ],
                        "text/plain": [
                            "   EmployeeId  Age  Attrition     BusinessTravel  DailyRate  \\\n",
                            "1           2   37        1.0      Travel_Rarely       1141   \n",
                            "2           3   51        1.0      Travel_Rarely       1323   \n",
                            "3           4   42        0.0  Travel_Frequently        555   \n",
                            "6           7   40        0.0      Travel_Rarely       1124   \n",
                            "7           8   55        1.0      Travel_Rarely        725   \n",
                            "\n",
                            "               Department  DistanceFromHome  Education EducationField  \\\n",
                            "1  Research & Development                11          2        Medical   \n",
                            "2  Research & Development                 4          4  Life Sciences   \n",
                            "3                   Sales                26          3      Marketing   \n",
                            "6                   Sales                 1          2        Medical   \n",
                            "7  Research & Development                 2          3        Medical   \n",
                            "\n",
                            "   EmployeeCount  ...  RelationshipSatisfaction StandardHours  \\\n",
                            "1              1  ...                         1            80   \n",
                            "2              1  ...                         3            80   \n",
                            "3              1  ...                         4            80   \n",
                            "6              1  ...                         3            80   \n",
                            "7              1  ...                         4            80   \n",
                            "\n",
                            "   StockOptionLevel  TotalWorkingYears  TrainingTimesLastYear WorkLifeBalance  \\\n",
                            "1                 0                 15                      2               1   \n",
                            "2                 3                 18                      2               4   \n",
                            "3                 1                 23                      2               4   \n",
                            "6                 3                  6                      2               2   \n",
                            "7                 1                 24                      2               3   \n",
                            "\n",
                            "   YearsAtCompany YearsInCurrentRole  YearsSinceLastPromotion  \\\n",
                            "1               1                  0                        0   \n",
                            "2              10                  0                        2   \n",
                            "3              20                  4                        4   \n",
                            "6               4                  3                        0   \n",
                            "7               5                  2                        1   \n",
                            "\n",
                            "   YearsWithCurrManager  \n",
                            "1                     0  \n",
                            "2                     7  \n",
                            "3                     8  \n",
                            "6                     2  \n",
                            "7                     4  \n",
                            "\n",
                            "[5 rows x 35 columns]"
                        ]
                    },
                    "execution_count": 8,
                    "metadata": {},
                    "output_type": "execute_result"
                }
            ],
            "source": [
                "df.head()"
            ]
        },
        {
            "cell_type": "markdown",
            "metadata": {},
            "source": [
                "## Exploratory Data Analysis\n"
            ]
        },
        {
            "cell_type": "markdown",
            "metadata": {},
            "source": [
                "Statistik Deskriptif\n"
            ]
        },
        {
            "cell_type": "code",
            "execution_count": 9,
            "metadata": {},
            "outputs": [
                {
                    "data": {
                        "application/vnd.microsoft.datawrangler.viewer.v0+json": {
                            "columns": [
                                {
                                    "name": "index",
                                    "rawType": "object",
                                    "type": "string"
                                },
                                {
                                    "name": "EmployeeId",
                                    "rawType": "float64",
                                    "type": "float"
                                },
                                {
                                    "name": "Age",
                                    "rawType": "float64",
                                    "type": "float"
                                },
                                {
                                    "name": "Attrition",
                                    "rawType": "float64",
                                    "type": "float"
                                },
                                {
                                    "name": "DailyRate",
                                    "rawType": "float64",
                                    "type": "float"
                                },
                                {
                                    "name": "DistanceFromHome",
                                    "rawType": "float64",
                                    "type": "float"
                                },
                                {
                                    "name": "Education",
                                    "rawType": "float64",
                                    "type": "float"
                                },
                                {
                                    "name": "EmployeeCount",
                                    "rawType": "float64",
                                    "type": "float"
                                },
                                {
                                    "name": "EnvironmentSatisfaction",
                                    "rawType": "float64",
                                    "type": "float"
                                },
                                {
                                    "name": "HourlyRate",
                                    "rawType": "float64",
                                    "type": "float"
                                },
                                {
                                    "name": "JobInvolvement",
                                    "rawType": "float64",
                                    "type": "float"
                                },
                                {
                                    "name": "JobLevel",
                                    "rawType": "float64",
                                    "type": "float"
                                },
                                {
                                    "name": "JobSatisfaction",
                                    "rawType": "float64",
                                    "type": "float"
                                },
                                {
                                    "name": "MonthlyIncome",
                                    "rawType": "float64",
                                    "type": "float"
                                },
                                {
                                    "name": "MonthlyRate",
                                    "rawType": "float64",
                                    "type": "float"
                                },
                                {
                                    "name": "NumCompaniesWorked",
                                    "rawType": "float64",
                                    "type": "float"
                                },
                                {
                                    "name": "PercentSalaryHike",
                                    "rawType": "float64",
                                    "type": "float"
                                },
                                {
                                    "name": "PerformanceRating",
                                    "rawType": "float64",
                                    "type": "float"
                                },
                                {
                                    "name": "RelationshipSatisfaction",
                                    "rawType": "float64",
                                    "type": "float"
                                },
                                {
                                    "name": "StandardHours",
                                    "rawType": "float64",
                                    "type": "float"
                                },
                                {
                                    "name": "StockOptionLevel",
                                    "rawType": "float64",
                                    "type": "float"
                                },
                                {
                                    "name": "TotalWorkingYears",
                                    "rawType": "float64",
                                    "type": "float"
                                },
                                {
                                    "name": "TrainingTimesLastYear",
                                    "rawType": "float64",
                                    "type": "float"
                                },
                                {
                                    "name": "WorkLifeBalance",
                                    "rawType": "float64",
                                    "type": "float"
                                },
                                {
                                    "name": "YearsAtCompany",
                                    "rawType": "float64",
                                    "type": "float"
                                },
                                {
                                    "name": "YearsInCurrentRole",
                                    "rawType": "float64",
                                    "type": "float"
                                },
                                {
                                    "name": "YearsSinceLastPromotion",
                                    "rawType": "float64",
                                    "type": "float"
                                },
                                {
                                    "name": "YearsWithCurrManager",
                                    "rawType": "float64",
                                    "type": "float"
                                }
                            ],
                            "ref": "fe03c542-236a-4c04-9fe1-9ec9fdc50a15",
                            "rows": [
                                [
                                    "count",
                                    "1058.0",
                                    "1058.0",
                                    "1058.0",
                                    "1058.0",
                                    "1058.0",
                                    "1058.0",
                                    "1058.0",
                                    "1058.0",
                                    "1058.0",
                                    "1058.0",
                                    "1058.0",
                                    "1058.0",
                                    "1058.0",
                                    "1058.0",
                                    "1058.0",
                                    "1058.0",
                                    "1058.0",
                                    "1058.0",
                                    "1058.0",
                                    "1058.0",
                                    "1058.0",
                                    "1058.0",
                                    "1058.0",
                                    "1058.0",
                                    "1058.0",
                                    "1058.0",
                                    "1058.0"
                                ],
                                [
                                    "mean",
                                    "736.6568998109641",
                                    "37.055765595463136",
                                    "0.16918714555765596",
                                    "809.5425330812855",
                                    "8.978260869565217",
                                    "2.8790170132325144",
                                    "1.0",
                                    "2.712665406427221",
                                    "65.64366729678639",
                                    "2.7372400756143667",
                                    "2.0907372400756143",
                                    "2.7495274102079397",
                                    "6625.945179584121",
                                    "14267.281663516069",
                                    "2.7069943289224954",
                                    "15.155954631379963",
                                    "3.1502835538752363",
                                    "2.726843100189036",
                                    "80.0",
                                    "0.7627599243856332",
                                    "11.435727788279774",
                                    "2.76937618147448",
                                    "2.7637051039697544",
                                    "7.065217391304348",
                                    "4.260869565217392",
                                    "2.2032136105860114",
                                    "4.142722117202268"
                                ],
                                [
                                    "std",
                                    "427.44053839611746",
                                    "9.41042065310423",
                                    "0.3750944390010551",
                                    "408.4780490345314",
                                    "8.040607676475775",
                                    "1.0314423853143955",
                                    "0.0",
                                    "1.0929594429569711",
                                    "20.324860752027284",
                                    "0.7047297575951423",
                                    "1.1365141251322384",
                                    "1.104144066200739",
                                    "4837.695042217439",
                                    "7048.077304870101",
                                    "2.5235256834607678",
                                    "3.6410966937487808",
                                    "0.3575181385979285",
                                    "1.090969925952442",
                                    "0.0",
                                    "0.8375374663788178",
                                    "8.016428819704204",
                                    "1.3026890855546667",
                                    "0.7073918917724212",
                                    "6.265227429218328",
                                    "3.6174704857444007",
                                    "3.266948250877449",
                                    "3.5990444648390807"
                                ],
                                [
                                    "min",
                                    "2.0",
                                    "18.0",
                                    "0.0",
                                    "102.0",
                                    "1.0",
                                    "1.0",
                                    "1.0",
                                    "1.0",
                                    "30.0",
                                    "1.0",
                                    "1.0",
                                    "1.0",
                                    "1009.0",
                                    "2094.0",
                                    "0.0",
                                    "11.0",
                                    "3.0",
                                    "1.0",
                                    "80.0",
                                    "0.0",
                                    "0.0",
                                    "0.0",
                                    "1.0",
                                    "0.0",
                                    "0.0",
                                    "0.0",
                                    "0.0"
                                ],
                                [
                                    "25%",
                                    "364.25",
                                    "30.0",
                                    "0.0",
                                    "465.25",
                                    "2.0",
                                    "2.0",
                                    "1.0",
                                    "2.0",
                                    "48.0",
                                    "2.0",
                                    "1.0",
                                    "2.0",
                                    "2900.25",
                                    "8277.25",
                                    "1.0",
                                    "12.0",
                                    "3.0",
                                    "2.0",
                                    "80.0",
                                    "0.0",
                                    "6.0",
                                    "2.0",
                                    "2.0",
                                    "3.0",
                                    "2.0",
                                    "0.0",
                                    "2.0"
                                ],
                                [
                                    "50%",
                                    "731.5",
                                    "36.0",
                                    "0.0",
                                    "817.5",
                                    "7.0",
                                    "3.0",
                                    "1.0",
                                    "3.0",
                                    "65.0",
                                    "3.0",
                                    "2.0",
                                    "3.0",
                                    "4903.5",
                                    "14201.0",
                                    "2.0",
                                    "14.0",
                                    "3.0",
                                    "3.0",
                                    "80.0",
                                    "1.0",
                                    "10.0",
                                    "3.0",
                                    "3.0",
                                    "5.0",
                                    "3.0",
                                    "1.0",
                                    "3.0"
                                ],
                                [
                                    "75%",
                                    "1117.75",
                                    "43.0",
                                    "0.0",
                                    "1168.5",
                                    "13.0",
                                    "4.0",
                                    "1.0",
                                    "4.0",
                                    "83.0",
                                    "3.0",
                                    "3.0",
                                    "4.0",
                                    "8736.5",
                                    "20364.0",
                                    "4.0",
                                    "18.0",
                                    "3.0",
                                    "4.0",
                                    "80.0",
                                    "1.0",
                                    "16.0",
                                    "3.0",
                                    "3.0",
                                    "9.0",
                                    "7.0",
                                    "3.0",
                                    "7.0"
                                ],
                                [
                                    "max",
                                    "1470.0",
                                    "60.0",
                                    "1.0",
                                    "1499.0",
                                    "29.0",
                                    "5.0",
                                    "1.0",
                                    "4.0",
                                    "100.0",
                                    "4.0",
                                    "5.0",
                                    "4.0",
                                    "19999.0",
                                    "26999.0",
                                    "9.0",
                                    "25.0",
                                    "4.0",
                                    "4.0",
                                    "80.0",
                                    "3.0",
                                    "40.0",
                                    "6.0",
                                    "4.0",
                                    "40.0",
                                    "18.0",
                                    "15.0",
                                    "17.0"
                                ]
                            ],
                            "shape": {
                                "columns": 27,
                                "rows": 8
                            }
                        },
                        "text/html": [
                            "<div>\n",
                            "<style scoped>\n",
                            "    .dataframe tbody tr th:only-of-type {\n",
                            "        vertical-align: middle;\n",
                            "    }\n",
                            "\n",
                            "    .dataframe tbody tr th {\n",
                            "        vertical-align: top;\n",
                            "    }\n",
                            "\n",
                            "    .dataframe thead th {\n",
                            "        text-align: right;\n",
                            "    }\n",
                            "</style>\n",
                            "<table border=\"1\" class=\"dataframe\">\n",
                            "  <thead>\n",
                            "    <tr style=\"text-align: right;\">\n",
                            "      <th></th>\n",
                            "      <th>EmployeeId</th>\n",
                            "      <th>Age</th>\n",
                            "      <th>Attrition</th>\n",
                            "      <th>DailyRate</th>\n",
                            "      <th>DistanceFromHome</th>\n",
                            "      <th>Education</th>\n",
                            "      <th>EmployeeCount</th>\n",
                            "      <th>EnvironmentSatisfaction</th>\n",
                            "      <th>HourlyRate</th>\n",
                            "      <th>JobInvolvement</th>\n",
                            "      <th>...</th>\n",
                            "      <th>RelationshipSatisfaction</th>\n",
                            "      <th>StandardHours</th>\n",
                            "      <th>StockOptionLevel</th>\n",
                            "      <th>TotalWorkingYears</th>\n",
                            "      <th>TrainingTimesLastYear</th>\n",
                            "      <th>WorkLifeBalance</th>\n",
                            "      <th>YearsAtCompany</th>\n",
                            "      <th>YearsInCurrentRole</th>\n",
                            "      <th>YearsSinceLastPromotion</th>\n",
                            "      <th>YearsWithCurrManager</th>\n",
                            "    </tr>\n",
                            "  </thead>\n",
                            "  <tbody>\n",
                            "    <tr>\n",
                            "      <th>count</th>\n",
                            "      <td>1058.000000</td>\n",
                            "      <td>1058.000000</td>\n",
                            "      <td>1058.000000</td>\n",
                            "      <td>1058.000000</td>\n",
                            "      <td>1058.000000</td>\n",
                            "      <td>1058.000000</td>\n",
                            "      <td>1058.0</td>\n",
                            "      <td>1058.000000</td>\n",
                            "      <td>1058.000000</td>\n",
                            "      <td>1058.00000</td>\n",
                            "      <td>...</td>\n",
                            "      <td>1058.000000</td>\n",
                            "      <td>1058.0</td>\n",
                            "      <td>1058.000000</td>\n",
                            "      <td>1058.000000</td>\n",
                            "      <td>1058.000000</td>\n",
                            "      <td>1058.000000</td>\n",
                            "      <td>1058.000000</td>\n",
                            "      <td>1058.00000</td>\n",
                            "      <td>1058.000000</td>\n",
                            "      <td>1058.000000</td>\n",
                            "    </tr>\n",
                            "    <tr>\n",
                            "      <th>mean</th>\n",
                            "      <td>736.656900</td>\n",
                            "      <td>37.055766</td>\n",
                            "      <td>0.169187</td>\n",
                            "      <td>809.542533</td>\n",
                            "      <td>8.978261</td>\n",
                            "      <td>2.879017</td>\n",
                            "      <td>1.0</td>\n",
                            "      <td>2.712665</td>\n",
                            "      <td>65.643667</td>\n",
                            "      <td>2.73724</td>\n",
                            "      <td>...</td>\n",
                            "      <td>2.726843</td>\n",
                            "      <td>80.0</td>\n",
                            "      <td>0.762760</td>\n",
                            "      <td>11.435728</td>\n",
                            "      <td>2.769376</td>\n",
                            "      <td>2.763705</td>\n",
                            "      <td>7.065217</td>\n",
                            "      <td>4.26087</td>\n",
                            "      <td>2.203214</td>\n",
                            "      <td>4.142722</td>\n",
                            "    </tr>\n",
                            "    <tr>\n",
                            "      <th>std</th>\n",
                            "      <td>427.440538</td>\n",
                            "      <td>9.410421</td>\n",
                            "      <td>0.375094</td>\n",
                            "      <td>408.478049</td>\n",
                            "      <td>8.040608</td>\n",
                            "      <td>1.031442</td>\n",
                            "      <td>0.0</td>\n",
                            "      <td>1.092959</td>\n",
                            "      <td>20.324861</td>\n",
                            "      <td>0.70473</td>\n",
                            "      <td>...</td>\n",
                            "      <td>1.090970</td>\n",
                            "      <td>0.0</td>\n",
                            "      <td>0.837537</td>\n",
                            "      <td>8.016429</td>\n",
                            "      <td>1.302689</td>\n",
                            "      <td>0.707392</td>\n",
                            "      <td>6.265227</td>\n",
                            "      <td>3.61747</td>\n",
                            "      <td>3.266948</td>\n",
                            "      <td>3.599044</td>\n",
                            "    </tr>\n",
                            "    <tr>\n",
                            "      <th>min</th>\n",
                            "      <td>2.000000</td>\n",
                            "      <td>18.000000</td>\n",
                            "      <td>0.000000</td>\n",
                            "      <td>102.000000</td>\n",
                            "      <td>1.000000</td>\n",
                            "      <td>1.000000</td>\n",
                            "      <td>1.0</td>\n",
                            "      <td>1.000000</td>\n",
                            "      <td>30.000000</td>\n",
                            "      <td>1.00000</td>\n",
                            "      <td>...</td>\n",
                            "      <td>1.000000</td>\n",
                            "      <td>80.0</td>\n",
                            "      <td>0.000000</td>\n",
                            "      <td>0.000000</td>\n",
                            "      <td>0.000000</td>\n",
                            "      <td>1.000000</td>\n",
                            "      <td>0.000000</td>\n",
                            "      <td>0.00000</td>\n",
                            "      <td>0.000000</td>\n",
                            "      <td>0.000000</td>\n",
                            "    </tr>\n",
                            "    <tr>\n",
                            "      <th>25%</th>\n",
                            "      <td>364.250000</td>\n",
                            "      <td>30.000000</td>\n",
                            "      <td>0.000000</td>\n",
                            "      <td>465.250000</td>\n",
                            "      <td>2.000000</td>\n",
                            "      <td>2.000000</td>\n",
                            "      <td>1.0</td>\n",
                            "      <td>2.000000</td>\n",
                            "      <td>48.000000</td>\n",
                            "      <td>2.00000</td>\n",
                            "      <td>...</td>\n",
                            "      <td>2.000000</td>\n",
                            "      <td>80.0</td>\n",
                            "      <td>0.000000</td>\n",
                            "      <td>6.000000</td>\n",
                            "      <td>2.000000</td>\n",
                            "      <td>2.000000</td>\n",
                            "      <td>3.000000</td>\n",
                            "      <td>2.00000</td>\n",
                            "      <td>0.000000</td>\n",
                            "      <td>2.000000</td>\n",
                            "    </tr>\n",
                            "    <tr>\n",
                            "      <th>50%</th>\n",
                            "      <td>731.500000</td>\n",
                            "      <td>36.000000</td>\n",
                            "      <td>0.000000</td>\n",
                            "      <td>817.500000</td>\n",
                            "      <td>7.000000</td>\n",
                            "      <td>3.000000</td>\n",
                            "      <td>1.0</td>\n",
                            "      <td>3.000000</td>\n",
                            "      <td>65.000000</td>\n",
                            "      <td>3.00000</td>\n",
                            "      <td>...</td>\n",
                            "      <td>3.000000</td>\n",
                            "      <td>80.0</td>\n",
                            "      <td>1.000000</td>\n",
                            "      <td>10.000000</td>\n",
                            "      <td>3.000000</td>\n",
                            "      <td>3.000000</td>\n",
                            "      <td>5.000000</td>\n",
                            "      <td>3.00000</td>\n",
                            "      <td>1.000000</td>\n",
                            "      <td>3.000000</td>\n",
                            "    </tr>\n",
                            "    <tr>\n",
                            "      <th>75%</th>\n",
                            "      <td>1117.750000</td>\n",
                            "      <td>43.000000</td>\n",
                            "      <td>0.000000</td>\n",
                            "      <td>1168.500000</td>\n",
                            "      <td>13.000000</td>\n",
                            "      <td>4.000000</td>\n",
                            "      <td>1.0</td>\n",
                            "      <td>4.000000</td>\n",
                            "      <td>83.000000</td>\n",
                            "      <td>3.00000</td>\n",
                            "      <td>...</td>\n",
                            "      <td>4.000000</td>\n",
                            "      <td>80.0</td>\n",
                            "      <td>1.000000</td>\n",
                            "      <td>16.000000</td>\n",
                            "      <td>3.000000</td>\n",
                            "      <td>3.000000</td>\n",
                            "      <td>9.000000</td>\n",
                            "      <td>7.00000</td>\n",
                            "      <td>3.000000</td>\n",
                            "      <td>7.000000</td>\n",
                            "    </tr>\n",
                            "    <tr>\n",
                            "      <th>max</th>\n",
                            "      <td>1470.000000</td>\n",
                            "      <td>60.000000</td>\n",
                            "      <td>1.000000</td>\n",
                            "      <td>1499.000000</td>\n",
                            "      <td>29.000000</td>\n",
                            "      <td>5.000000</td>\n",
                            "      <td>1.0</td>\n",
                            "      <td>4.000000</td>\n",
                            "      <td>100.000000</td>\n",
                            "      <td>4.00000</td>\n",
                            "      <td>...</td>\n",
                            "      <td>4.000000</td>\n",
                            "      <td>80.0</td>\n",
                            "      <td>3.000000</td>\n",
                            "      <td>40.000000</td>\n",
                            "      <td>6.000000</td>\n",
                            "      <td>4.000000</td>\n",
                            "      <td>40.000000</td>\n",
                            "      <td>18.00000</td>\n",
                            "      <td>15.000000</td>\n",
                            "      <td>17.000000</td>\n",
                            "    </tr>\n",
                            "  </tbody>\n",
                            "</table>\n",
                            "<p>8 rows × 27 columns</p>\n",
                            "</div>"
                        ],
                        "text/plain": [
                            "        EmployeeId          Age    Attrition    DailyRate  DistanceFromHome  \\\n",
                            "count  1058.000000  1058.000000  1058.000000  1058.000000       1058.000000   \n",
                            "mean    736.656900    37.055766     0.169187   809.542533          8.978261   \n",
                            "std     427.440538     9.410421     0.375094   408.478049          8.040608   \n",
                            "min       2.000000    18.000000     0.000000   102.000000          1.000000   \n",
                            "25%     364.250000    30.000000     0.000000   465.250000          2.000000   \n",
                            "50%     731.500000    36.000000     0.000000   817.500000          7.000000   \n",
                            "75%    1117.750000    43.000000     0.000000  1168.500000         13.000000   \n",
                            "max    1470.000000    60.000000     1.000000  1499.000000         29.000000   \n",
                            "\n",
                            "         Education  EmployeeCount  EnvironmentSatisfaction   HourlyRate  \\\n",
                            "count  1058.000000         1058.0              1058.000000  1058.000000   \n",
                            "mean      2.879017            1.0                 2.712665    65.643667   \n",
                            "std       1.031442            0.0                 1.092959    20.324861   \n",
                            "min       1.000000            1.0                 1.000000    30.000000   \n",
                            "25%       2.000000            1.0                 2.000000    48.000000   \n",
                            "50%       3.000000            1.0                 3.000000    65.000000   \n",
                            "75%       4.000000            1.0                 4.000000    83.000000   \n",
                            "max       5.000000            1.0                 4.000000   100.000000   \n",
                            "\n",
                            "       JobInvolvement  ...  RelationshipSatisfaction  StandardHours  \\\n",
                            "count      1058.00000  ...               1058.000000         1058.0   \n",
                            "mean          2.73724  ...                  2.726843           80.0   \n",
                            "std           0.70473  ...                  1.090970            0.0   \n",
                            "min           1.00000  ...                  1.000000           80.0   \n",
                            "25%           2.00000  ...                  2.000000           80.0   \n",
                            "50%           3.00000  ...                  3.000000           80.0   \n",
                            "75%           3.00000  ...                  4.000000           80.0   \n",
                            "max           4.00000  ...                  4.000000           80.0   \n",
                            "\n",
                            "       StockOptionLevel  TotalWorkingYears  TrainingTimesLastYear  \\\n",
                            "count       1058.000000        1058.000000            1058.000000   \n",
                            "mean           0.762760          11.435728               2.769376   \n",
                            "std            0.837537           8.016429               1.302689   \n",
                            "min            0.000000           0.000000               0.000000   \n",
                            "25%            0.000000           6.000000               2.000000   \n",
                            "50%            1.000000          10.000000               3.000000   \n",
                            "75%            1.000000          16.000000               3.000000   \n",
                            "max            3.000000          40.000000               6.000000   \n",
                            "\n",
                            "       WorkLifeBalance  YearsAtCompany  YearsInCurrentRole  \\\n",
                            "count      1058.000000     1058.000000          1058.00000   \n",
                            "mean          2.763705        7.065217             4.26087   \n",
                            "std           0.707392        6.265227             3.61747   \n",
                            "min           1.000000        0.000000             0.00000   \n",
                            "25%           2.000000        3.000000             2.00000   \n",
                            "50%           3.000000        5.000000             3.00000   \n",
                            "75%           3.000000        9.000000             7.00000   \n",
                            "max           4.000000       40.000000            18.00000   \n",
                            "\n",
                            "       YearsSinceLastPromotion  YearsWithCurrManager  \n",
                            "count              1058.000000           1058.000000  \n",
                            "mean                  2.203214              4.142722  \n",
                            "std                   3.266948              3.599044  \n",
                            "min                   0.000000              0.000000  \n",
                            "25%                   0.000000              2.000000  \n",
                            "50%                   1.000000              3.000000  \n",
                            "75%                   3.000000              7.000000  \n",
                            "max                  15.000000             17.000000  \n",
                            "\n",
                            "[8 rows x 27 columns]"
                        ]
                    },
                    "execution_count": 9,
                    "metadata": {},
                    "output_type": "execute_result"
                }
            ],
            "source": [
                "df.describe()"
            ]
        },
        {
            "cell_type": "markdown",
            "metadata": {},
            "source": [
                "### Analisis Demografi & Personal Karyawan\n"
            ]
        },
        {
            "cell_type": "markdown",
            "metadata": {},
            "source": [
                "Jumlah karyawan keluar berdasarkan rentang usia\n"
            ]
        },
        {
            "cell_type": "code",
            "execution_count": null,
            "metadata": {},
            "outputs": [
                {
                    "data": {
                        "image/png": "[encoded data removed]",
                        "text/plain": [
                            "<Figure size 1200x600 with 1 Axes>"
                        ]
                    },
                    "metadata": {},
                    "output_type": "display_data"
                }
            ],
            "source": [
                "# Melihat distribusi data numerik\n",
                "plt.figure(figsize=(12, 6))\n",
                "sns.histplot(df[\"Age\"], kde=True, bins=30, color=\"#A4D2FF\")\n",
                "plt.title(\"Distribusi Umur Karyawan\")\n",
                "plt.xlabel(\"Umur\")\n",
                "plt.ylabel(\"Frekuensi\")\n",
                "plt.show()"
            ]
        },
        {
            "cell_type": "code",
            "execution_count": 11,
            "metadata": {},
            "outputs": [
                {
                    "data": {
                        "application/vnd.microsoft.datawrangler.viewer.v0+json": {
                            "columns": [
                                {
                                    "name": "index",
                                    "rawType": "int64",
                                    "type": "integer"
                                },
                                {
                                    "name": "AgeGroup",
                                    "rawType": "category",
                                    "type": "unknown"
                                },
                                {
                                    "name": "Attrition",
                                    "rawType": "int64",
                                    "type": "integer"
                                }
                            ],
                            "ref": "6b65818d-0af9-4c19-8b17-077e5f0b53a2",
                            "rows": [
                                [
                                    "0",
                                    "18-24",
                                    "29"
                                ],
                                [
                                    "1",
                                    "25-34",
                                    "85"
                                ],
                                [
                                    "2",
                                    "35-44",
                                    "39"
                                ],
                                [
                                    "3",
                                    "45-54",
                                    "17"
                                ],
                                [
                                    "4",
                                    "55-64",
                                    "9"
                                ]
                            ],
                            "shape": {
                                "columns": 2,
                                "rows": 5
                            }
                        },
                        "text/html": [
                            "<div>\n",
                            "<style scoped>\n",
                            "    .dataframe tbody tr th:only-of-type {\n",
                            "        vertical-align: middle;\n",
                            "    }\n",
                            "\n",
                            "    .dataframe tbody tr th {\n",
                            "        vertical-align: top;\n",
                            "    }\n",
                            "\n",
                            "    .dataframe thead th {\n",
                            "        text-align: right;\n",
                            "    }\n",
                            "</style>\n",
                            "<table border=\"1\" class=\"dataframe\">\n",
                            "  <thead>\n",
                            "    <tr style=\"text-align: right;\">\n",
                            "      <th></th>\n",
                            "      <th>AgeGroup</th>\n",
                            "      <th>Attrition</th>\n",
                            "    </tr>\n",
                            "  </thead>\n",
                            "  <tbody>\n",
                            "    <tr>\n",
                            "      <th>0</th>\n",
                            "      <td>18-24</td>\n",
                            "      <td>29</td>\n",
                            "    </tr>\n",
                            "    <tr>\n",
                            "      <th>1</th>\n",
                            "      <td>25-34</td>\n",
                            "      <td>85</td>\n",
                            "    </tr>\n",
                            "    <tr>\n",
                            "      <th>2</th>\n",
                            "      <td>35-44</td>\n",
                            "      <td>39</td>\n",
                            "    </tr>\n",
                            "    <tr>\n",
                            "      <th>3</th>\n",
                            "      <td>45-54</td>\n",
                            "      <td>17</td>\n",
                            "    </tr>\n",
                            "    <tr>\n",
                            "      <th>4</th>\n",
                            "      <td>55-64</td>\n",
                            "      <td>9</td>\n",
                            "    </tr>\n",
                            "  </tbody>\n",
                            "</table>\n",
                            "</div>"
                        ],
                        "text/plain": [
                            "  AgeGroup  Attrition\n",
                            "0    18-24         29\n",
                            "1    25-34         85\n",
                            "2    35-44         39\n",
                            "3    45-54         17\n",
                            "4    55-64          9"
                        ]
                    },
                    "execution_count": 11,
                    "metadata": {},
                    "output_type": "execute_result"
                }
            ],
            "source": [
                "# Binning 10 tahun\n",
                "bins = [18, 25, 35, 45, 55, 65]\n",
                "labels = [\"18-24\", \"25-34\", \"35-44\", \"45-54\", \"55-64\"]\n",
                "df[\"AgeGroup\"] = pd.cut(df[\"Age\"], bins=bins, labels=labels, right=False)\n",
                "\n",
                "# pivot\n",
                "age_attr = pd.pivot_table(\n",
                "    df[df[\"Attrition\"] == 1], index=\"AgeGroup\", values=\"Attrition\", aggfunc=\"count\"\n",
                ").reset_index()\n",
                "\n",
                "\n",
                "# Tampilkan tabel\n",
                "age_attr"
            ]
        },
        {
            "cell_type": "code",
            "execution_count": 12,
            "metadata": {},
            "outputs": [
                {
                    "data": {
                        "image/png": "[encoded data removed]",
                        "text/plain": [
                            "<Figure size 1000x800 with 1 Axes>"
                        ]
                    },
                    "metadata": {},
                    "output_type": "display_data"
                }
            ],
            "source": [
                "# Visualisasi\n",
                "\n",
                "top3 = age_attr.sort_values(\"Attrition\", ascending=False).head(3)[\"AgeGroup\"].tolist()\n",
                "colors = [\"#FFB0A9\" if age in top3 else \"#CCCCCC\" for age in age_attr[\"AgeGroup\"]]\n",
                "\n",
                "plt.figure(figsize=(10, 8))\n",
                "bar = sns.barplot(data=age_attr, x=\"AgeGroup\", y=\"Attrition\", palette=colors)\n",
                "for index, row in age_attr.iterrows():\n",
                "    bar.text(\n",
                "        x=index,\n",
                "        y=row[\"Attrition\"] + 1,\n",
                "        s=int(row[\"Attrition\"]),\n",
                "        ha=\"center\",\n",
                "        va=\"bottom\",\n",
                "        fontsize=10,\n",
                "        color=\"black\",\n",
                "    )\n",
                "plt.title(\"Jumlah Karyawan Keluar Berdasarkan Usia\")\n",
                "plt.xlabel(\"Rentang Usia\")\n",
                "plt.ylabel(\"Jumlah Keluar\")\n",
                "plt.tight_layout()\n",
                "plt.show()"
            ]
        },
        {
            "cell_type": "markdown",
            "metadata": {},
            "source": [
                "Karyawan keluar berdasarkan gender\n"
            ]
        },
        {
            "cell_type": "code",
            "execution_count": null,
            "metadata": {},
            "outputs": [
                {
                    "data": {
                        "application/vnd.microsoft.datawrangler.viewer.v0+json": {
                            "columns": [
                                {
                                    "name": "index",
                                    "rawType": "int64",
                                    "type": "integer"
                                },
                                {
                                    "name": "Gender",
                                    "rawType": "object",
                                    "type": "string"
                                },
                                {
                                    "name": "Attrition",
                                    "rawType": "int64",
                                    "type": "integer"
                                }
                            ],
                            "ref": "c75f0bf6-5900-4fff-8aa8-f174a92946c9",
                            "rows": [
                                [
                                    "0",
                                    "Female",
                                    "71"
                                ],
                                [
                                    "1",
                                    "Male",
                                    "108"
                                ]
                            ],
                            "shape": {
                                "columns": 2,
                                "rows": 2
                            }
                        },
                        "text/html": [
                            "<div>\n",
                            "<style scoped>\n",
                            "    .dataframe tbody tr th:only-of-type {\n",
                            "        vertical-align: middle;\n",
                            "    }\n",
                            "\n",
                            "    .dataframe tbody tr th {\n",
                            "        vertical-align: top;\n",
                            "    }\n",
                            "\n",
                            "    .dataframe thead th {\n",
                            "        text-align: right;\n",
                            "    }\n",
                            "</style>\n",
                            "<table border=\"1\" class=\"dataframe\">\n",
                            "  <thead>\n",
                            "    <tr style=\"text-align: right;\">\n",
                            "      <th></th>\n",
                            "      <th>Gender</th>\n",
                            "      <th>Attrition</th>\n",
                            "    </tr>\n",
                            "  </thead>\n",
                            "  <tbody>\n",
                            "    <tr>\n",
                            "      <th>0</th>\n",
                            "      <td>Female</td>\n",
                            "      <td>71</td>\n",
                            "    </tr>\n",
                            "    <tr>\n",
                            "      <th>1</th>\n",
                            "      <td>Male</td>\n",
                            "      <td>108</td>\n",
                            "    </tr>\n",
                            "  </tbody>\n",
                            "</table>\n",
                            "</div>"
                        ],
                        "text/plain": [
                            "   Gender  Attrition\n",
                            "0  Female         71\n",
                            "1    Male        108"
                        ]
                    },
                    "execution_count": 22,
                    "metadata": {},
                    "output_type": "execute_result"
                }
            ],
            "source": [
                "gender_attr = pd.pivot_table(\n",
                "    df[df[\"Attrition\"] == 1], index=\"Gender\", values=\"Attrition\", aggfunc=\"count\"\n",
                ").reset_index()\n",
                "gender_attr"
            ]
        },
        {
            "cell_type": "code",
            "execution_count": null,
            "metadata": {},
            "outputs": [
                {
                    "data": {
                        "image/png": "[encoded data removed]",
                        "text/plain": [
                            "<Figure size 800x600 with 1 Axes>"
                        ]
                    },
                    "metadata": {},
                    "output_type": "display_data"
                }
            ],
            "source": [
                "# Visualisasi\n",
                "total_attrition = gender_attr[\"Attrition\"].sum()\n",
                "gender_attr[\"Percentage\"] = (gender_attr[\"Attrition\"] / total_attrition * 100).round(2)\n",
                "plt.figure(figsize=(8, 6))\n",
                "plt.pie(\n",
                "    gender_attr[\"Percentage\"],\n",
                "    labels=gender_attr[\"Gender\"],\n",
                "    autopct=\"%1.1f%%\",\n",
                "    startangle=140,\n",
                "    colors=[\"#FFB0A9\", \"#A4D2FF\"],\n",
                "    explode=(0.025, 0.025),\n",
                ")\n",
                "plt.axis(\"equal\")\n",
                "plt.title(\"Persentase Karyawan Keluar Berdasarkan  Jenis Kelamin\")\n",
                "plt.show()"
            ]
        },
        {
            "cell_type": "markdown",
            "metadata": {},
            "source": [
                "Karyawan berdasarkan status pernikahan\n"
            ]
        },
        {
            "cell_type": "code",
            "execution_count": null,
            "metadata": {},
            "outputs": [
                {
                    "data": {
                        "application/vnd.microsoft.datawrangler.viewer.v0+json": {
                            "columns": [
                                {
                                    "name": "index",
                                    "rawType": "int64",
                                    "type": "integer"
                                },
                                {
                                    "name": "MaritalStatus",
                                    "rawType": "object",
                                    "type": "string"
                                },
                                {
                                    "name": "Attrition",
                                    "rawType": "int64",
                                    "type": "integer"
                                }
                            ],
                            "ref": "3049e754-b36c-4ed1-b67e-f865a5561bd9",
                            "rows": [
                                [
                                    "0",
                                    "Single",
                                    "94"
                                ],
                                [
                                    "1",
                                    "Married",
                                    "62"
                                ],
                                [
                                    "2",
                                    "Divorced",
                                    "23"
                                ]
                            ],
                            "shape": {
                                "columns": 2,
                                "rows": 3
                            }
                        },
                        "text/html": [
                            "<div>\n",
                            "<style scoped>\n",
                            "    .dataframe tbody tr th:only-of-type {\n",
                            "        vertical-align: middle;\n",
                            "    }\n",
                            "\n",
                            "    .dataframe tbody tr th {\n",
                            "        vertical-align: top;\n",
                            "    }\n",
                            "\n",
                            "    .dataframe thead th {\n",
                            "        text-align: right;\n",
                            "    }\n",
                            "</style>\n",
                            "<table border=\"1\" class=\"dataframe\">\n",
                            "  <thead>\n",
                            "    <tr style=\"text-align: right;\">\n",
                            "      <th></th>\n",
                            "      <th>MaritalStatus</th>\n",
                            "      <th>Attrition</th>\n",
                            "    </tr>\n",
                            "  </thead>\n",
                            "  <tbody>\n",
                            "    <tr>\n",
                            "      <th>0</th>\n",
                            "      <td>Single</td>\n",
                            "      <td>94</td>\n",
                            "    </tr>\n",
                            "    <tr>\n",
                            "      <th>1</th>\n",
                            "      <td>Married</td>\n",
                            "      <td>62</td>\n",
                            "    </tr>\n",
                            "    <tr>\n",
                            "      <th>2</th>\n",
                            "      <td>Divorced</td>\n",
                            "      <td>23</td>\n",
                            "    </tr>\n",
                            "  </tbody>\n",
                            "</table>\n",
                            "</div>"
                        ],
                        "text/plain": [
                            "  MaritalStatus  Attrition\n",
                            "0        Single         94\n",
                            "1       Married         62\n",
                            "2      Divorced         23"
                        ]
                    },
                    "execution_count": 138,
                    "metadata": {},
                    "output_type": "execute_result"
                }
            ],
            "source": [
                "marital_attr = (\n",
                "    pd.pivot_table(\n",
                "        df[df[\"Attrition\"] == 1],\n",
                "        index=\"MaritalStatus\",\n",
                "        values=\"Attrition\",\n",
                "        aggfunc=\"count\",\n",
                "    )\n",
                "    .sort_values(by=\"Attrition\", ascending=False)\n",
                "    .reset_index()\n",
                ")\n",
                "marital_attr"
            ]
        },
        {
            "cell_type": "code",
            "execution_count": 152,
            "metadata": {},
            "outputs": [
                {
                    "data": {
                        "image/png": "[encoded data removed]",
                        "text/plain": [
                            "<Figure size 800x600 with 1 Axes>"
                        ]
                    },
                    "metadata": {},
                    "output_type": "display_data"
                }
            ],
            "source": [
                "# Visualisasi\n",
                "order = marital_attr[\"MaritalStatus\"].tolist()\n",
                "\n",
                "plt.figure(figsize=(8, 6))\n",
                "ax = sns.barplot(\n",
                "    data=marital_attr, x=\"MaritalStatus\", y=\"Attrition\", color=\"#FFB0A9\", order=order\n",
                ")\n",
                "plt.title(\"Jumlah Karyawan Keluar Berdasarkan Status Pernikahan\")\n",
                "plt.xlabel(\"Status Pernikahan\")\n",
                "plt.ylabel(\"Jumlah Keluar\")\n",
                "for bar in ax.patches:\n",
                "    height = bar.get_height()\n",
                "    ax.text(\n",
                "        bar.get_x() + bar.get_width() / 2,\n",
                "        height + 1,\n",
                "        f\"{int(height)}\",\n",
                "        ha=\"center\",\n",
                "        fontsize=10,\n",
                "    )\n",
                "\n",
                "plt.tight_layout()\n",
                "plt.show()"
            ]
        },
        {
            "cell_type": "markdown",
            "metadata": {},
            "source": [
                "### Analisis Jabatan dan Organisasi\n"
            ]
        },
        {
            "cell_type": "markdown",
            "metadata": {},
            "source": [
                "Jumlah Karyawan keluar per department\n"
            ]
        },
        {
            "cell_type": "code",
            "execution_count": 141,
            "metadata": {},
            "outputs": [
                {
                    "data": {
                        "application/vnd.microsoft.datawrangler.viewer.v0+json": {
                            "columns": [
                                {
                                    "name": "index",
                                    "rawType": "int64",
                                    "type": "integer"
                                },
                                {
                                    "name": "Department",
                                    "rawType": "object",
                                    "type": "string"
                                },
                                {
                                    "name": "Attrition",
                                    "rawType": "int64",
                                    "type": "integer"
                                }
                            ],
                            "ref": "438be17b-4141-4d69-82c7-5c8d77e4dc2d",
                            "rows": [
                                [
                                    "0",
                                    "Research & Development",
                                    "107"
                                ],
                                [
                                    "1",
                                    "Sales",
                                    "66"
                                ],
                                [
                                    "2",
                                    "Human Resources",
                                    "6"
                                ]
                            ],
                            "shape": {
                                "columns": 2,
                                "rows": 3
                            }
                        },
                        "text/html": [
                            "<div>\n",
                            "<style scoped>\n",
                            "    .dataframe tbody tr th:only-of-type {\n",
                            "        vertical-align: middle;\n",
                            "    }\n",
                            "\n",
                            "    .dataframe tbody tr th {\n",
                            "        vertical-align: top;\n",
                            "    }\n",
                            "\n",
                            "    .dataframe thead th {\n",
                            "        text-align: right;\n",
                            "    }\n",
                            "</style>\n",
                            "<table border=\"1\" class=\"dataframe\">\n",
                            "  <thead>\n",
                            "    <tr style=\"text-align: right;\">\n",
                            "      <th></th>\n",
                            "      <th>Department</th>\n",
                            "      <th>Attrition</th>\n",
                            "    </tr>\n",
                            "  </thead>\n",
                            "  <tbody>\n",
                            "    <tr>\n",
                            "      <th>0</th>\n",
                            "      <td>Research &amp; Development</td>\n",
                            "      <td>107</td>\n",
                            "    </tr>\n",
                            "    <tr>\n",
                            "      <th>1</th>\n",
                            "      <td>Sales</td>\n",
                            "      <td>66</td>\n",
                            "    </tr>\n",
                            "    <tr>\n",
                            "      <th>2</th>\n",
                            "      <td>Human Resources</td>\n",
                            "      <td>6</td>\n",
                            "    </tr>\n",
                            "  </tbody>\n",
                            "</table>\n",
                            "</div>"
                        ],
                        "text/plain": [
                            "               Department  Attrition\n",
                            "0  Research & Development        107\n",
                            "1                   Sales         66\n",
                            "2         Human Resources          6"
                        ]
                    },
                    "execution_count": 141,
                    "metadata": {},
                    "output_type": "execute_result"
                }
            ],
            "source": [
                "dept_attr = (\n",
                "    pd.pivot_table(\n",
                "        df[df[\"Attrition\"] == 1],\n",
                "        index=\"Department\",\n",
                "        values=\"Attrition\",\n",
                "        aggfunc=\"count\",\n",
                "    )\n",
                "    .sort_values(by=\"Attrition\", ascending=False)\n",
                "    .reset_index()\n",
                ")\n",
                "dept_attr"
            ]
        },
        {
            "cell_type": "code",
            "execution_count": 157,
            "metadata": {},
            "outputs": [
                {
                    "data": {
                        "image/png": "[encoded data removed]",
                        "text/plain": [
                            "<Figure size 800x600 with 1 Axes>"
                        ]
                    },
                    "metadata": {},
                    "output_type": "display_data"
                }
            ],
            "source": [
                "# Visualisasi\n",
                "plt.figure(figsize=(8, 6))\n",
                "sns.barplot(data=dept_attr, x=\"Department\", y=\"Attrition\", color=\"#FFB0A9\")\n",
                "plt.title(\"Jumlah Karyawan Keluar per Department\")\n",
                "plt.xlabel(\"Department\")\n",
                "plt.ylabel(\"Jumlah Keluar\")\n",
                "plt.tight_layout()\n",
                "for index, row in dept_attr.iterrows():\n",
                "    plt.text(\n",
                "        x=index,\n",
                "        y=row[\"Attrition\"] + 1,\n",
                "        s=int(row[\"Attrition\"]),\n",
                "        ha=\"center\",\n",
                "        va=\"bottom\",\n",
                "        fontsize=10,\n",
                "        color=\"black\",\n",
                "    )\n",
                "plt.show()"
            ]
        },
        {
            "cell_type": "markdown",
            "metadata": {},
            "source": [
                "### Kompensasi & Kesejahteraan\n"
            ]
        },
        {
            "cell_type": "markdown",
            "metadata": {},
            "source": [
                "Karyawan Keluar per Job Role\n"
            ]
        },
        {
            "cell_type": "code",
            "execution_count": 224,
            "metadata": {},
            "outputs": [
                {
                    "data": {
                        "application/vnd.microsoft.datawrangler.viewer.v0+json": {
                            "columns": [
                                {
                                    "name": "index",
                                    "rawType": "int64",
                                    "type": "integer"
                                },
                                {
                                    "name": "JobRole",
                                    "rawType": "object",
                                    "type": "string"
                                },
                                {
                                    "name": "Attrition",
                                    "rawType": "int64",
                                    "type": "integer"
                                }
                            ],
                            "ref": "366f6209-e369-4d0d-9391-3ae6261f65b4",
                            "rows": [
                                [
                                    "0",
                                    "Laboratory Technician",
                                    "49"
                                ],
                                [
                                    "1",
                                    "Sales Executive",
                                    "39"
                                ],
                                [
                                    "2",
                                    "Research Scientist",
                                    "38"
                                ],
                                [
                                    "3",
                                    "Sales Representative",
                                    "25"
                                ],
                                [
                                    "4",
                                    "Healthcare Representative",
                                    "8"
                                ],
                                [
                                    "5",
                                    "Manufacturing Director",
                                    "7"
                                ],
                                [
                                    "6",
                                    "Human Resources",
                                    "6"
                                ],
                                [
                                    "7",
                                    "Manager",
                                    "5"
                                ],
                                [
                                    "8",
                                    "Research Director",
                                    "2"
                                ]
                            ],
                            "shape": {
                                "columns": 2,
                                "rows": 9
                            }
                        },
                        "text/html": [
                            "<div>\n",
                            "<style scoped>\n",
                            "    .dataframe tbody tr th:only-of-type {\n",
                            "        vertical-align: middle;\n",
                            "    }\n",
                            "\n",
                            "    .dataframe tbody tr th {\n",
                            "        vertical-align: top;\n",
                            "    }\n",
                            "\n",
                            "    .dataframe thead th {\n",
                            "        text-align: right;\n",
                            "    }\n",
                            "</style>\n",
                            "<table border=\"1\" class=\"dataframe\">\n",
                            "  <thead>\n",
                            "    <tr style=\"text-align: right;\">\n",
                            "      <th></th>\n",
                            "      <th>JobRole</th>\n",
                            "      <th>Attrition</th>\n",
                            "    </tr>\n",
                            "  </thead>\n",
                            "  <tbody>\n",
                            "    <tr>\n",
                            "      <th>0</th>\n",
                            "      <td>Laboratory Technician</td>\n",
                            "      <td>49</td>\n",
                            "    </tr>\n",
                            "    <tr>\n",
                            "      <th>1</th>\n",
                            "      <td>Sales Executive</td>\n",
                            "      <td>39</td>\n",
                            "    </tr>\n",
                            "    <tr>\n",
                            "      <th>2</th>\n",
                            "      <td>Research Scientist</td>\n",
                            "      <td>38</td>\n",
                            "    </tr>\n",
                            "    <tr>\n",
                            "      <th>3</th>\n",
                            "      <td>Sales Representative</td>\n",
                            "      <td>25</td>\n",
                            "    </tr>\n",
                            "    <tr>\n",
                            "      <th>4</th>\n",
                            "      <td>Healthcare Representative</td>\n",
                            "      <td>8</td>\n",
                            "    </tr>\n",
                            "    <tr>\n",
                            "      <th>5</th>\n",
                            "      <td>Manufacturing Director</td>\n",
                            "      <td>7</td>\n",
                            "    </tr>\n",
                            "    <tr>\n",
                            "      <th>6</th>\n",
                            "      <td>Human Resources</td>\n",
                            "      <td>6</td>\n",
                            "    </tr>\n",
                            "    <tr>\n",
                            "      <th>7</th>\n",
                            "      <td>Manager</td>\n",
                            "      <td>5</td>\n",
                            "    </tr>\n",
                            "    <tr>\n",
                            "      <th>8</th>\n",
                            "      <td>Research Director</td>\n",
                            "      <td>2</td>\n",
                            "    </tr>\n",
                            "  </tbody>\n",
                            "</table>\n",
                            "</div>"
                        ],
                        "text/plain": [
                            "                     JobRole  Attrition\n",
                            "0      Laboratory Technician         49\n",
                            "1            Sales Executive         39\n",
                            "2         Research Scientist         38\n",
                            "3       Sales Representative         25\n",
                            "4  Healthcare Representative          8\n",
                            "5     Manufacturing Director          7\n",
                            "6            Human Resources          6\n",
                            "7                    Manager          5\n",
                            "8          Research Director          2"
                        ]
                    },
                    "execution_count": 224,
                    "metadata": {},
                    "output_type": "execute_result"
                }
            ],
            "source": [
                "job_attr = (\n",
                "    pd.pivot_table(\n",
                "        df[df[\"Attrition\"] == 1],\n",
                "        index=\"JobRole\",\n",
                "        values=\"Attrition\",\n",
                "        aggfunc=\"count\",\n",
                "    )\n",
                "    .sort_values(by=\"Attrition\", ascending=False)\n",
                "    .reset_index()\n",
                ")\n",
                "job_attr"
            ]
        },
        {
            "cell_type": "code",
            "execution_count": null,
            "metadata": {},
            "outputs": [],
            "source": [
                "category_job_role = {\n",
                "    \"Sales Executive\": \"Sales\",\n",
                "    \"Research Scientist\": \"Research\",\n",
                "    \"Laboratory Technician\": \"Research\",\n",
                "    \"Manufacturing Director\": \"Manufacturing\",\n",
                "    \"Healthcare Representative\": \"Healthcare\",\n",
                "    \"Manager\": \"Management\",\n",
                "    \"Sales Representative\": \"Sales\",\n",
                "    \"Research Director\": \"Research\",\n",
                "    \"Human Resources\": \"HR\",\n",
                "}\n",
                "\n",
                "df[\"JobRoleCategory\"] = df[\"JobRole\"].map(category_job_role)"
            ]
        },
        {
            "cell_type": "code",
            "execution_count": 228,
            "metadata": {},
            "outputs": [
                {
                    "data": {
                        "application/vnd.microsoft.datawrangler.viewer.v0+json": {
                            "columns": [
                                {
                                    "name": "index",
                                    "rawType": "int64",
                                    "type": "integer"
                                },
                                {
                                    "name": "JobRoleCategory",
                                    "rawType": "object",
                                    "type": "string"
                                },
                                {
                                    "name": "Attrition",
                                    "rawType": "int64",
                                    "type": "integer"
                                }
                            ],
                            "ref": "be7705d3-17c8-4694-89db-3333354e59b7",
                            "rows": [
                                [
                                    "0",
                                    "Research",
                                    "89"
                                ],
                                [
                                    "1",
                                    "Sales",
                                    "64"
                                ],
                                [
                                    "2",
                                    "Healthcare",
                                    "8"
                                ],
                                [
                                    "3",
                                    "Manufacturing",
                                    "7"
                                ],
                                [
                                    "4",
                                    "HR",
                                    "6"
                                ],
                                [
                                    "5",
                                    "Management",
                                    "5"
                                ]
                            ],
                            "shape": {
                                "columns": 2,
                                "rows": 6
                            }
                        },
                        "text/html": [
                            "<div>\n",
                            "<style scoped>\n",
                            "    .dataframe tbody tr th:only-of-type {\n",
                            "        vertical-align: middle;\n",
                            "    }\n",
                            "\n",
                            "    .dataframe tbody tr th {\n",
                            "        vertical-align: top;\n",
                            "    }\n",
                            "\n",
                            "    .dataframe thead th {\n",
                            "        text-align: right;\n",
                            "    }\n",
                            "</style>\n",
                            "<table border=\"1\" class=\"dataframe\">\n",
                            "  <thead>\n",
                            "    <tr style=\"text-align: right;\">\n",
                            "      <th></th>\n",
                            "      <th>JobRoleCategory</th>\n",
                            "      <th>Attrition</th>\n",
                            "    </tr>\n",
                            "  </thead>\n",
                            "  <tbody>\n",
                            "    <tr>\n",
                            "      <th>0</th>\n",
                            "      <td>Research</td>\n",
                            "      <td>89</td>\n",
                            "    </tr>\n",
                            "    <tr>\n",
                            "      <th>1</th>\n",
                            "      <td>Sales</td>\n",
                            "      <td>64</td>\n",
                            "    </tr>\n",
                            "    <tr>\n",
                            "      <th>2</th>\n",
                            "      <td>Healthcare</td>\n",
                            "      <td>8</td>\n",
                            "    </tr>\n",
                            "    <tr>\n",
                            "      <th>3</th>\n",
                            "      <td>Manufacturing</td>\n",
                            "      <td>7</td>\n",
                            "    </tr>\n",
                            "    <tr>\n",
                            "      <th>4</th>\n",
                            "      <td>HR</td>\n",
                            "      <td>6</td>\n",
                            "    </tr>\n",
                            "    <tr>\n",
                            "      <th>5</th>\n",
                            "      <td>Management</td>\n",
                            "      <td>5</td>\n",
                            "    </tr>\n",
                            "  </tbody>\n",
                            "</table>\n",
                            "</div>"
                        ],
                        "text/plain": [
                            "  JobRoleCategory  Attrition\n",
                            "0        Research         89\n",
                            "1           Sales         64\n",
                            "2      Healthcare          8\n",
                            "3   Manufacturing          7\n",
                            "4              HR          6\n",
                            "5      Management          5"
                        ]
                    },
                    "execution_count": 228,
                    "metadata": {},
                    "output_type": "execute_result"
                }
            ],
            "source": [
                "job_attrr_category = (\n",
                "    pd.pivot_table(\n",
                "        df[df[\"Attrition\"] == 1],\n",
                "        index=\"JobRoleCategory\",\n",
                "        values=\"Attrition\",\n",
                "        aggfunc=\"count\",\n",
                "    )\n",
                "    .sort_values(by=\"Attrition\", ascending=False)\n",
                "    .reset_index()\n",
                ")\n",
                "job_attrr_category"
            ]
        },
        {
            "cell_type": "code",
            "execution_count": 236,
            "metadata": {},
            "outputs": [
                {
                    "data": {
                        "image/png": "[encoded data removed]",
                        "text/plain": [
                            "<Figure size 1000x600 with 1 Axes>"
                        ]
                    },
                    "metadata": {},
                    "output_type": "display_data"
                }
            ],
            "source": [
                "# Visualisasi\n",
                "top_3_roles = (\n",
                "    job_attrr_category.sort_values(\"Attrition\", ascending=False)\n",
                "    .head(3)[\"JobRoleCategory\"]\n",
                "    .tolist()\n",
                ")\n",
                "\n",
                "# Buat palette warna: pink untuk top 3, abu untuk lainnya\n",
                "palette = {\n",
                "    role: \"#FFB0A9\" if role in top_3_roles else \"#CCCCCC\"\n",
                "    for role in job_attrr_category[\"JobRoleCategory\"]\n",
                "}\n",
                "\n",
                "# Plot\n",
                "plt.figure(figsize=(10, 6))\n",
                "sns.barplot(\n",
                "    data=job_attrr_category, x=\"JobRoleCategory\", y=\"Attrition\", palette=palette\n",
                ")\n",
                "plt.title(\"Jumlah Karyawan Keluar per Kategori Job Role\")\n",
                "plt.xlabel(\"Kategori Job Role\")\n",
                "plt.ylabel(\"Jumlah Keluar\")\n",
                "plt.xticks()\n",
                "\n",
                "# Tambahkan label angka di atas bar\n",
                "for index, row in job_attrr_category.iterrows():\n",
                "    plt.text(\n",
                "        x=index,\n",
                "        y=row[\"Attrition\"] + 1,\n",
                "        s=int(row[\"Attrition\"]),\n",
                "        ha=\"center\",\n",
                "        va=\"bottom\",\n",
                "        fontsize=10,\n",
                "        color=\"black\",\n",
                "    )\n",
                "\n",
                "plt.tight_layout()\n",
                "plt.show()"
            ]
        },
        {
            "cell_type": "markdown",
            "metadata": {},
            "source": [
                "### Kepuasan & Komitmen Emosional\n"
            ]
        },
        {
            "cell_type": "code",
            "execution_count": null,
            "metadata": {},
            "outputs": [],
            "source": [
                "job_sat = (\n",
                "    df[df[\"Attrition\"] == 1][\"JobSatisfaction\"]\n",
                "    .value_counts()\n",
                "    .sort_index()\n",
                "    .reset_index()\n",
                ")\n",
                "job_sat.columns = [\"JobSatisfaction\", \"Count\"]\n",
                "\n",
                "print(\"📊 Jumlah Karyawan Keluar Berdasarkan Job Satisfaction:\")\n",
                "print(job_sat)\n",
                "\n",
                "plt.figure(figsize=(6, 4))\n",
                "sns.barplot(data=job_sat, x=\"JobSatisfaction\", y=\"Count\", palette=\"Blues_d\")\n",
                "plt.title(\"Attrition Berdasarkan Job Satisfaction\")\n",
                "plt.xlabel(\"Job Satisfaction (1 = Rendah, 4 = Sangat Tinggi)\")\n",
                "plt.ylabel(\"Jumlah Keluar\")\n",
                "plt.tight_layout()\n",
                "plt.show()"
            ]
        },
        {
            "cell_type": "code",
            "execution_count": null,
            "metadata": {},
            "outputs": [],
            "source": [
                "env_sat = (\n",
                "    df[df[\"Attrition\"] == 1][\"EnvironmentSatisfaction\"]\n",
                "    .value_counts()\n",
                "    .sort_index()\n",
                "    .reset_index()\n",
                ")\n",
                "env_sat.columns = [\"EnvironmentSatisfaction\", \"Count\"]\n",
                "\n",
                "print(\"📊 Jumlah Karyawan Keluar Berdasarkan Environment Satisfaction:\")\n",
                "print(env_sat)\n",
                "\n",
                "plt.figure(figsize=(6, 4))\n",
                "sns.barplot(data=env_sat, x=\"EnvironmentSatisfaction\", y=\"Count\", palette=\"Greens\")\n",
                "plt.title(\"Attrition Berdasarkan Environment Satisfaction\")\n",
                "plt.xlabel(\"Environment Satisfaction (1 = Rendah, 4 = Sangat Tinggi)\")\n",
                "plt.ylabel(\"Jumlah Keluar\")\n",
                "plt.tight_layout()\n",
                "plt.show()"
            ]
        },
        {
            "cell_type": "code",
            "execution_count": null,
            "metadata": {},
            "outputs": [],
            "source": [
                "rel_sat = (\n",
                "    df[df[\"Attrition\"] == 1][\"RelationshipSatisfaction\"]\n",
                "    .value_counts()\n",
                "    .sort_index()\n",
                "    .reset_index()\n",
                ")\n",
                "rel_sat.columns = [\"RelationshipSatisfaction\", \"Count\"]\n",
                "\n",
                "print(\"📊 Jumlah Karyawan Keluar Berdasarkan Relationship Satisfaction:\")\n",
                "print(rel_sat)\n",
                "\n",
                "plt.figure(figsize=(6, 4))\n",
                "sns.barplot(data=rel_sat, x=\"RelationshipSatisfaction\", y=\"Count\", palette=\"Purples\")\n",
                "plt.title(\"Attrition Berdasarkan Relationship Satisfaction\")\n",
                "plt.xlabel(\"Relationship Satisfaction (1 = Rendah, 4 = Sangat Tinggi)\")\n",
                "plt.ylabel(\"Jumlah Keluar\")\n",
                "plt.tight_layout()\n",
                "plt.show()"
            ]
        },
        {
            "cell_type": "code",
            "execution_count": null,
            "metadata": {},
            "outputs": [],
            "source": [
                "job_inv = (\n",
                "    df[df[\"Attrition\"] == 1][\"JobInvolvement\"].value_counts().sort_index().reset_index()\n",
                ")\n",
                "job_inv.columns = [\"JobInvolvement\", \"Count\"]\n",
                "\n",
                "print(\"📊 Jumlah Karyawan Keluar Berdasarkan Job Involvement:\")\n",
                "print(job_inv)\n",
                "\n",
                "plt.figure(figsize=(6, 4))\n",
                "sns.barplot(data=job_inv, x=\"JobInvolvement\", y=\"Count\", palette=\"Reds\")\n",
                "plt.title(\"Attrition Berdasarkan Job Involvement\")\n",
                "plt.xlabel(\"Job Involvement (1 = Rendah, 4 = Sangat Tinggi)\")\n",
                "plt.ylabel(\"Jumlah Keluar\")\n",
                "plt.tight_layout()\n",
                "plt.show()"
            ]
        },
        {
            "cell_type": "markdown",
            "metadata": {},
            "source": [
                "### Waktu & Pengalaman\n"
            ]
        },
        {
            "cell_type": "code",
            "execution_count": null,
            "metadata": {},
            "outputs": [],
            "source": [
                "years_company = (\n",
                "    df[df[\"Attrition\"] == 1][\"YearsAtCompany\"].value_counts().sort_index().reset_index()\n",
                ")\n",
                "years_company.columns = [\"YearsAtCompany\", \"Count\"]\n",
                "\n",
                "print(\"📊 Jumlah Karyawan Keluar Berdasarkan Years At Company:\")\n",
                "print(years_company)\n",
                "\n",
                "plt.figure(figsize=(10, 4))\n",
                "sns.barplot(data=years_company, x=\"YearsAtCompany\", y=\"Count\", color=\"teal\")\n",
                "plt.title(\"Attrition vs Years At Company\")\n",
                "plt.xlabel(\"Tahun di Perusahaan\")\n",
                "plt.ylabel(\"Jumlah Keluar\")\n",
                "plt.tight_layout()\n",
                "plt.show()"
            ]
        },
        {
            "cell_type": "code",
            "execution_count": null,
            "metadata": {},
            "outputs": [],
            "source": [
                "years_role = (\n",
                "    df[df[\"Attrition\"] == 1][\"YearsInCurrentRole\"]\n",
                "    .value_counts()\n",
                "    .sort_index()\n",
                "    .reset_index()\n",
                ")\n",
                "years_role.columns = [\"YearsInCurrentRole\", \"Count\"]\n",
                "\n",
                "print(\"📊 Jumlah Karyawan Keluar Berdasarkan Years in Current Role:\")\n",
                "print(years_role)\n",
                "\n",
                "plt.figure(figsize=(10, 4))\n",
                "sns.barplot(data=years_role, x=\"YearsInCurrentRole\", y=\"Count\", color=\"steelblue\")\n",
                "plt.title(\"Attrition vs Years in Current Role\")\n",
                "plt.xlabel(\"Tahun di Role Saat Ini\")\n",
                "plt.ylabel(\"Jumlah Keluar\")\n",
                "plt.tight_layout()\n",
                "plt.show()"
            ]
        },
        {
            "cell_type": "code",
            "execution_count": null,
            "metadata": {},
            "outputs": [],
            "source": [
                "years_promo = (\n",
                "    df[df[\"Attrition\"] == 1][\"YearsSinceLastPromotion\"]\n",
                "    .value_counts()\n",
                "    .sort_index()\n",
                "    .reset_index()\n",
                ")\n",
                "years_promo.columns = [\"YearsSinceLastPromotion\", \"Count\"]\n",
                "\n",
                "print(\"📊 Jumlah Karyawan Keluar Berdasarkan Years Since Last Promotion:\")\n",
                "print(years_promo)\n",
                "\n",
                "plt.figure(figsize=(10, 4))\n",
                "sns.barplot(data=years_promo, x=\"YearsSinceLastPromotion\", y=\"Count\", color=\"orange\")\n",
                "plt.title(\"Attrition vs Years Since Last Promotion\")\n",
                "plt.xlabel(\"Tahun Sejak Promosi Terakhir\")\n",
                "plt.ylabel(\"Jumlah Keluar\")\n",
                "plt.tight_layout()\n",
                "plt.show()"
            ]
        },
        {
            "cell_type": "code",
            "execution_count": null,
            "metadata": {},
            "outputs": [],
            "source": [
                "years_mgr = (\n",
                "    df[df[\"Attrition\"] == 1][\"YearsWithCurrManager\"]\n",
                "    .value_counts()\n",
                "    .sort_index()\n",
                "    .reset_index()\n",
                ")\n",
                "years_mgr.columns = [\"YearsWithCurrManager\", \"Count\"]\n",
                "\n",
                "print(\"📊 Jumlah Karyawan Keluar Berdasarkan Years with Current Manager:\")\n",
                "print(years_mgr)\n",
                "\n",
                "plt.figure(figsize=(10, 4))\n",
                "sns.barplot(data=years_mgr, x=\"YearsWithCurrManager\", y=\"Count\", color=\"mediumpurple\")\n",
                "plt.title(\"Attrition vs Years with Current Manager\")\n",
                "plt.xlabel(\"Tahun dengan Manajer Saat Ini\")\n",
                "plt.ylabel(\"Jumlah Keluar\")\n",
                "plt.tight_layout()\n",
                "plt.show()"
            ]
        },
        {
            "cell_type": "code",
            "execution_count": null,
            "metadata": {},
            "outputs": [],
            "source": [
                "working_years = (\n",
                "    df[df[\"Attrition\"] == 1][\"TotalWorkingYears\"]\n",
                "    .value_counts()\n",
                "    .sort_index()\n",
                "    .reset_index()\n",
                ")\n",
                "working_years.columns = [\"TotalWorkingYears\", \"Count\"]\n",
                "\n",
                "print(\"📊 Jumlah Karyawan Keluar Berdasarkan Total Working Years:\")\n",
                "print(working_years)\n",
                "\n",
                "plt.figure(figsize=(12, 4))\n",
                "sns.barplot(data=working_years, x=\"TotalWorkingYears\", y=\"Count\", color=\"darkgreen\")\n",
                "plt.title(\"Attrition vs Total Working Years\")\n",
                "plt.xlabel(\"Total Tahun Pengalaman\")\n",
                "plt.ylabel(\"Jumlah Keluar\")\n",
                "plt.tight_layout()\n",
                "plt.show()"
            ]
        },
        {
            "cell_type": "code",
            "execution_count": null,
            "metadata": {},
            "outputs": [],
            "source": [
                "num_companies = (\n",
                "    df[df[\"Attrition\"] == 1][\"NumCompaniesWorked\"]\n",
                "    .value_counts()\n",
                "    .sort_index()\n",
                "    .reset_index()\n",
                ")\n",
                "num_companies.columns = [\"NumCompaniesWorked\", \"Count\"]\n",
                "\n",
                "print(\"📊 Jumlah Karyawan Keluar Berdasarkan Jumlah Perusahaan Sebelumnya:\")\n",
                "print(num_companies)\n",
                "\n",
                "plt.figure(figsize=(10, 4))\n",
                "sns.barplot(data=num_companies, x=\"NumCompaniesWorked\", y=\"Count\", color=\"firebrick\")\n",
                "plt.title(\"Attrition vs Number of Companies Worked At\")\n",
                "plt.xlabel(\"Jumlah Perusahaan Pernah Bekerja\")\n",
                "plt.ylabel(\"Jumlah Keluar\")\n",
                "plt.tight_layout()\n",
                "plt.show()"
            ]
        },
        {
            "cell_type": "markdown",
            "metadata": {},
            "source": [
                "### Mobilitas & Komitmen\n"
            ]
        },
        {
            "cell_type": "code",
            "execution_count": null,
            "metadata": {},
            "outputs": [],
            "source": [
                "# Bar chart DistanceFromHome - Attrition = 1\n",
                "distance = (\n",
                "    df[df[\"Attrition\"] == 1][\"DistanceFromHome\"]\n",
                "    .value_counts()\n",
                "    .sort_index()\n",
                "    .reset_index()\n",
                ")\n",
                "distance.columns = [\"DistanceFromHome\", \"Count\"]\n",
                "\n",
                "print(\"📊 Jumlah Karyawan Keluar Berdasarkan Jarak dari Rumah:\")\n",
                "print(distance)\n",
                "\n",
                "plt.figure(figsize=(12, 4))\n",
                "sns.barplot(data=distance, x=\"DistanceFromHome\", y=\"Count\", color=\"darkcyan\")\n",
                "plt.title(\"Attrition vs Distance From Home\")\n",
                "plt.xlabel(\"Jarak dari Rumah (km)\")\n",
                "plt.ylabel(\"Jumlah Karyawan Keluar\")\n",
                "plt.tight_layout()\n",
                "plt.show()"
            ]
        },
        {
            "cell_type": "code",
            "execution_count": null,
            "metadata": {},
            "outputs": [],
            "source": [
                "# Bar chart BusinessTravel\n",
                "bt = df[df[\"Attrition\"] == 1][\"BusinessTravel\"].value_counts().reset_index()\n",
                "bt.columns = [\"BusinessTravel\", \"Count\"]\n",
                "\n",
                "print(\"📊 Jumlah Karyawan Keluar Berdasarkan Business Travel:\")\n",
                "print(bt)\n",
                "\n",
                "plt.figure(figsize=(6, 4))\n",
                "sns.barplot(data=bt, x=\"BusinessTravel\", y=\"Count\", palette=\"pastel\")\n",
                "plt.title(\"Attrition vs Business Travel\")\n",
                "plt.xlabel(\"Tipe Perjalanan Dinas\")\n",
                "plt.ylabel(\"Jumlah Karyawan Keluar\")\n",
                "plt.tight_layout()\n",
                "plt.show()"
            ]
        },
        {
            "cell_type": "code",
            "execution_count": null,
            "metadata": {},
            "outputs": [],
            "source": [
                "# Bar chart OverTime\n",
                "ot = df[df[\"Attrition\"] == 1][\"OverTime\"].value_counts().reset_index()\n",
                "ot.columns = [\"OverTime\", \"Count\"]\n",
                "\n",
                "print(\"📊 Jumlah Karyawan Keluar Berdasarkan Lembur:\")\n",
                "print(ot)\n",
                "\n",
                "plt.figure(figsize=(5, 4))\n",
                "sns.barplot(data=ot, x=\"OverTime\", y=\"Count\", palette=\"Set2\")\n",
                "plt.title(\"Attrition vs Overtime\")\n",
                "plt.xlabel(\"Lembur\")\n",
                "plt.ylabel(\"Jumlah Karyawan Keluar\")\n",
                "plt.tight_layout()\n",
                "plt.show()"
            ]
        },
        {
            "cell_type": "markdown",
            "metadata": {},
            "source": [
                "## Modeling\n"
            ]
        },
        {
            "cell_type": "code",
            "execution_count": null,
            "metadata": {},
            "outputs": [],
            "source": [
                "from sklearn.model_selection import train_test_split\n",
                "from sklearn.preprocessing import LabelEncoder\n",
                "from sklearn.ensemble import RandomForestClassifier\n",
                "from sklearn.metrics import classification_report, confusion_matrix, accuracy_score\n",
                "import seaborn as sns\n",
                "import matplotlib.pyplot as plt\n",
                "\n",
                "# Copy dataset\n",
                "df_model = df.copy()\n",
                "\n",
                "# Drop kolom yang tidak diperlukan\n",
                "df_model.drop([\"EmployeeId\", \"Over18\", \"StandardHours\"], axis=1, inplace=True)\n",
                "\n",
                "# Label encoding untuk fitur kategorikal\n",
                "le = LabelEncoder()\n",
                "for col in df_model.select_dtypes(include=[\"object\"]).columns:\n",
                "    df_model[col] = le.fit_transform(df_model[col])\n",
                "\n",
                "# Pisahkan fitur dan target\n",
                "X = df_model.drop(\"Attrition\", axis=1)\n",
                "y = df_model[\"Attrition\"]\n",
                "\n",
                "# Split data\n",
                "X_train, X_test, y_train, y_test = train_test_split(\n",
                "    X, y, test_size=0.2, random_state=42, stratify=y\n",
                ")"
            ]
        },
        {
            "cell_type": "markdown",
            "metadata": {},
            "source": [
                "## Evaluation\n"
            ]
        },
        {
            "cell_type": "code",
            "execution_count": null,
            "metadata": {},
            "outputs": [],
            "source": []
        }
    ],
    "metadata": {
        "kernelspec": {
            "display_name": "base",
            "language": "python",
            "name": "python3"
        },
        "language_info": {
            "codemirror_mode": {
                "name": "ipython",
                "version": 3
            },
            "file_extension": ".py",
            "mimetype": "text/x-python",
            "name": "python",
            "nbconvert_exporter": "python",
            "pygments_lexer": "ipython3",
            "version": "3.12.9"
        },
        "orig_nbformat": 4
    },
    "nbformat": 4,
    "nbformat_minor": 2
}
