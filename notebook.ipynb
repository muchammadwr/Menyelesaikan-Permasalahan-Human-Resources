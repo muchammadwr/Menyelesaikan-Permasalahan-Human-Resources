{
    "cells": [
        {
            "cell_type": "markdown",
            "metadata": {},
            "source": [
                "# Proyek Pertama: Menyelesaikan Permasalahan Human Resources Perusahaan Jaya Jaya Maju\n"
            ]
        },
        {
            "cell_type": "markdown",
            "metadata": {},
            "source": [
                "- Nama: Muchammad Wildan Alkautsar\n",
                "- Email: muchammadwr@gmail.com\n",
                "- Id Dicoding: muchammadwr\n"
            ]
        },
        {
            "cell_type": "markdown",
            "metadata": {},
            "source": [
                "## Persiapan\n"
            ]
        },
        {
            "cell_type": "markdown",
            "metadata": {},
            "source": [
                "### Menyiapkan library yang dibutuhkan\n"
            ]
        },
        {
            "cell_type": "code",
            "execution_count": 1,
            "metadata": {},
            "outputs": [],
            "source": [
                "import numpy as np\n",
                "import pandas as pd\n",
                "import matplotlib.pyplot as plt\n",
                "import seaborn as sns\n",
                "from sklearn.model_selection import train_test_split\n",
                "from sklearn.preprocessing import StandardScaler\n",
                "from sklearn.compose import ColumnTransformer\n",
                "from sklearn.pipeline import Pipeline\n",
                "from sklearn.linear_model import LogisticRegression\n",
                "from sklearn.metrics import classification_report, accuracy_score\n",
                "import warnings\n",
                "\n",
                "warnings.filterwarnings(\"ignore\")"
            ]
        },
        {
            "cell_type": "markdown",
            "metadata": {},
            "source": [
                "### Menyiapkan data yang akan diguankan\n"
            ]
        },
        {
            "cell_type": "markdown",
            "metadata": {},
            "source": [
                "## Data Understanding\n"
            ]
        },
        {
            "cell_type": "code",
            "execution_count": 2,
            "metadata": {},
            "outputs": [
                {
                    "data": {
                        "application/vnd.microsoft.datawrangler.viewer.v0+json": {
                            "columns": [
                                {
                                    "name": "index",
                                    "rawType": "int64",
                                    "type": "integer"
                                },
                                {
                                    "name": "EmployeeId",
                                    "rawType": "int64",
                                    "type": "integer"
                                },
                                {
                                    "name": "Age",
                                    "rawType": "int64",
                                    "type": "integer"
                                },
                                {
                                    "name": "Attrition",
                                    "rawType": "float64",
                                    "type": "float"
                                },
                                {
                                    "name": "BusinessTravel",
                                    "rawType": "object",
                                    "type": "string"
                                },
                                {
                                    "name": "DailyRate",
                                    "rawType": "int64",
                                    "type": "integer"
                                },
                                {
                                    "name": "Department",
                                    "rawType": "object",
                                    "type": "string"
                                },
                                {
                                    "name": "DistanceFromHome",
                                    "rawType": "int64",
                                    "type": "integer"
                                },
                                {
                                    "name": "Education",
                                    "rawType": "int64",
                                    "type": "integer"
                                },
                                {
                                    "name": "EducationField",
                                    "rawType": "object",
                                    "type": "string"
                                },
                                {
                                    "name": "EmployeeCount",
                                    "rawType": "int64",
                                    "type": "integer"
                                },
                                {
                                    "name": "EnvironmentSatisfaction",
                                    "rawType": "int64",
                                    "type": "integer"
                                },
                                {
                                    "name": "Gender",
                                    "rawType": "object",
                                    "type": "string"
                                },
                                {
                                    "name": "HourlyRate",
                                    "rawType": "int64",
                                    "type": "integer"
                                },
                                {
                                    "name": "JobInvolvement",
                                    "rawType": "int64",
                                    "type": "integer"
                                },
                                {
                                    "name": "JobLevel",
                                    "rawType": "int64",
                                    "type": "integer"
                                },
                                {
                                    "name": "JobRole",
                                    "rawType": "object",
                                    "type": "string"
                                },
                                {
                                    "name": "JobSatisfaction",
                                    "rawType": "int64",
                                    "type": "integer"
                                },
                                {
                                    "name": "MaritalStatus",
                                    "rawType": "object",
                                    "type": "string"
                                },
                                {
                                    "name": "MonthlyIncome",
                                    "rawType": "int64",
                                    "type": "integer"
                                },
                                {
                                    "name": "MonthlyRate",
                                    "rawType": "int64",
                                    "type": "integer"
                                },
                                {
                                    "name": "NumCompaniesWorked",
                                    "rawType": "int64",
                                    "type": "integer"
                                },
                                {
                                    "name": "Over18",
                                    "rawType": "object",
                                    "type": "string"
                                },
                                {
                                    "name": "OverTime",
                                    "rawType": "object",
                                    "type": "string"
                                },
                                {
                                    "name": "PercentSalaryHike",
                                    "rawType": "int64",
                                    "type": "integer"
                                },
                                {
                                    "name": "PerformanceRating",
                                    "rawType": "int64",
                                    "type": "integer"
                                },
                                {
                                    "name": "RelationshipSatisfaction",
                                    "rawType": "int64",
                                    "type": "integer"
                                },
                                {
                                    "name": "StandardHours",
                                    "rawType": "int64",
                                    "type": "integer"
                                },
                                {
                                    "name": "StockOptionLevel",
                                    "rawType": "int64",
                                    "type": "integer"
                                },
                                {
                                    "name": "TotalWorkingYears",
                                    "rawType": "int64",
                                    "type": "integer"
                                },
                                {
                                    "name": "TrainingTimesLastYear",
                                    "rawType": "int64",
                                    "type": "integer"
                                },
                                {
                                    "name": "WorkLifeBalance",
                                    "rawType": "int64",
                                    "type": "integer"
                                },
                                {
                                    "name": "YearsAtCompany",
                                    "rawType": "int64",
                                    "type": "integer"
                                },
                                {
                                    "name": "YearsInCurrentRole",
                                    "rawType": "int64",
                                    "type": "integer"
                                },
                                {
                                    "name": "YearsSinceLastPromotion",
                                    "rawType": "int64",
                                    "type": "integer"
                                },
                                {
                                    "name": "YearsWithCurrManager",
                                    "rawType": "int64",
                                    "type": "integer"
                                }
                            ],
                            "ref": "be1840b0-bfae-403c-8a63-d7e51e9754bc",
                            "rows": [
                                [
                                    "0",
                                    "1",
                                    "38",
                                    null,
                                    "Travel_Frequently",
                                    "1444",
                                    "Human Resources",
                                    "1",
                                    "4",
                                    "Other",
                                    "1",
                                    "4",
                                    "Male",
                                    "88",
                                    "3",
                                    "1",
                                    "Human Resources",
                                    "2",
                                    "Married",
                                    "2991",
                                    "5224",
                                    "0",
                                    "Y",
                                    "Yes",
                                    "11",
                                    "3",
                                    "2",
                                    "80",
                                    "1",
                                    "7",
                                    "2",
                                    "3",
                                    "6",
                                    "2",
                                    "1",
                                    "2"
                                ],
                                [
                                    "1",
                                    "2",
                                    "37",
                                    "1.0",
                                    "Travel_Rarely",
                                    "1141",
                                    "Research & Development",
                                    "11",
                                    "2",
                                    "Medical",
                                    "1",
                                    "1",
                                    "Female",
                                    "61",
                                    "1",
                                    "2",
                                    "Healthcare Representative",
                                    "2",
                                    "Married",
                                    "4777",
                                    "14382",
                                    "5",
                                    "Y",
                                    "No",
                                    "15",
                                    "3",
                                    "1",
                                    "80",
                                    "0",
                                    "15",
                                    "2",
                                    "1",
                                    "1",
                                    "0",
                                    "0",
                                    "0"
                                ],
                                [
                                    "2",
                                    "3",
                                    "51",
                                    "1.0",
                                    "Travel_Rarely",
                                    "1323",
                                    "Research & Development",
                                    "4",
                                    "4",
                                    "Life Sciences",
                                    "1",
                                    "1",
                                    "Male",
                                    "34",
                                    "3",
                                    "1",
                                    "Research Scientist",
                                    "3",
                                    "Married",
                                    "2461",
                                    "10332",
                                    "9",
                                    "Y",
                                    "Yes",
                                    "12",
                                    "3",
                                    "3",
                                    "80",
                                    "3",
                                    "18",
                                    "2",
                                    "4",
                                    "10",
                                    "0",
                                    "2",
                                    "7"
                                ],
                                [
                                    "3",
                                    "4",
                                    "42",
                                    "0.0",
                                    "Travel_Frequently",
                                    "555",
                                    "Sales",
                                    "26",
                                    "3",
                                    "Marketing",
                                    "1",
                                    "3",
                                    "Female",
                                    "77",
                                    "3",
                                    "4",
                                    "Sales Executive",
                                    "2",
                                    "Married",
                                    "13525",
                                    "14864",
                                    "5",
                                    "Y",
                                    "No",
                                    "14",
                                    "3",
                                    "4",
                                    "80",
                                    "1",
                                    "23",
                                    "2",
                                    "4",
                                    "20",
                                    "4",
                                    "4",
                                    "8"
                                ],
                                [
                                    "4",
                                    "5",
                                    "40",
                                    null,
                                    "Travel_Rarely",
                                    "1194",
                                    "Research & Development",
                                    "2",
                                    "4",
                                    "Medical",
                                    "1",
                                    "3",
                                    "Female",
                                    "98",
                                    "3",
                                    "1",
                                    "Research Scientist",
                                    "3",
                                    "Married",
                                    "2001",
                                    "12549",
                                    "2",
                                    "Y",
                                    "No",
                                    "14",
                                    "3",
                                    "2",
                                    "80",
                                    "3",
                                    "20",
                                    "2",
                                    "3",
                                    "5",
                                    "3",
                                    "0",
                                    "2"
                                ]
                            ],
                            "shape": {
                                "columns": 35,
                                "rows": 5
                            }
                        },
                        "text/html": [
                            "<div>\n",
                            "<style scoped>\n",
                            "    .dataframe tbody tr th:only-of-type {\n",
                            "        vertical-align: middle;\n",
                            "    }\n",
                            "\n",
                            "    .dataframe tbody tr th {\n",
                            "        vertical-align: top;\n",
                            "    }\n",
                            "\n",
                            "    .dataframe thead th {\n",
                            "        text-align: right;\n",
                            "    }\n",
                            "</style>\n",
                            "<table border=\"1\" class=\"dataframe\">\n",
                            "  <thead>\n",
                            "    <tr style=\"text-align: right;\">\n",
                            "      <th></th>\n",
                            "      <th>EmployeeId</th>\n",
                            "      <th>Age</th>\n",
                            "      <th>Attrition</th>\n",
                            "      <th>BusinessTravel</th>\n",
                            "      <th>DailyRate</th>\n",
                            "      <th>Department</th>\n",
                            "      <th>DistanceFromHome</th>\n",
                            "      <th>Education</th>\n",
                            "      <th>EducationField</th>\n",
                            "      <th>EmployeeCount</th>\n",
                            "      <th>...</th>\n",
                            "      <th>RelationshipSatisfaction</th>\n",
                            "      <th>StandardHours</th>\n",
                            "      <th>StockOptionLevel</th>\n",
                            "      <th>TotalWorkingYears</th>\n",
                            "      <th>TrainingTimesLastYear</th>\n",
                            "      <th>WorkLifeBalance</th>\n",
                            "      <th>YearsAtCompany</th>\n",
                            "      <th>YearsInCurrentRole</th>\n",
                            "      <th>YearsSinceLastPromotion</th>\n",
                            "      <th>YearsWithCurrManager</th>\n",
                            "    </tr>\n",
                            "  </thead>\n",
                            "  <tbody>\n",
                            "    <tr>\n",
                            "      <th>0</th>\n",
                            "      <td>1</td>\n",
                            "      <td>38</td>\n",
                            "      <td>NaN</td>\n",
                            "      <td>Travel_Frequently</td>\n",
                            "      <td>1444</td>\n",
                            "      <td>Human Resources</td>\n",
                            "      <td>1</td>\n",
                            "      <td>4</td>\n",
                            "      <td>Other</td>\n",
                            "      <td>1</td>\n",
                            "      <td>...</td>\n",
                            "      <td>2</td>\n",
                            "      <td>80</td>\n",
                            "      <td>1</td>\n",
                            "      <td>7</td>\n",
                            "      <td>2</td>\n",
                            "      <td>3</td>\n",
                            "      <td>6</td>\n",
                            "      <td>2</td>\n",
                            "      <td>1</td>\n",
                            "      <td>2</td>\n",
                            "    </tr>\n",
                            "    <tr>\n",
                            "      <th>1</th>\n",
                            "      <td>2</td>\n",
                            "      <td>37</td>\n",
                            "      <td>1.0</td>\n",
                            "      <td>Travel_Rarely</td>\n",
                            "      <td>1141</td>\n",
                            "      <td>Research &amp; Development</td>\n",
                            "      <td>11</td>\n",
                            "      <td>2</td>\n",
                            "      <td>Medical</td>\n",
                            "      <td>1</td>\n",
                            "      <td>...</td>\n",
                            "      <td>1</td>\n",
                            "      <td>80</td>\n",
                            "      <td>0</td>\n",
                            "      <td>15</td>\n",
                            "      <td>2</td>\n",
                            "      <td>1</td>\n",
                            "      <td>1</td>\n",
                            "      <td>0</td>\n",
                            "      <td>0</td>\n",
                            "      <td>0</td>\n",
                            "    </tr>\n",
                            "    <tr>\n",
                            "      <th>2</th>\n",
                            "      <td>3</td>\n",
                            "      <td>51</td>\n",
                            "      <td>1.0</td>\n",
                            "      <td>Travel_Rarely</td>\n",
                            "      <td>1323</td>\n",
                            "      <td>Research &amp; Development</td>\n",
                            "      <td>4</td>\n",
                            "      <td>4</td>\n",
                            "      <td>Life Sciences</td>\n",
                            "      <td>1</td>\n",
                            "      <td>...</td>\n",
                            "      <td>3</td>\n",
                            "      <td>80</td>\n",
                            "      <td>3</td>\n",
                            "      <td>18</td>\n",
                            "      <td>2</td>\n",
                            "      <td>4</td>\n",
                            "      <td>10</td>\n",
                            "      <td>0</td>\n",
                            "      <td>2</td>\n",
                            "      <td>7</td>\n",
                            "    </tr>\n",
                            "    <tr>\n",
                            "      <th>3</th>\n",
                            "      <td>4</td>\n",
                            "      <td>42</td>\n",
                            "      <td>0.0</td>\n",
                            "      <td>Travel_Frequently</td>\n",
                            "      <td>555</td>\n",
                            "      <td>Sales</td>\n",
                            "      <td>26</td>\n",
                            "      <td>3</td>\n",
                            "      <td>Marketing</td>\n",
                            "      <td>1</td>\n",
                            "      <td>...</td>\n",
                            "      <td>4</td>\n",
                            "      <td>80</td>\n",
                            "      <td>1</td>\n",
                            "      <td>23</td>\n",
                            "      <td>2</td>\n",
                            "      <td>4</td>\n",
                            "      <td>20</td>\n",
                            "      <td>4</td>\n",
                            "      <td>4</td>\n",
                            "      <td>8</td>\n",
                            "    </tr>\n",
                            "    <tr>\n",
                            "      <th>4</th>\n",
                            "      <td>5</td>\n",
                            "      <td>40</td>\n",
                            "      <td>NaN</td>\n",
                            "      <td>Travel_Rarely</td>\n",
                            "      <td>1194</td>\n",
                            "      <td>Research &amp; Development</td>\n",
                            "      <td>2</td>\n",
                            "      <td>4</td>\n",
                            "      <td>Medical</td>\n",
                            "      <td>1</td>\n",
                            "      <td>...</td>\n",
                            "      <td>2</td>\n",
                            "      <td>80</td>\n",
                            "      <td>3</td>\n",
                            "      <td>20</td>\n",
                            "      <td>2</td>\n",
                            "      <td>3</td>\n",
                            "      <td>5</td>\n",
                            "      <td>3</td>\n",
                            "      <td>0</td>\n",
                            "      <td>2</td>\n",
                            "    </tr>\n",
                            "  </tbody>\n",
                            "</table>\n",
                            "<p>5 rows × 35 columns</p>\n",
                            "</div>"
                        ],
                        "text/plain": [
                            "   EmployeeId  Age  Attrition     BusinessTravel  DailyRate  \\\n",
                            "0           1   38        NaN  Travel_Frequently       1444   \n",
                            "1           2   37        1.0      Travel_Rarely       1141   \n",
                            "2           3   51        1.0      Travel_Rarely       1323   \n",
                            "3           4   42        0.0  Travel_Frequently        555   \n",
                            "4           5   40        NaN      Travel_Rarely       1194   \n",
                            "\n",
                            "               Department  DistanceFromHome  Education EducationField  \\\n",
                            "0         Human Resources                 1          4          Other   \n",
                            "1  Research & Development                11          2        Medical   \n",
                            "2  Research & Development                 4          4  Life Sciences   \n",
                            "3                   Sales                26          3      Marketing   \n",
                            "4  Research & Development                 2          4        Medical   \n",
                            "\n",
                            "   EmployeeCount  ...  RelationshipSatisfaction StandardHours  \\\n",
                            "0              1  ...                         2            80   \n",
                            "1              1  ...                         1            80   \n",
                            "2              1  ...                         3            80   \n",
                            "3              1  ...                         4            80   \n",
                            "4              1  ...                         2            80   \n",
                            "\n",
                            "   StockOptionLevel  TotalWorkingYears  TrainingTimesLastYear WorkLifeBalance  \\\n",
                            "0                 1                  7                      2               3   \n",
                            "1                 0                 15                      2               1   \n",
                            "2                 3                 18                      2               4   \n",
                            "3                 1                 23                      2               4   \n",
                            "4                 3                 20                      2               3   \n",
                            "\n",
                            "   YearsAtCompany YearsInCurrentRole  YearsSinceLastPromotion  \\\n",
                            "0               6                  2                        1   \n",
                            "1               1                  0                        0   \n",
                            "2              10                  0                        2   \n",
                            "3              20                  4                        4   \n",
                            "4               5                  3                        0   \n",
                            "\n",
                            "   YearsWithCurrManager  \n",
                            "0                     2  \n",
                            "1                     0  \n",
                            "2                     7  \n",
                            "3                     8  \n",
                            "4                     2  \n",
                            "\n",
                            "[5 rows x 35 columns]"
                        ]
                    },
                    "execution_count": 2,
                    "metadata": {},
                    "output_type": "execute_result"
                }
            ],
            "source": [
                "# Load the dataset\n",
                "df = pd.read_csv(\"./data/employee_data.csv\")\n",
                "df.head()"
            ]
        },
        {
            "cell_type": "code",
            "execution_count": 3,
            "metadata": {},
            "outputs": [
                {
                    "name": "stdout",
                    "output_type": "stream",
                    "text": [
                        "<class 'pandas.core.frame.DataFrame'>\n",
                        "RangeIndex: 1470 entries, 0 to 1469\n",
                        "Data columns (total 17 columns):\n",
                        " #   Column                   Non-Null Count  Dtype  \n",
                        "---  ------                   --------------  -----  \n",
                        " 0   EmployeeId               1470 non-null   int64  \n",
                        " 1   Age                      1470 non-null   int64  \n",
                        " 2   Attrition                1058 non-null   float64\n",
                        " 3   BusinessTravel           1470 non-null   object \n",
                        " 4   DailyRate                1470 non-null   int64  \n",
                        " 5   Department               1470 non-null   object \n",
                        " 6   DistanceFromHome         1470 non-null   int64  \n",
                        " 7   Education                1470 non-null   int64  \n",
                        " 8   EducationField           1470 non-null   object \n",
                        " 9   EmployeeCount            1470 non-null   int64  \n",
                        " 10  EnvironmentSatisfaction  1470 non-null   int64  \n",
                        " 11  Gender                   1470 non-null   object \n",
                        " 12  HourlyRate               1470 non-null   int64  \n",
                        " 13  JobInvolvement           1470 non-null   int64  \n",
                        " 14  JobLevel                 1470 non-null   int64  \n",
                        " 15  JobRole                  1470 non-null   object \n",
                        " 16  JobSatisfaction          1470 non-null   int64  \n",
                        "dtypes: float64(1), int64(11), object(5)\n",
                        "memory usage: 195.4+ KB\n"
                    ]
                }
            ],
            "source": [
                "df.iloc[:, : len(df.columns) // 2].info()"
            ]
        },
        {
            "cell_type": "markdown",
            "metadata": {},
            "source": [
                "- **EmployeeId** - Employee Identifier\n",
                "- **Attrition** - Did the employee attrition? (0=no, 1=yes)\n",
                "- **Age** - Age of the employee\n",
                "- **BusinessTravel** - Travel commitments for the job\n",
                "- **DailyRate** - Daily salary\n",
                "- **Department** - Employee Department\n",
                "- **DistanceFromHome** - Distance from work to home (in km)\n",
                "- **Education** - 1-Below College, 2-College, 3-Bachelor, 4-Master,5-Doctor\n",
                "- **EducationField** - Field of Education\n",
                "- **EnvironmentSatisfaction** - 1-Low, 2-Medium, 3-High, 4-Very High\n",
                "- **Gender** - Employee's gender\n",
                "- **HourlyRate** - Hourly salary\n",
                "- **JobInvolvement** - 1-Low, 2-Medium, 3-High, 4-Very High\n",
                "- **JobLevel** - Level of job (1 to 5)\n",
                "- **JobRole** - Job Roles\n",
                "- **JobSatisfaction** - 1-Low, 2-Medium, 3-High, 4-Very High\n"
            ]
        },
        {
            "cell_type": "code",
            "execution_count": 4,
            "metadata": {},
            "outputs": [
                {
                    "name": "stdout",
                    "output_type": "stream",
                    "text": [
                        "<class 'pandas.core.frame.DataFrame'>\n",
                        "RangeIndex: 1470 entries, 0 to 1469\n",
                        "Data columns (total 18 columns):\n",
                        " #   Column                    Non-Null Count  Dtype \n",
                        "---  ------                    --------------  ----- \n",
                        " 0   MaritalStatus             1470 non-null   object\n",
                        " 1   MonthlyIncome             1470 non-null   int64 \n",
                        " 2   MonthlyRate               1470 non-null   int64 \n",
                        " 3   NumCompaniesWorked        1470 non-null   int64 \n",
                        " 4   Over18                    1470 non-null   object\n",
                        " 5   OverTime                  1470 non-null   object\n",
                        " 6   PercentSalaryHike         1470 non-null   int64 \n",
                        " 7   PerformanceRating         1470 non-null   int64 \n",
                        " 8   RelationshipSatisfaction  1470 non-null   int64 \n",
                        " 9   StandardHours             1470 non-null   int64 \n",
                        " 10  StockOptionLevel          1470 non-null   int64 \n",
                        " 11  TotalWorkingYears         1470 non-null   int64 \n",
                        " 12  TrainingTimesLastYear     1470 non-null   int64 \n",
                        " 13  WorkLifeBalance           1470 non-null   int64 \n",
                        " 14  YearsAtCompany            1470 non-null   int64 \n",
                        " 15  YearsInCurrentRole        1470 non-null   int64 \n",
                        " 16  YearsSinceLastPromotion   1470 non-null   int64 \n",
                        " 17  YearsWithCurrManager      1470 non-null   int64 \n",
                        "dtypes: int64(15), object(3)\n",
                        "memory usage: 206.8+ KB\n"
                    ]
                }
            ],
            "source": [
                "df.iloc[:, len(df.columns) // 2 :].info()"
            ]
        },
        {
            "cell_type": "markdown",
            "metadata": {},
            "source": [
                "- **MaritalStatus** - Marital Status\n",
                "- **MonthlyIncome** - Monthly salary\n",
                "- **MonthlyRate** - Mounthly rate\n",
                "- **NumCompaniesWorked** - Number of companies worked at\n",
                "- **Over18** - Over 18 years of age?\n",
                "- **OverTime** - Overtime?\n",
                "- **PercentSalaryHike** - The percentage increase in salary last year\n",
                "- **PerformanceRating** - 1-Low, 2-Good, 3-Excellent, 4-Outstanding\n",
                "- **RelationshipSatisfaction** - 1-Low, 2-Medium, 3-High, 4-Very High\n",
                "- **StandardHours** - Standard Hours\n",
                "- **StockOptionLevel** - Stock Option Level\n",
                "- **TotalWorkingYears** - Total years worked\n",
                "- **TrainingTimesLastYear** - Number of training attended last year\n",
                "- **WorkLifeBalance** - 1-Low, 2-Good, 3-Excellent, 4-Outstanding\n",
                "- **YearsAtCompany** - Years at Company\n",
                "- **YearsInCurrentRole** - Years in the current role\n",
                "- **YearsSinceLastPromotion** - Years since the last promotion\n",
                "- **YearsWithCurrManager** - Years with the current manager\n"
            ]
        },
        {
            "cell_type": "markdown",
            "metadata": {},
            "source": [
                "## Data Preparation / Preprocessing\n"
            ]
        },
        {
            "cell_type": "code",
            "execution_count": 5,
            "metadata": {},
            "outputs": [
                {
                    "data": {
                        "application/vnd.microsoft.datawrangler.viewer.v0+json": {
                            "columns": [
                                {
                                    "name": "index",
                                    "rawType": "object",
                                    "type": "string"
                                },
                                {
                                    "name": "0",
                                    "rawType": "int64",
                                    "type": "integer"
                                }
                            ],
                            "ref": "85ee2649-4990-4b5d-ae4f-7624602e3d42",
                            "rows": [
                                [
                                    "EmployeeId",
                                    "0"
                                ],
                                [
                                    "Age",
                                    "0"
                                ],
                                [
                                    "Attrition",
                                    "412"
                                ],
                                [
                                    "BusinessTravel",
                                    "0"
                                ],
                                [
                                    "DailyRate",
                                    "0"
                                ],
                                [
                                    "Department",
                                    "0"
                                ],
                                [
                                    "DistanceFromHome",
                                    "0"
                                ],
                                [
                                    "Education",
                                    "0"
                                ],
                                [
                                    "EducationField",
                                    "0"
                                ],
                                [
                                    "EmployeeCount",
                                    "0"
                                ],
                                [
                                    "EnvironmentSatisfaction",
                                    "0"
                                ],
                                [
                                    "Gender",
                                    "0"
                                ],
                                [
                                    "HourlyRate",
                                    "0"
                                ],
                                [
                                    "JobInvolvement",
                                    "0"
                                ],
                                [
                                    "JobLevel",
                                    "0"
                                ],
                                [
                                    "JobRole",
                                    "0"
                                ],
                                [
                                    "JobSatisfaction",
                                    "0"
                                ],
                                [
                                    "MaritalStatus",
                                    "0"
                                ],
                                [
                                    "MonthlyIncome",
                                    "0"
                                ],
                                [
                                    "MonthlyRate",
                                    "0"
                                ],
                                [
                                    "NumCompaniesWorked",
                                    "0"
                                ],
                                [
                                    "Over18",
                                    "0"
                                ],
                                [
                                    "OverTime",
                                    "0"
                                ],
                                [
                                    "PercentSalaryHike",
                                    "0"
                                ],
                                [
                                    "PerformanceRating",
                                    "0"
                                ],
                                [
                                    "RelationshipSatisfaction",
                                    "0"
                                ],
                                [
                                    "StandardHours",
                                    "0"
                                ],
                                [
                                    "StockOptionLevel",
                                    "0"
                                ],
                                [
                                    "TotalWorkingYears",
                                    "0"
                                ],
                                [
                                    "TrainingTimesLastYear",
                                    "0"
                                ],
                                [
                                    "WorkLifeBalance",
                                    "0"
                                ],
                                [
                                    "YearsAtCompany",
                                    "0"
                                ],
                                [
                                    "YearsInCurrentRole",
                                    "0"
                                ],
                                [
                                    "YearsSinceLastPromotion",
                                    "0"
                                ],
                                [
                                    "YearsWithCurrManager",
                                    "0"
                                ]
                            ],
                            "shape": {
                                "columns": 1,
                                "rows": 35
                            }
                        },
                        "text/plain": [
                            "EmployeeId                    0\n",
                            "Age                           0\n",
                            "Attrition                   412\n",
                            "BusinessTravel                0\n",
                            "DailyRate                     0\n",
                            "Department                    0\n",
                            "DistanceFromHome              0\n",
                            "Education                     0\n",
                            "EducationField                0\n",
                            "EmployeeCount                 0\n",
                            "EnvironmentSatisfaction       0\n",
                            "Gender                        0\n",
                            "HourlyRate                    0\n",
                            "JobInvolvement                0\n",
                            "JobLevel                      0\n",
                            "JobRole                       0\n",
                            "JobSatisfaction               0\n",
                            "MaritalStatus                 0\n",
                            "MonthlyIncome                 0\n",
                            "MonthlyRate                   0\n",
                            "NumCompaniesWorked            0\n",
                            "Over18                        0\n",
                            "OverTime                      0\n",
                            "PercentSalaryHike             0\n",
                            "PerformanceRating             0\n",
                            "RelationshipSatisfaction      0\n",
                            "StandardHours                 0\n",
                            "StockOptionLevel              0\n",
                            "TotalWorkingYears             0\n",
                            "TrainingTimesLastYear         0\n",
                            "WorkLifeBalance               0\n",
                            "YearsAtCompany                0\n",
                            "YearsInCurrentRole            0\n",
                            "YearsSinceLastPromotion       0\n",
                            "YearsWithCurrManager          0\n",
                            "dtype: int64"
                        ]
                    },
                    "execution_count": 5,
                    "metadata": {},
                    "output_type": "execute_result"
                }
            ],
            "source": [
                "# Check missing values\n",
                "df.isnull().sum()"
            ]
        },
        {
            "cell_type": "markdown",
            "metadata": {},
            "source": [
                "There is a 412 mission values on Attrition Columns\n"
            ]
        },
        {
            "cell_type": "code",
            "execution_count": 6,
            "metadata": {},
            "outputs": [],
            "source": [
                "# Handle Missing Values\n",
                "df.dropna(inplace=True)"
            ]
        },
        {
            "cell_type": "code",
            "execution_count": 7,
            "metadata": {},
            "outputs": [
                {
                    "name": "stdout",
                    "output_type": "stream",
                    "text": [
                        "Jumlah baris duplikat: 0\n"
                    ]
                }
            ],
            "source": [
                "jumlah_duplikat = df.duplicated().sum()\n",
                "print(f\"Jumlah baris duplikat: {jumlah_duplikat}\")"
            ]
        },
        {
            "cell_type": "code",
            "execution_count": 8,
            "metadata": {},
            "outputs": [
                {
                    "data": {
                        "application/vnd.microsoft.datawrangler.viewer.v0+json": {
                            "columns": [
                                {
                                    "name": "index",
                                    "rawType": "int64",
                                    "type": "integer"
                                },
                                {
                                    "name": "EmployeeId",
                                    "rawType": "int64",
                                    "type": "integer"
                                },
                                {
                                    "name": "Age",
                                    "rawType": "int64",
                                    "type": "integer"
                                },
                                {
                                    "name": "Attrition",
                                    "rawType": "float64",
                                    "type": "float"
                                },
                                {
                                    "name": "BusinessTravel",
                                    "rawType": "object",
                                    "type": "string"
                                },
                                {
                                    "name": "DailyRate",
                                    "rawType": "int64",
                                    "type": "integer"
                                },
                                {
                                    "name": "Department",
                                    "rawType": "object",
                                    "type": "string"
                                },
                                {
                                    "name": "DistanceFromHome",
                                    "rawType": "int64",
                                    "type": "integer"
                                },
                                {
                                    "name": "Education",
                                    "rawType": "int64",
                                    "type": "integer"
                                },
                                {
                                    "name": "EducationField",
                                    "rawType": "object",
                                    "type": "string"
                                },
                                {
                                    "name": "EmployeeCount",
                                    "rawType": "int64",
                                    "type": "integer"
                                },
                                {
                                    "name": "EnvironmentSatisfaction",
                                    "rawType": "int64",
                                    "type": "integer"
                                },
                                {
                                    "name": "Gender",
                                    "rawType": "object",
                                    "type": "string"
                                },
                                {
                                    "name": "HourlyRate",
                                    "rawType": "int64",
                                    "type": "integer"
                                },
                                {
                                    "name": "JobInvolvement",
                                    "rawType": "int64",
                                    "type": "integer"
                                },
                                {
                                    "name": "JobLevel",
                                    "rawType": "int64",
                                    "type": "integer"
                                },
                                {
                                    "name": "JobRole",
                                    "rawType": "object",
                                    "type": "string"
                                },
                                {
                                    "name": "JobSatisfaction",
                                    "rawType": "int64",
                                    "type": "integer"
                                },
                                {
                                    "name": "MaritalStatus",
                                    "rawType": "object",
                                    "type": "string"
                                },
                                {
                                    "name": "MonthlyIncome",
                                    "rawType": "int64",
                                    "type": "integer"
                                },
                                {
                                    "name": "MonthlyRate",
                                    "rawType": "int64",
                                    "type": "integer"
                                },
                                {
                                    "name": "NumCompaniesWorked",
                                    "rawType": "int64",
                                    "type": "integer"
                                },
                                {
                                    "name": "Over18",
                                    "rawType": "object",
                                    "type": "string"
                                },
                                {
                                    "name": "OverTime",
                                    "rawType": "object",
                                    "type": "string"
                                },
                                {
                                    "name": "PercentSalaryHike",
                                    "rawType": "int64",
                                    "type": "integer"
                                },
                                {
                                    "name": "PerformanceRating",
                                    "rawType": "int64",
                                    "type": "integer"
                                },
                                {
                                    "name": "RelationshipSatisfaction",
                                    "rawType": "int64",
                                    "type": "integer"
                                },
                                {
                                    "name": "StandardHours",
                                    "rawType": "int64",
                                    "type": "integer"
                                },
                                {
                                    "name": "StockOptionLevel",
                                    "rawType": "int64",
                                    "type": "integer"
                                },
                                {
                                    "name": "TotalWorkingYears",
                                    "rawType": "int64",
                                    "type": "integer"
                                },
                                {
                                    "name": "TrainingTimesLastYear",
                                    "rawType": "int64",
                                    "type": "integer"
                                },
                                {
                                    "name": "WorkLifeBalance",
                                    "rawType": "int64",
                                    "type": "integer"
                                },
                                {
                                    "name": "YearsAtCompany",
                                    "rawType": "int64",
                                    "type": "integer"
                                },
                                {
                                    "name": "YearsInCurrentRole",
                                    "rawType": "int64",
                                    "type": "integer"
                                },
                                {
                                    "name": "YearsSinceLastPromotion",
                                    "rawType": "int64",
                                    "type": "integer"
                                },
                                {
                                    "name": "YearsWithCurrManager",
                                    "rawType": "int64",
                                    "type": "integer"
                                }
                            ],
                            "ref": "bcf4bbaa-ded7-45e6-bfeb-88da008082cc",
                            "rows": [
                                [
                                    "1",
                                    "2",
                                    "37",
                                    "1.0",
                                    "Travel_Rarely",
                                    "1141",
                                    "Research & Development",
                                    "11",
                                    "2",
                                    "Medical",
                                    "1",
                                    "1",
                                    "Female",
                                    "61",
                                    "1",
                                    "2",
                                    "Healthcare Representative",
                                    "2",
                                    "Married",
                                    "4777",
                                    "14382",
                                    "5",
                                    "Y",
                                    "No",
                                    "15",
                                    "3",
                                    "1",
                                    "80",
                                    "0",
                                    "15",
                                    "2",
                                    "1",
                                    "1",
                                    "0",
                                    "0",
                                    "0"
                                ],
                                [
                                    "2",
                                    "3",
                                    "51",
                                    "1.0",
                                    "Travel_Rarely",
                                    "1323",
                                    "Research & Development",
                                    "4",
                                    "4",
                                    "Life Sciences",
                                    "1",
                                    "1",
                                    "Male",
                                    "34",
                                    "3",
                                    "1",
                                    "Research Scientist",
                                    "3",
                                    "Married",
                                    "2461",
                                    "10332",
                                    "9",
                                    "Y",
                                    "Yes",
                                    "12",
                                    "3",
                                    "3",
                                    "80",
                                    "3",
                                    "18",
                                    "2",
                                    "4",
                                    "10",
                                    "0",
                                    "2",
                                    "7"
                                ],
                                [
                                    "3",
                                    "4",
                                    "42",
                                    "0.0",
                                    "Travel_Frequently",
                                    "555",
                                    "Sales",
                                    "26",
                                    "3",
                                    "Marketing",
                                    "1",
                                    "3",
                                    "Female",
                                    "77",
                                    "3",
                                    "4",
                                    "Sales Executive",
                                    "2",
                                    "Married",
                                    "13525",
                                    "14864",
                                    "5",
                                    "Y",
                                    "No",
                                    "14",
                                    "3",
                                    "4",
                                    "80",
                                    "1",
                                    "23",
                                    "2",
                                    "4",
                                    "20",
                                    "4",
                                    "4",
                                    "8"
                                ],
                                [
                                    "6",
                                    "7",
                                    "40",
                                    "0.0",
                                    "Travel_Rarely",
                                    "1124",
                                    "Sales",
                                    "1",
                                    "2",
                                    "Medical",
                                    "1",
                                    "2",
                                    "Male",
                                    "57",
                                    "1",
                                    "2",
                                    "Sales Executive",
                                    "4",
                                    "Married",
                                    "7457",
                                    "13273",
                                    "2",
                                    "Y",
                                    "Yes",
                                    "22",
                                    "4",
                                    "3",
                                    "80",
                                    "3",
                                    "6",
                                    "2",
                                    "2",
                                    "4",
                                    "3",
                                    "0",
                                    "2"
                                ],
                                [
                                    "7",
                                    "8",
                                    "55",
                                    "1.0",
                                    "Travel_Rarely",
                                    "725",
                                    "Research & Development",
                                    "2",
                                    "3",
                                    "Medical",
                                    "1",
                                    "4",
                                    "Male",
                                    "78",
                                    "3",
                                    "5",
                                    "Manager",
                                    "1",
                                    "Married",
                                    "19859",
                                    "21199",
                                    "5",
                                    "Y",
                                    "Yes",
                                    "13",
                                    "3",
                                    "4",
                                    "80",
                                    "1",
                                    "24",
                                    "2",
                                    "3",
                                    "5",
                                    "2",
                                    "1",
                                    "4"
                                ]
                            ],
                            "shape": {
                                "columns": 35,
                                "rows": 5
                            }
                        },
                        "text/html": [
                            "<div>\n",
                            "<style scoped>\n",
                            "    .dataframe tbody tr th:only-of-type {\n",
                            "        vertical-align: middle;\n",
                            "    }\n",
                            "\n",
                            "    .dataframe tbody tr th {\n",
                            "        vertical-align: top;\n",
                            "    }\n",
                            "\n",
                            "    .dataframe thead th {\n",
                            "        text-align: right;\n",
                            "    }\n",
                            "</style>\n",
                            "<table border=\"1\" class=\"dataframe\">\n",
                            "  <thead>\n",
                            "    <tr style=\"text-align: right;\">\n",
                            "      <th></th>\n",
                            "      <th>EmployeeId</th>\n",
                            "      <th>Age</th>\n",
                            "      <th>Attrition</th>\n",
                            "      <th>BusinessTravel</th>\n",
                            "      <th>DailyRate</th>\n",
                            "      <th>Department</th>\n",
                            "      <th>DistanceFromHome</th>\n",
                            "      <th>Education</th>\n",
                            "      <th>EducationField</th>\n",
                            "      <th>EmployeeCount</th>\n",
                            "      <th>...</th>\n",
                            "      <th>RelationshipSatisfaction</th>\n",
                            "      <th>StandardHours</th>\n",
                            "      <th>StockOptionLevel</th>\n",
                            "      <th>TotalWorkingYears</th>\n",
                            "      <th>TrainingTimesLastYear</th>\n",
                            "      <th>WorkLifeBalance</th>\n",
                            "      <th>YearsAtCompany</th>\n",
                            "      <th>YearsInCurrentRole</th>\n",
                            "      <th>YearsSinceLastPromotion</th>\n",
                            "      <th>YearsWithCurrManager</th>\n",
                            "    </tr>\n",
                            "  </thead>\n",
                            "  <tbody>\n",
                            "    <tr>\n",
                            "      <th>1</th>\n",
                            "      <td>2</td>\n",
                            "      <td>37</td>\n",
                            "      <td>1.0</td>\n",
                            "      <td>Travel_Rarely</td>\n",
                            "      <td>1141</td>\n",
                            "      <td>Research &amp; Development</td>\n",
                            "      <td>11</td>\n",
                            "      <td>2</td>\n",
                            "      <td>Medical</td>\n",
                            "      <td>1</td>\n",
                            "      <td>...</td>\n",
                            "      <td>1</td>\n",
                            "      <td>80</td>\n",
                            "      <td>0</td>\n",
                            "      <td>15</td>\n",
                            "      <td>2</td>\n",
                            "      <td>1</td>\n",
                            "      <td>1</td>\n",
                            "      <td>0</td>\n",
                            "      <td>0</td>\n",
                            "      <td>0</td>\n",
                            "    </tr>\n",
                            "    <tr>\n",
                            "      <th>2</th>\n",
                            "      <td>3</td>\n",
                            "      <td>51</td>\n",
                            "      <td>1.0</td>\n",
                            "      <td>Travel_Rarely</td>\n",
                            "      <td>1323</td>\n",
                            "      <td>Research &amp; Development</td>\n",
                            "      <td>4</td>\n",
                            "      <td>4</td>\n",
                            "      <td>Life Sciences</td>\n",
                            "      <td>1</td>\n",
                            "      <td>...</td>\n",
                            "      <td>3</td>\n",
                            "      <td>80</td>\n",
                            "      <td>3</td>\n",
                            "      <td>18</td>\n",
                            "      <td>2</td>\n",
                            "      <td>4</td>\n",
                            "      <td>10</td>\n",
                            "      <td>0</td>\n",
                            "      <td>2</td>\n",
                            "      <td>7</td>\n",
                            "    </tr>\n",
                            "    <tr>\n",
                            "      <th>3</th>\n",
                            "      <td>4</td>\n",
                            "      <td>42</td>\n",
                            "      <td>0.0</td>\n",
                            "      <td>Travel_Frequently</td>\n",
                            "      <td>555</td>\n",
                            "      <td>Sales</td>\n",
                            "      <td>26</td>\n",
                            "      <td>3</td>\n",
                            "      <td>Marketing</td>\n",
                            "      <td>1</td>\n",
                            "      <td>...</td>\n",
                            "      <td>4</td>\n",
                            "      <td>80</td>\n",
                            "      <td>1</td>\n",
                            "      <td>23</td>\n",
                            "      <td>2</td>\n",
                            "      <td>4</td>\n",
                            "      <td>20</td>\n",
                            "      <td>4</td>\n",
                            "      <td>4</td>\n",
                            "      <td>8</td>\n",
                            "    </tr>\n",
                            "    <tr>\n",
                            "      <th>6</th>\n",
                            "      <td>7</td>\n",
                            "      <td>40</td>\n",
                            "      <td>0.0</td>\n",
                            "      <td>Travel_Rarely</td>\n",
                            "      <td>1124</td>\n",
                            "      <td>Sales</td>\n",
                            "      <td>1</td>\n",
                            "      <td>2</td>\n",
                            "      <td>Medical</td>\n",
                            "      <td>1</td>\n",
                            "      <td>...</td>\n",
                            "      <td>3</td>\n",
                            "      <td>80</td>\n",
                            "      <td>3</td>\n",
                            "      <td>6</td>\n",
                            "      <td>2</td>\n",
                            "      <td>2</td>\n",
                            "      <td>4</td>\n",
                            "      <td>3</td>\n",
                            "      <td>0</td>\n",
                            "      <td>2</td>\n",
                            "    </tr>\n",
                            "    <tr>\n",
                            "      <th>7</th>\n",
                            "      <td>8</td>\n",
                            "      <td>55</td>\n",
                            "      <td>1.0</td>\n",
                            "      <td>Travel_Rarely</td>\n",
                            "      <td>725</td>\n",
                            "      <td>Research &amp; Development</td>\n",
                            "      <td>2</td>\n",
                            "      <td>3</td>\n",
                            "      <td>Medical</td>\n",
                            "      <td>1</td>\n",
                            "      <td>...</td>\n",
                            "      <td>4</td>\n",
                            "      <td>80</td>\n",
                            "      <td>1</td>\n",
                            "      <td>24</td>\n",
                            "      <td>2</td>\n",
                            "      <td>3</td>\n",
                            "      <td>5</td>\n",
                            "      <td>2</td>\n",
                            "      <td>1</td>\n",
                            "      <td>4</td>\n",
                            "    </tr>\n",
                            "  </tbody>\n",
                            "</table>\n",
                            "<p>5 rows × 35 columns</p>\n",
                            "</div>"
                        ],
                        "text/plain": [
                            "   EmployeeId  Age  Attrition     BusinessTravel  DailyRate  \\\n",
                            "1           2   37        1.0      Travel_Rarely       1141   \n",
                            "2           3   51        1.0      Travel_Rarely       1323   \n",
                            "3           4   42        0.0  Travel_Frequently        555   \n",
                            "6           7   40        0.0      Travel_Rarely       1124   \n",
                            "7           8   55        1.0      Travel_Rarely        725   \n",
                            "\n",
                            "               Department  DistanceFromHome  Education EducationField  \\\n",
                            "1  Research & Development                11          2        Medical   \n",
                            "2  Research & Development                 4          4  Life Sciences   \n",
                            "3                   Sales                26          3      Marketing   \n",
                            "6                   Sales                 1          2        Medical   \n",
                            "7  Research & Development                 2          3        Medical   \n",
                            "\n",
                            "   EmployeeCount  ...  RelationshipSatisfaction StandardHours  \\\n",
                            "1              1  ...                         1            80   \n",
                            "2              1  ...                         3            80   \n",
                            "3              1  ...                         4            80   \n",
                            "6              1  ...                         3            80   \n",
                            "7              1  ...                         4            80   \n",
                            "\n",
                            "   StockOptionLevel  TotalWorkingYears  TrainingTimesLastYear WorkLifeBalance  \\\n",
                            "1                 0                 15                      2               1   \n",
                            "2                 3                 18                      2               4   \n",
                            "3                 1                 23                      2               4   \n",
                            "6                 3                  6                      2               2   \n",
                            "7                 1                 24                      2               3   \n",
                            "\n",
                            "   YearsAtCompany YearsInCurrentRole  YearsSinceLastPromotion  \\\n",
                            "1               1                  0                        0   \n",
                            "2              10                  0                        2   \n",
                            "3              20                  4                        4   \n",
                            "6               4                  3                        0   \n",
                            "7               5                  2                        1   \n",
                            "\n",
                            "   YearsWithCurrManager  \n",
                            "1                     0  \n",
                            "2                     7  \n",
                            "3                     8  \n",
                            "6                     2  \n",
                            "7                     4  \n",
                            "\n",
                            "[5 rows x 35 columns]"
                        ]
                    },
                    "execution_count": 8,
                    "metadata": {},
                    "output_type": "execute_result"
                }
            ],
            "source": [
                "df.head()"
            ]
        },
        {
            "cell_type": "markdown",
            "metadata": {},
            "source": [
                "membuat kolom baru dari attrition kategorical\n"
            ]
        },
        {
            "cell_type": "markdown",
            "metadata": {},
            "source": [
                "## Exploratory Data Analysis\n"
            ]
        },
        {
            "cell_type": "markdown",
            "metadata": {},
            "source": [
                "#### Persentase dari Attrition\n"
            ]
        },
        {
            "cell_type": "code",
            "execution_count": 9,
            "metadata": {},
            "outputs": [
                {
                    "name": "stdout",
                    "output_type": "stream",
                    "text": [
                        "Attrition Rate:\n",
                        "AttritionCategory\n",
                        "Stay     83.08\n",
                        "Leave    16.92\n",
                        "Name: proportion, dtype: float64\n"
                    ]
                }
            ],
            "source": [
                "df[\"Attrition\"] = df[\"Attrition\"].astype(\"int\")\n",
                "df[\"AttritionCategory\"] = df[\"Attrition\"].map({1: \"Leave\", 0: \"Stay\"})\n",
                "attrition_rate = df[\"AttritionCategory\"].value_counts(normalize=True) * 100\n",
                "print(f\"Attrition Rate:\\n{attrition_rate.round(2)}\")"
            ]
        },
        {
            "cell_type": "code",
            "execution_count": 10,
            "metadata": {},
            "outputs": [
                {
                    "data": {
                        "image/png": "[encoded data removed]",
                        "text/plain": [
                            "<Figure size 800x600 with 1 Axes>"
                        ]
                    },
                    "metadata": {},
                    "output_type": "display_data"
                }
            ],
            "source": [
                "fig, ax = plt.subplots(figsize=(8, 6))\n",
                "plt.pie(\n",
                "    attrition_rate,\n",
                "    labels=attrition_rate.index,\n",
                "    autopct=\"%1.1f%%\",\n",
                "    startangle=140,\n",
                "    colors=[\"#FFB0A9\", \"#A4D2FF\"],\n",
                "    explode=(0.025, 0.025),\n",
                ")\n",
                "plt.title(\"Attrition Rate\")\n",
                "plt.show()"
            ]
        },
        {
            "cell_type": "markdown",
            "metadata": {},
            "source": [
                "Tingkat attrition perusahaan saat ini berada di angka 16,92%, sementara 83,08% karyawan memilih untuk tetap bekerja\n"
            ]
        },
        {
            "cell_type": "markdown",
            "metadata": {},
            "source": [
                "### Analisis Demography\n"
            ]
        },
        {
            "cell_type": "markdown",
            "metadata": {},
            "source": [
                "#### Jumlah karyawan keluar berdasarkan rentang usia\n"
            ]
        },
        {
            "cell_type": "code",
            "execution_count": 11,
            "metadata": {},
            "outputs": [
                {
                    "data": {
                        "image/png": "[encoded data removed]",
                        "text/plain": [
                            "<Figure size 1200x600 with 1 Axes>"
                        ]
                    },
                    "metadata": {},
                    "output_type": "display_data"
                }
            ],
            "source": [
                "# Melihat distribusi data numerik\n",
                "plt.figure(figsize=(12, 6))\n",
                "plt.hist(df[\"Age\"], bins=20, color=\"#A4D2FF\")\n",
                "plt.title(\"Distribusi Umur Karyawan\")\n",
                "plt.xlabel(\"Umur\")\n",
                "plt.ylabel(\"Frekuensi\")\n",
                "plt.show()"
            ]
        },
        {
            "cell_type": "markdown",
            "metadata": {},
            "source": [
                "Histogram menunjukkan bahwa mayoritas karyawan berada dalam rentang usia 30 hingga 40 tahun, dengan frekuensi tertinggi sekitar 100 orang. Jumlah karyawan menurun secara bertahap setelah usia 40 tahun, sementara kelompok usia di bawah 25 tahun dan di atas 55 tahun memiliki frekuensi paling rendah. Pola ini menunjukkan dominasi usia produktif di perusahaan dan kemungkinan rendahnya perekrutan usia muda maupun retensi karyawan senior.\n"
            ]
        },
        {
            "cell_type": "markdown",
            "metadata": {},
            "source": [
                "#### Karyawan Keluar by Age\n"
            ]
        },
        {
            "cell_type": "code",
            "execution_count": 12,
            "metadata": {},
            "outputs": [
                {
                    "data": {
                        "application/vnd.microsoft.datawrangler.viewer.v0+json": {
                            "columns": [
                                {
                                    "name": "AgeGroup",
                                    "rawType": "category",
                                    "type": "unknown"
                                },
                                {
                                    "name": "Leave",
                                    "rawType": "int64",
                                    "type": "integer"
                                },
                                {
                                    "name": "Stay",
                                    "rawType": "int64",
                                    "type": "integer"
                                }
                            ],
                            "ref": "f9d9382c-c72c-450f-8fcb-6d1bba79cba6",
                            "rows": [
                                [
                                    "18-24",
                                    "29",
                                    "41"
                                ],
                                [
                                    "25-34",
                                    "85",
                                    "316"
                                ],
                                [
                                    "35-44",
                                    "39",
                                    "312"
                                ],
                                [
                                    "45-54",
                                    "17",
                                    "164"
                                ],
                                [
                                    "55-64",
                                    "9",
                                    "46"
                                ]
                            ],
                            "shape": {
                                "columns": 2,
                                "rows": 5
                            }
                        },
                        "text/html": [
                            "<div>\n",
                            "<style scoped>\n",
                            "    .dataframe tbody tr th:only-of-type {\n",
                            "        vertical-align: middle;\n",
                            "    }\n",
                            "\n",
                            "    .dataframe tbody tr th {\n",
                            "        vertical-align: top;\n",
                            "    }\n",
                            "\n",
                            "    .dataframe thead th {\n",
                            "        text-align: right;\n",
                            "    }\n",
                            "</style>\n",
                            "<table border=\"1\" class=\"dataframe\">\n",
                            "  <thead>\n",
                            "    <tr style=\"text-align: right;\">\n",
                            "      <th>AttritionCategory</th>\n",
                            "      <th>Leave</th>\n",
                            "      <th>Stay</th>\n",
                            "    </tr>\n",
                            "    <tr>\n",
                            "      <th>AgeGroup</th>\n",
                            "      <th></th>\n",
                            "      <th></th>\n",
                            "    </tr>\n",
                            "  </thead>\n",
                            "  <tbody>\n",
                            "    <tr>\n",
                            "      <th>18-24</th>\n",
                            "      <td>29</td>\n",
                            "      <td>41</td>\n",
                            "    </tr>\n",
                            "    <tr>\n",
                            "      <th>25-34</th>\n",
                            "      <td>85</td>\n",
                            "      <td>316</td>\n",
                            "    </tr>\n",
                            "    <tr>\n",
                            "      <th>35-44</th>\n",
                            "      <td>39</td>\n",
                            "      <td>312</td>\n",
                            "    </tr>\n",
                            "    <tr>\n",
                            "      <th>45-54</th>\n",
                            "      <td>17</td>\n",
                            "      <td>164</td>\n",
                            "    </tr>\n",
                            "    <tr>\n",
                            "      <th>55-64</th>\n",
                            "      <td>9</td>\n",
                            "      <td>46</td>\n",
                            "    </tr>\n",
                            "  </tbody>\n",
                            "</table>\n",
                            "</div>"
                        ],
                        "text/plain": [
                            "AttritionCategory  Leave  Stay\n",
                            "AgeGroup                      \n",
                            "18-24                 29    41\n",
                            "25-34                 85   316\n",
                            "35-44                 39   312\n",
                            "45-54                 17   164\n",
                            "55-64                  9    46"
                        ]
                    },
                    "execution_count": 12,
                    "metadata": {},
                    "output_type": "execute_result"
                }
            ],
            "source": [
                "# Binning 10 tahun\n",
                "bins = [18, 25, 35, 45, 55, 65]\n",
                "labels = [\"18-24\", \"25-34\", \"35-44\", \"45-54\", \"55-64\"]\n",
                "df[\"AgeGroup\"] = pd.cut(df[\"Age\"], bins=bins, labels=labels, right=False)\n",
                "\n",
                "# pivot\n",
                "attr_age = df.pivot_table(\n",
                "    index=\"AgeGroup\",\n",
                "    columns=\"AttritionCategory\",\n",
                "    values=\"EmployeeId\",\n",
                "    aggfunc=\"count\",\n",
                ").round(2)\n",
                "\n",
                "attr_age"
            ]
        },
        {
            "cell_type": "code",
            "execution_count": 13,
            "metadata": {},
            "outputs": [
                {
                    "data": {
                        "image/png": "[encoded data removed]",
                        "text/plain": [
                            "<Figure size 1000x800 with 1 Axes>"
                        ]
                    },
                    "metadata": {},
                    "output_type": "display_data"
                }
            ],
            "source": [
                "# Visualisasi\n",
                "x = attr_age.index\n",
                "stay = attr_age[\"Stay\"]\n",
                "leave = attr_age[\"Leave\"]\n",
                "\n",
                "fig, ax = plt.subplots(figsize=(10, 8))\n",
                "ax.bar(\n",
                "    x,\n",
                "    stay,\n",
                "    label=\"Stay\",\n",
                "    color=\"#A4D2FF\",\n",
                ")\n",
                "ax.bar(\n",
                "    x,\n",
                "    leave,\n",
                "    label=\"Leave\",\n",
                "    color=\"#FFB0A9\",\n",
                ")\n",
                "\n",
                "for i, v in enumerate(stay):\n",
                "    ax.text(i, v + 0.5, str(v), ha=\"center\", va=\"bottom\", fontsize=10)\n",
                "for i, v in enumerate(leave):\n",
                "    ax.text(i, v + 0.5, str(v), ha=\"center\", va=\"bottom\", fontsize=10)\n",
                "\n",
                "ax.set_xlabel(\"Age Group\")\n",
                "ax.set_ylabel(\"Jumlah Karyawan\")\n",
                "ax.set_title(\"Jumlah Karyawan Berdasarkan Kelompok Umur dan Status Attrition\")\n",
                "ax.legend()\n",
                "plt.tight_layout()\n",
                "plt.show()"
            ]
        },
        {
            "cell_type": "markdown",
            "metadata": {},
            "source": [
                "- Kelompok usia 25–34 tahun memiliki jumlah karyawan keluar terbanyak (85 orang), meskipun juga merupakan kelompok dengan jumlah karyawan terbanyak secara keseluruhan.\n",
                "- Kelompok usia 18–24 tahun memiliki rasio attrition tertinggi, yaitu sekitar 41% (29 dari 70 orang).\n",
                "- Sementara itu, kelompok usia 45 tahun ke atas menunjukkan tingkat attrition yang lebih rendah, mengindikasikan kecenderungan bertahan yang lebih tinggi pada usia yang lebih senior.\n"
            ]
        },
        {
            "cell_type": "markdown",
            "metadata": {},
            "source": [
                "#### Karyawan keluar berdasarkan gender\n"
            ]
        },
        {
            "cell_type": "code",
            "execution_count": 14,
            "metadata": {},
            "outputs": [
                {
                    "data": {
                        "application/vnd.microsoft.datawrangler.viewer.v0+json": {
                            "columns": [
                                {
                                    "name": "Gender",
                                    "rawType": "object",
                                    "type": "string"
                                },
                                {
                                    "name": "Leave",
                                    "rawType": "int64",
                                    "type": "integer"
                                },
                                {
                                    "name": "Stay",
                                    "rawType": "int64",
                                    "type": "integer"
                                }
                            ],
                            "ref": "6c8c8306-b658-4519-8bb5-dc8c436d8d7b",
                            "rows": [
                                [
                                    "Female",
                                    "71",
                                    "367"
                                ],
                                [
                                    "Male",
                                    "108",
                                    "512"
                                ]
                            ],
                            "shape": {
                                "columns": 2,
                                "rows": 2
                            }
                        },
                        "text/html": [
                            "<div>\n",
                            "<style scoped>\n",
                            "    .dataframe tbody tr th:only-of-type {\n",
                            "        vertical-align: middle;\n",
                            "    }\n",
                            "\n",
                            "    .dataframe tbody tr th {\n",
                            "        vertical-align: top;\n",
                            "    }\n",
                            "\n",
                            "    .dataframe thead th {\n",
                            "        text-align: right;\n",
                            "    }\n",
                            "</style>\n",
                            "<table border=\"1\" class=\"dataframe\">\n",
                            "  <thead>\n",
                            "    <tr style=\"text-align: right;\">\n",
                            "      <th>AttritionCategory</th>\n",
                            "      <th>Leave</th>\n",
                            "      <th>Stay</th>\n",
                            "    </tr>\n",
                            "    <tr>\n",
                            "      <th>Gender</th>\n",
                            "      <th></th>\n",
                            "      <th></th>\n",
                            "    </tr>\n",
                            "  </thead>\n",
                            "  <tbody>\n",
                            "    <tr>\n",
                            "      <th>Female</th>\n",
                            "      <td>71</td>\n",
                            "      <td>367</td>\n",
                            "    </tr>\n",
                            "    <tr>\n",
                            "      <th>Male</th>\n",
                            "      <td>108</td>\n",
                            "      <td>512</td>\n",
                            "    </tr>\n",
                            "  </tbody>\n",
                            "</table>\n",
                            "</div>"
                        ],
                        "text/plain": [
                            "AttritionCategory  Leave  Stay\n",
                            "Gender                        \n",
                            "Female                71   367\n",
                            "Male                 108   512"
                        ]
                    },
                    "execution_count": 14,
                    "metadata": {},
                    "output_type": "execute_result"
                }
            ],
            "source": [
                "# Pivot\n",
                "gender_attrition = pd.pivot_table(\n",
                "    df,\n",
                "    index=\"Gender\",\n",
                "    columns=\"AttritionCategory\",\n",
                "    values=\"EmployeeId\",\n",
                "    aggfunc=\"count\",\n",
                ")\n",
                "gender_attrition"
            ]
        },
        {
            "cell_type": "code",
            "execution_count": 15,
            "metadata": {},
            "outputs": [
                {
                    "data": {
                        "image/png": "[encoded data removed]",
                        "text/plain": [
                            "<Figure size 800x600 with 1 Axes>"
                        ]
                    },
                    "metadata": {},
                    "output_type": "display_data"
                }
            ],
            "source": [
                "# Visualisasi\n",
                "x = gender_attrition.index\n",
                "stay = gender_attrition[\"Stay\"]\n",
                "leave = gender_attrition[\"Leave\"]\n",
                "\n",
                "\n",
                "fig, ax = plt.subplots(figsize=(8, 6))\n",
                "ax.bar(x, stay, label=\"Stay\", color=\"#A4D2FF\")\n",
                "ax.bar(x, leave, label=\"Leave\", color=\"#FFB0A9\")\n",
                "for i, v in enumerate(stay):\n",
                "    ax.text(i, v + 0.5, str(v), ha=\"center\", va=\"bottom\", fontsize=10)\n",
                "for i, v in enumerate(leave):\n",
                "    ax.text(i, v + 0.5, str(v), ha=\"center\", va=\"bottom\", fontsize=10)\n",
                "ax.legend()\n",
                "ax.set_xlabel(\"Attrition Gender\")\n",
                "ax.set_ylabel(\"Number of Employees\")\n",
                "ax.set_title(\"Attrition by Gender\")\n",
                "\n",
                "plt.show()"
            ]
        },
        {
            "cell_type": "markdown",
            "metadata": {},
            "source": [
                "- Karyawan laki-laki memiliki jumlah karyawan keluar terbanyak, yaitu 108 orang dari total 620.\n",
                "- Karyawan perempuan yang keluar sebanyak 71 orang dari total 438.\n",
                "- Meskipun jumlah totalnya berbeda, tingkat attrition antara pria dan wanita hampir sama, yaitu sekitar 17% untuk pria dan 16% untuk wanita.\n"
            ]
        },
        {
            "cell_type": "markdown",
            "metadata": {},
            "source": [
                "#### Karyawan keluar berdasarkan status pernikahan\n"
            ]
        },
        {
            "cell_type": "code",
            "execution_count": 16,
            "metadata": {},
            "outputs": [
                {
                    "data": {
                        "application/vnd.microsoft.datawrangler.viewer.v0+json": {
                            "columns": [
                                {
                                    "name": "MaritalStatus",
                                    "rawType": "object",
                                    "type": "string"
                                },
                                {
                                    "name": "Leave",
                                    "rawType": "int64",
                                    "type": "integer"
                                },
                                {
                                    "name": "Stay",
                                    "rawType": "int64",
                                    "type": "integer"
                                }
                            ],
                            "ref": "66297d8e-c9d7-4078-86e3-c725256b5fb4",
                            "rows": [
                                [
                                    "Married",
                                    "62",
                                    "402"
                                ],
                                [
                                    "Single",
                                    "94",
                                    "258"
                                ],
                                [
                                    "Divorced",
                                    "23",
                                    "219"
                                ]
                            ],
                            "shape": {
                                "columns": 2,
                                "rows": 3
                            }
                        },
                        "text/html": [
                            "<div>\n",
                            "<style scoped>\n",
                            "    .dataframe tbody tr th:only-of-type {\n",
                            "        vertical-align: middle;\n",
                            "    }\n",
                            "\n",
                            "    .dataframe tbody tr th {\n",
                            "        vertical-align: top;\n",
                            "    }\n",
                            "\n",
                            "    .dataframe thead th {\n",
                            "        text-align: right;\n",
                            "    }\n",
                            "</style>\n",
                            "<table border=\"1\" class=\"dataframe\">\n",
                            "  <thead>\n",
                            "    <tr style=\"text-align: right;\">\n",
                            "      <th>AttritionCategory</th>\n",
                            "      <th>Leave</th>\n",
                            "      <th>Stay</th>\n",
                            "    </tr>\n",
                            "    <tr>\n",
                            "      <th>MaritalStatus</th>\n",
                            "      <th></th>\n",
                            "      <th></th>\n",
                            "    </tr>\n",
                            "  </thead>\n",
                            "  <tbody>\n",
                            "    <tr>\n",
                            "      <th>Married</th>\n",
                            "      <td>62</td>\n",
                            "      <td>402</td>\n",
                            "    </tr>\n",
                            "    <tr>\n",
                            "      <th>Single</th>\n",
                            "      <td>94</td>\n",
                            "      <td>258</td>\n",
                            "    </tr>\n",
                            "    <tr>\n",
                            "      <th>Divorced</th>\n",
                            "      <td>23</td>\n",
                            "      <td>219</td>\n",
                            "    </tr>\n",
                            "  </tbody>\n",
                            "</table>\n",
                            "</div>"
                        ],
                        "text/plain": [
                            "AttritionCategory  Leave  Stay\n",
                            "MaritalStatus                 \n",
                            "Married               62   402\n",
                            "Single                94   258\n",
                            "Divorced              23   219"
                        ]
                    },
                    "execution_count": 16,
                    "metadata": {},
                    "output_type": "execute_result"
                }
            ],
            "source": [
                "# Pivot\n",
                "marital_attrition = (\n",
                "    pd.pivot_table(\n",
                "        df,\n",
                "        index=\"MaritalStatus\",\n",
                "        values=\"EmployeeId\",\n",
                "        columns=\"AttritionCategory\",\n",
                "        aggfunc=\"count\",\n",
                "        sort=True,\n",
                "    )\n",
                ").sort_values(by=\"Stay\", ascending=False)\n",
                "marital_attrition"
            ]
        },
        {
            "cell_type": "code",
            "execution_count": 17,
            "metadata": {},
            "outputs": [
                {
                    "data": {
                        "image/png": "[encoded data removed]",
                        "text/plain": [
                            "<Figure size 800x600 with 1 Axes>"
                        ]
                    },
                    "metadata": {},
                    "output_type": "display_data"
                }
            ],
            "source": [
                "# Visualisasi\n",
                "x = marital_attrition.index\n",
                "stay = marital_attrition[\"Stay\"]\n",
                "leave = marital_attrition[\"Leave\"]\n",
                "fig, ax = plt.subplots(figsize=(8, 6))\n",
                "ax.bar(x, stay, label=\"Stay\", color=\"#A4D2FF\")\n",
                "ax.bar(x, leave, label=\"Leave\", color=\"#FFB0A9\")\n",
                "for i, v in enumerate(stay):\n",
                "    ax.text(i, v + 0.5, str(v), ha=\"center\", va=\"bottom\", fontsize=10)\n",
                "for i, v in enumerate(leave):\n",
                "    ax.text(i, v + 0.5, str(v), ha=\"center\", va=\"bottom\", fontsize=10)\n",
                "ax.set_xlabel(\"Marital Status\")\n",
                "ax.legend()\n",
                "ax.set_ylabel(\"Number of Employees\")\n",
                "ax.set_title(\"Attrition by Marital Status\")\n",
                "plt.show()"
            ]
        },
        {
            "cell_type": "markdown",
            "metadata": {},
            "source": [
                "terlihat bahwa karyawan berstatus Single memiliki angka attrition (Leave) tertinggi yaitu 94 orang, meskipun jumlah total mereka tidak sebanyak yang Married. Sebaliknya, karyawan Married lebih cenderung bertahan, dengan jumlah Stay yang paling tinggi yaitu 402 orang, dan hanya 62 orang yang keluar. Sementara itu, karyawan Divorced menunjukkan angka attrition yang paling rendah (23 orang)\n"
            ]
        },
        {
            "cell_type": "markdown",
            "metadata": {},
            "source": [
                "#### Karyawan Keluar berdasarkan Pendidikan\n"
            ]
        },
        {
            "cell_type": "code",
            "execution_count": 18,
            "metadata": {},
            "outputs": [
                {
                    "data": {
                        "application/vnd.microsoft.datawrangler.viewer.v0+json": {
                            "columns": [
                                {
                                    "name": "EducationCategory",
                                    "rawType": "object",
                                    "type": "string"
                                },
                                {
                                    "name": "Leave",
                                    "rawType": "int64",
                                    "type": "integer"
                                },
                                {
                                    "name": "Stay",
                                    "rawType": "int64",
                                    "type": "integer"
                                }
                            ],
                            "ref": "cf5bea81-1780-4de7-aea2-b4ac2978fb4b",
                            "rows": [
                                [
                                    "Bachelor",
                                    "76",
                                    "334"
                                ],
                                [
                                    "Below College",
                                    "26",
                                    "105"
                                ],
                                [
                                    "College",
                                    "31",
                                    "177"
                                ],
                                [
                                    "Doctor",
                                    "2",
                                    "31"
                                ],
                                [
                                    "Master",
                                    "44",
                                    "232"
                                ]
                            ],
                            "shape": {
                                "columns": 2,
                                "rows": 5
                            }
                        },
                        "text/html": [
                            "<div>\n",
                            "<style scoped>\n",
                            "    .dataframe tbody tr th:only-of-type {\n",
                            "        vertical-align: middle;\n",
                            "    }\n",
                            "\n",
                            "    .dataframe tbody tr th {\n",
                            "        vertical-align: top;\n",
                            "    }\n",
                            "\n",
                            "    .dataframe thead th {\n",
                            "        text-align: right;\n",
                            "    }\n",
                            "</style>\n",
                            "<table border=\"1\" class=\"dataframe\">\n",
                            "  <thead>\n",
                            "    <tr style=\"text-align: right;\">\n",
                            "      <th>AttritionCategory</th>\n",
                            "      <th>Leave</th>\n",
                            "      <th>Stay</th>\n",
                            "    </tr>\n",
                            "    <tr>\n",
                            "      <th>EducationCategory</th>\n",
                            "      <th></th>\n",
                            "      <th></th>\n",
                            "    </tr>\n",
                            "  </thead>\n",
                            "  <tbody>\n",
                            "    <tr>\n",
                            "      <th>Bachelor</th>\n",
                            "      <td>76</td>\n",
                            "      <td>334</td>\n",
                            "    </tr>\n",
                            "    <tr>\n",
                            "      <th>Below College</th>\n",
                            "      <td>26</td>\n",
                            "      <td>105</td>\n",
                            "    </tr>\n",
                            "    <tr>\n",
                            "      <th>College</th>\n",
                            "      <td>31</td>\n",
                            "      <td>177</td>\n",
                            "    </tr>\n",
                            "    <tr>\n",
                            "      <th>Doctor</th>\n",
                            "      <td>2</td>\n",
                            "      <td>31</td>\n",
                            "    </tr>\n",
                            "    <tr>\n",
                            "      <th>Master</th>\n",
                            "      <td>44</td>\n",
                            "      <td>232</td>\n",
                            "    </tr>\n",
                            "  </tbody>\n",
                            "</table>\n",
                            "</div>"
                        ],
                        "text/plain": [
                            "AttritionCategory  Leave  Stay\n",
                            "EducationCategory             \n",
                            "Bachelor              76   334\n",
                            "Below College         26   105\n",
                            "College               31   177\n",
                            "Doctor                 2    31\n",
                            "Master                44   232"
                        ]
                    },
                    "execution_count": 18,
                    "metadata": {},
                    "output_type": "execute_result"
                }
            ],
            "source": [
                "education_categorical = {\n",
                "    1: \"Below College\",\n",
                "    2: \"College\",\n",
                "    3: \"Bachelor\",\n",
                "    4: \"Master\",\n",
                "    5: \"Doctor\",\n",
                "}\n",
                "\n",
                "df[\"EducationCategory\"] = df[\"Education\"].map(education_categorical)\n",
                "education_attrition_categorical = pd.pivot_table(\n",
                "    df,\n",
                "    values=\"EmployeeId\",\n",
                "    index=\"EducationCategory\",\n",
                "    columns=\"AttritionCategory\",\n",
                "    aggfunc=\"count\",\n",
                ")\n",
                "education_attrition_categorical"
            ]
        },
        {
            "cell_type": "code",
            "execution_count": 19,
            "metadata": {},
            "outputs": [
                {
                    "data": {
                        "image/png": "[encoded data removed]",
                        "text/plain": [
                            "<Figure size 800x600 with 1 Axes>"
                        ]
                    },
                    "metadata": {},
                    "output_type": "display_data"
                }
            ],
            "source": [
                "# Visualisasi\n",
                "x = education_attrition_categorical.index\n",
                "stay = education_attrition_categorical[\"Stay\"]\n",
                "leave = education_attrition_categorical[\"Leave\"]\n",
                "fig, ax = plt.subplots(figsize=(8, 6))\n",
                "ax.bar(x, stay, label=\"Stay\", color=\"#A4D2FF\")\n",
                "ax.bar(x, leave, label=\"Leave\", color=\"#FFB0A9\")\n",
                "for i, v in enumerate(stay):\n",
                "    ax.text(i, v + 0.5, str(v), ha=\"center\", va=\"bottom\", fontsize=10)\n",
                "for i, v in enumerate(leave):\n",
                "    ax.text(i, v + 0.5, str(v), ha=\"center\", va=\"bottom\", fontsize=10)\n",
                "ax.set_xlabel(\"Education\")\n",
                "ax.legend()\n",
                "ax.set_ylabel(\"Number of Employees\")\n",
                "ax.set_title(\"Attrition by Education\")\n",
                "plt.show()"
            ]
        },
        {
            "cell_type": "markdown",
            "metadata": {},
            "source": [
                "karyawan dengan pendidikan Bachelor memiliki angka attrition tertinggi yaitu 76 orang, meskipun juga merupakan kelompok dengan jumlah Stay terbanyak (334 orang), menandakan proporsi besar dalam populasi. Kelompok Master menyusul dengan 44 orang yang keluar dari total 276, menunjukkan tingkat attrition sedang. Sementara itu, karyawan dengan gelar Doctor menunjukkan attrition paling rendah, hanya 2 orang dari 33, mengindikasikan tingkat retensi yang sangat tinggi pada tingkat pendidikan tertinggi.\n"
            ]
        },
        {
            "cell_type": "markdown",
            "metadata": {},
            "source": [
                "#### Attrition by Education Field\n"
            ]
        },
        {
            "cell_type": "code",
            "execution_count": 20,
            "metadata": {},
            "outputs": [
                {
                    "data": {
                        "application/vnd.microsoft.datawrangler.viewer.v0+json": {
                            "columns": [
                                {
                                    "name": "EducationField",
                                    "rawType": "object",
                                    "type": "string"
                                },
                                {
                                    "name": "Leave",
                                    "rawType": "int64",
                                    "type": "integer"
                                },
                                {
                                    "name": "Stay",
                                    "rawType": "int64",
                                    "type": "integer"
                                }
                            ],
                            "ref": "9ac676dd-9361-46a1-81df-6e9afe69f92f",
                            "rows": [
                                [
                                    "Human Resources",
                                    "2",
                                    "13"
                                ],
                                [
                                    "Life Sciences",
                                    "70",
                                    "366"
                                ],
                                [
                                    "Marketing",
                                    "26",
                                    "96"
                                ],
                                [
                                    "Medical",
                                    "46",
                                    "284"
                                ],
                                [
                                    "Other",
                                    "10",
                                    "49"
                                ],
                                [
                                    "Technical Degree",
                                    "25",
                                    "71"
                                ]
                            ],
                            "shape": {
                                "columns": 2,
                                "rows": 6
                            }
                        },
                        "text/html": [
                            "<div>\n",
                            "<style scoped>\n",
                            "    .dataframe tbody tr th:only-of-type {\n",
                            "        vertical-align: middle;\n",
                            "    }\n",
                            "\n",
                            "    .dataframe tbody tr th {\n",
                            "        vertical-align: top;\n",
                            "    }\n",
                            "\n",
                            "    .dataframe thead th {\n",
                            "        text-align: right;\n",
                            "    }\n",
                            "</style>\n",
                            "<table border=\"1\" class=\"dataframe\">\n",
                            "  <thead>\n",
                            "    <tr style=\"text-align: right;\">\n",
                            "      <th>AttritionCategory</th>\n",
                            "      <th>Leave</th>\n",
                            "      <th>Stay</th>\n",
                            "    </tr>\n",
                            "    <tr>\n",
                            "      <th>EducationField</th>\n",
                            "      <th></th>\n",
                            "      <th></th>\n",
                            "    </tr>\n",
                            "  </thead>\n",
                            "  <tbody>\n",
                            "    <tr>\n",
                            "      <th>Human Resources</th>\n",
                            "      <td>2</td>\n",
                            "      <td>13</td>\n",
                            "    </tr>\n",
                            "    <tr>\n",
                            "      <th>Life Sciences</th>\n",
                            "      <td>70</td>\n",
                            "      <td>366</td>\n",
                            "    </tr>\n",
                            "    <tr>\n",
                            "      <th>Marketing</th>\n",
                            "      <td>26</td>\n",
                            "      <td>96</td>\n",
                            "    </tr>\n",
                            "    <tr>\n",
                            "      <th>Medical</th>\n",
                            "      <td>46</td>\n",
                            "      <td>284</td>\n",
                            "    </tr>\n",
                            "    <tr>\n",
                            "      <th>Other</th>\n",
                            "      <td>10</td>\n",
                            "      <td>49</td>\n",
                            "    </tr>\n",
                            "    <tr>\n",
                            "      <th>Technical Degree</th>\n",
                            "      <td>25</td>\n",
                            "      <td>71</td>\n",
                            "    </tr>\n",
                            "  </tbody>\n",
                            "</table>\n",
                            "</div>"
                        ],
                        "text/plain": [
                            "AttritionCategory  Leave  Stay\n",
                            "EducationField                \n",
                            "Human Resources        2    13\n",
                            "Life Sciences         70   366\n",
                            "Marketing             26    96\n",
                            "Medical               46   284\n",
                            "Other                 10    49\n",
                            "Technical Degree      25    71"
                        ]
                    },
                    "execution_count": 20,
                    "metadata": {},
                    "output_type": "execute_result"
                }
            ],
            "source": [
                "education_field = pd.pivot_table(\n",
                "    df,\n",
                "    values=\"EmployeeId\",\n",
                "    index=\"EducationField\",\n",
                "    columns=\"AttritionCategory\",\n",
                "    aggfunc=\"count\",\n",
                ")\n",
                "\n",
                "education_field"
            ]
        },
        {
            "cell_type": "code",
            "execution_count": 21,
            "metadata": {},
            "outputs": [
                {
                    "data": {
                        "image/png": "[encoded data removed]",
                        "text/plain": [
                            "<Figure size 800x600 with 1 Axes>"
                        ]
                    },
                    "metadata": {},
                    "output_type": "display_data"
                }
            ],
            "source": [
                "# Visualisasi\n",
                "x = education_field.index\n",
                "stay = education_field[\"Stay\"]\n",
                "leave = education_field[\"Leave\"]\n",
                "fig, ax = plt.subplots(figsize=(8, 6))\n",
                "ax.bar(x, stay, label=\"Stay\", color=\"#A4D2FF\")\n",
                "ax.bar(x, leave, label=\"Leave\", color=\"#FFB0A9\")\n",
                "for i, v in enumerate(stay):\n",
                "    ax.text(i, v + 0.5, str(v), ha=\"right\", va=\"bottom\", fontsize=10)\n",
                "for i, v in enumerate(leave):\n",
                "    ax.text(i, v + 0.5, str(v), ha=\"left\", va=\"bottom\", fontsize=10)\n",
                "ax.set_xlabel(\"Education Field\")\n",
                "ax.legend()\n",
                "ax.set_ylabel(\"Number of Employees\")\n",
                "ax.set_title(\"Attrition by Education Field\")\n",
                "plt.show()"
            ]
        },
        {
            "cell_type": "markdown",
            "metadata": {},
            "source": [
                "karyawan dengan latar belakang pendidikan Life Sciences memiliki jumlah attrition tertinggi yaitu 70 orang, namun juga mendominasi dalam jumlah karyawan yang bertahan (366 orang), menunjukkan proporsi besar dalam populasi. Bidang Medical juga mencatat attrition cukup tinggi (46 orang) meskipun jumlah stay-nya juga besar (284 orang), menandakan tantangan retensi yang perlu diperhatikan. Sebaliknya, bidang Human Resources memiliki angka attrition paling rendah (2 orang)\n"
            ]
        },
        {
            "cell_type": "markdown",
            "metadata": {},
            "source": [
                "### Analisis Pekerjaan dan Penghasilan\n"
            ]
        },
        {
            "cell_type": "markdown",
            "metadata": {},
            "source": [
                "#### Attrition by Department\n"
            ]
        },
        {
            "cell_type": "code",
            "execution_count": 22,
            "metadata": {},
            "outputs": [
                {
                    "data": {
                        "application/vnd.microsoft.datawrangler.viewer.v0+json": {
                            "columns": [
                                {
                                    "name": "Department",
                                    "rawType": "object",
                                    "type": "string"
                                },
                                {
                                    "name": "Leave",
                                    "rawType": "int64",
                                    "type": "integer"
                                },
                                {
                                    "name": "Stay",
                                    "rawType": "int64",
                                    "type": "integer"
                                }
                            ],
                            "ref": "732fbc4d-458a-47e6-a988-a0e6410d99a3",
                            "rows": [
                                [
                                    "Human Resources",
                                    "6",
                                    "32"
                                ],
                                [
                                    "Research & Development",
                                    "107",
                                    "594"
                                ],
                                [
                                    "Sales",
                                    "66",
                                    "253"
                                ]
                            ],
                            "shape": {
                                "columns": 2,
                                "rows": 3
                            }
                        },
                        "text/html": [
                            "<div>\n",
                            "<style scoped>\n",
                            "    .dataframe tbody tr th:only-of-type {\n",
                            "        vertical-align: middle;\n",
                            "    }\n",
                            "\n",
                            "    .dataframe tbody tr th {\n",
                            "        vertical-align: top;\n",
                            "    }\n",
                            "\n",
                            "    .dataframe thead th {\n",
                            "        text-align: right;\n",
                            "    }\n",
                            "</style>\n",
                            "<table border=\"1\" class=\"dataframe\">\n",
                            "  <thead>\n",
                            "    <tr style=\"text-align: right;\">\n",
                            "      <th>AttritionCategory</th>\n",
                            "      <th>Leave</th>\n",
                            "      <th>Stay</th>\n",
                            "    </tr>\n",
                            "    <tr>\n",
                            "      <th>Department</th>\n",
                            "      <th></th>\n",
                            "      <th></th>\n",
                            "    </tr>\n",
                            "  </thead>\n",
                            "  <tbody>\n",
                            "    <tr>\n",
                            "      <th>Human Resources</th>\n",
                            "      <td>6</td>\n",
                            "      <td>32</td>\n",
                            "    </tr>\n",
                            "    <tr>\n",
                            "      <th>Research &amp; Development</th>\n",
                            "      <td>107</td>\n",
                            "      <td>594</td>\n",
                            "    </tr>\n",
                            "    <tr>\n",
                            "      <th>Sales</th>\n",
                            "      <td>66</td>\n",
                            "      <td>253</td>\n",
                            "    </tr>\n",
                            "  </tbody>\n",
                            "</table>\n",
                            "</div>"
                        ],
                        "text/plain": [
                            "AttritionCategory       Leave  Stay\n",
                            "Department                         \n",
                            "Human Resources             6    32\n",
                            "Research & Development    107   594\n",
                            "Sales                      66   253"
                        ]
                    },
                    "execution_count": 22,
                    "metadata": {},
                    "output_type": "execute_result"
                }
            ],
            "source": [
                "# Pivot\n",
                "department_attrition = pd.pivot_table(\n",
                "    df,\n",
                "    index=\"Department\",\n",
                "    values=\"EmployeeId\",\n",
                "    columns=\"AttritionCategory\",\n",
                "    aggfunc=\"count\",\n",
                ")\n",
                "department_attrition"
            ]
        },
        {
            "cell_type": "code",
            "execution_count": 23,
            "metadata": {},
            "outputs": [
                {
                    "data": {
                        "image/png": "[encoded data removed]",
                        "text/plain": [
                            "<Figure size 1000x600 with 1 Axes>"
                        ]
                    },
                    "metadata": {},
                    "output_type": "display_data"
                }
            ],
            "source": [
                "# Visualisasi\n",
                "x = department_attrition.index\n",
                "stay = department_attrition[\"Stay\"]\n",
                "leave = department_attrition[\"Leave\"]\n",
                "\n",
                "fig, ax = plt.subplots(figsize=(10, 6))\n",
                "ax.bar(x, stay, label=\"Stay\", color=\"#A4D2FF\")\n",
                "ax.bar(x, leave, label=\"Leave\", color=\"#FFB0A9\")\n",
                "for i, v in enumerate(stay):\n",
                "    ax.text(i, v + 0.5, str(v), ha=\"center\", va=\"bottom\", fontsize=10)\n",
                "for i, v in enumerate(leave):\n",
                "    ax.text(i, v + 0.5, str(v), ha=\"center\", va=\"bottom\", fontsize=10)\n",
                "ax.set_xlabel(\"Department\")\n",
                "ax.set_ylabel(\"Number of Employees\")\n",
                "ax.set_title(\"Attrition by Department\")\n",
                "ax.legend()\n",
                "plt.show()"
            ]
        },
        {
            "cell_type": "markdown",
            "metadata": {},
            "source": [
                "departemen Research & Development memiliki jumlah attrition tertinggi yaitu 107 karyawan, yang juga sebanding dengan total populasi terbesar (701 orang) di antara semua departemen. Departemen Sales mencatat angka attrition sebesar 66 karyawan, atau sekitar 20% dari total departemen tersebut. Sementara itu, Human Resources memiliki angka attrition terendah (6 karyawan), namun juga merupakan departemen dengan jumlah karyawan paling sedikit (38 orang)\n"
            ]
        },
        {
            "cell_type": "markdown",
            "metadata": {},
            "source": [
                "#### Attrition by Job Role\n"
            ]
        },
        {
            "cell_type": "code",
            "execution_count": 24,
            "metadata": {},
            "outputs": [
                {
                    "data": {
                        "application/vnd.microsoft.datawrangler.viewer.v0+json": {
                            "columns": [
                                {
                                    "name": "JobRole",
                                    "rawType": "object",
                                    "type": "string"
                                },
                                {
                                    "name": "Leave",
                                    "rawType": "int64",
                                    "type": "integer"
                                },
                                {
                                    "name": "Stay",
                                    "rawType": "int64",
                                    "type": "integer"
                                }
                            ],
                            "ref": "6ce7e604-819b-4f40-b75a-49678a78a3f7",
                            "rows": [
                                [
                                    "Sales Executive",
                                    "39",
                                    "193"
                                ],
                                [
                                    "Research Scientist",
                                    "38",
                                    "176"
                                ],
                                [
                                    "Laboratory Technician",
                                    "49",
                                    "139"
                                ],
                                [
                                    "Manufacturing Director",
                                    "7",
                                    "100"
                                ],
                                [
                                    "Healthcare Representative",
                                    "8",
                                    "80"
                                ],
                                [
                                    "Manager",
                                    "5",
                                    "74"
                                ],
                                [
                                    "Research Director",
                                    "2",
                                    "60"
                                ],
                                [
                                    "Sales Representative",
                                    "25",
                                    "33"
                                ],
                                [
                                    "Human Resources",
                                    "6",
                                    "24"
                                ]
                            ],
                            "shape": {
                                "columns": 2,
                                "rows": 9
                            }
                        },
                        "text/html": [
                            "<div>\n",
                            "<style scoped>\n",
                            "    .dataframe tbody tr th:only-of-type {\n",
                            "        vertical-align: middle;\n",
                            "    }\n",
                            "\n",
                            "    .dataframe tbody tr th {\n",
                            "        vertical-align: top;\n",
                            "    }\n",
                            "\n",
                            "    .dataframe thead th {\n",
                            "        text-align: right;\n",
                            "    }\n",
                            "</style>\n",
                            "<table border=\"1\" class=\"dataframe\">\n",
                            "  <thead>\n",
                            "    <tr style=\"text-align: right;\">\n",
                            "      <th>AttritionCategory</th>\n",
                            "      <th>Leave</th>\n",
                            "      <th>Stay</th>\n",
                            "    </tr>\n",
                            "    <tr>\n",
                            "      <th>JobRole</th>\n",
                            "      <th></th>\n",
                            "      <th></th>\n",
                            "    </tr>\n",
                            "  </thead>\n",
                            "  <tbody>\n",
                            "    <tr>\n",
                            "      <th>Sales Executive</th>\n",
                            "      <td>39</td>\n",
                            "      <td>193</td>\n",
                            "    </tr>\n",
                            "    <tr>\n",
                            "      <th>Research Scientist</th>\n",
                            "      <td>38</td>\n",
                            "      <td>176</td>\n",
                            "    </tr>\n",
                            "    <tr>\n",
                            "      <th>Laboratory Technician</th>\n",
                            "      <td>49</td>\n",
                            "      <td>139</td>\n",
                            "    </tr>\n",
                            "    <tr>\n",
                            "      <th>Manufacturing Director</th>\n",
                            "      <td>7</td>\n",
                            "      <td>100</td>\n",
                            "    </tr>\n",
                            "    <tr>\n",
                            "      <th>Healthcare Representative</th>\n",
                            "      <td>8</td>\n",
                            "      <td>80</td>\n",
                            "    </tr>\n",
                            "    <tr>\n",
                            "      <th>Manager</th>\n",
                            "      <td>5</td>\n",
                            "      <td>74</td>\n",
                            "    </tr>\n",
                            "    <tr>\n",
                            "      <th>Research Director</th>\n",
                            "      <td>2</td>\n",
                            "      <td>60</td>\n",
                            "    </tr>\n",
                            "    <tr>\n",
                            "      <th>Sales Representative</th>\n",
                            "      <td>25</td>\n",
                            "      <td>33</td>\n",
                            "    </tr>\n",
                            "    <tr>\n",
                            "      <th>Human Resources</th>\n",
                            "      <td>6</td>\n",
                            "      <td>24</td>\n",
                            "    </tr>\n",
                            "  </tbody>\n",
                            "</table>\n",
                            "</div>"
                        ],
                        "text/plain": [
                            "AttritionCategory          Leave  Stay\n",
                            "JobRole                               \n",
                            "Sales Executive               39   193\n",
                            "Research Scientist            38   176\n",
                            "Laboratory Technician         49   139\n",
                            "Manufacturing Director         7   100\n",
                            "Healthcare Representative      8    80\n",
                            "Manager                        5    74\n",
                            "Research Director              2    60\n",
                            "Sales Representative          25    33\n",
                            "Human Resources                6    24"
                        ]
                    },
                    "execution_count": 24,
                    "metadata": {},
                    "output_type": "execute_result"
                }
            ],
            "source": [
                "job_role_attrition = pd.pivot_table(\n",
                "    df,\n",
                "    index=\"JobRole\",\n",
                "    columns=\"AttritionCategory\",\n",
                "    values=\"EmployeeId\",\n",
                "    aggfunc=\"count\",\n",
                ").sort_values(by=\"Stay\", ascending=False)\n",
                "\n",
                "job_role_attrition"
            ]
        },
        {
            "cell_type": "code",
            "execution_count": 25,
            "metadata": {},
            "outputs": [],
            "source": [
                "category_job_role = {\n",
                "    \"Sales Executive\": \"Sales\",\n",
                "    \"Research Scientist\": \"Research\",\n",
                "    \"Laboratory Technician\": \"Research\",\n",
                "    \"Manufacturing Director\": \"Manufacturing\",\n",
                "    \"Healthcare Representative\": \"Healthcare\",\n",
                "    \"Manager\": \"Management\",\n",
                "    \"Sales Representative\": \"Sales\",\n",
                "    \"Research Director\": \"Research\",\n",
                "    \"Human Resources\": \"HR\",\n",
                "}\n",
                "\n",
                "df[\"JobRoleCategory\"] = df[\"JobRole\"].map(category_job_role)"
            ]
        },
        {
            "cell_type": "code",
            "execution_count": 26,
            "metadata": {},
            "outputs": [
                {
                    "data": {
                        "application/vnd.microsoft.datawrangler.viewer.v0+json": {
                            "columns": [
                                {
                                    "name": "JobRoleCategory",
                                    "rawType": "object",
                                    "type": "string"
                                },
                                {
                                    "name": "Leave",
                                    "rawType": "int64",
                                    "type": "integer"
                                },
                                {
                                    "name": "Stay",
                                    "rawType": "int64",
                                    "type": "integer"
                                }
                            ],
                            "ref": "d8ed3e3d-dcc6-49a7-9699-e43c0dcde439",
                            "rows": [
                                [
                                    "Research",
                                    "89",
                                    "375"
                                ],
                                [
                                    "Sales",
                                    "64",
                                    "226"
                                ],
                                [
                                    "Manufacturing",
                                    "7",
                                    "100"
                                ],
                                [
                                    "Healthcare",
                                    "8",
                                    "80"
                                ],
                                [
                                    "Management",
                                    "5",
                                    "74"
                                ],
                                [
                                    "HR",
                                    "6",
                                    "24"
                                ]
                            ],
                            "shape": {
                                "columns": 2,
                                "rows": 6
                            }
                        },
                        "text/html": [
                            "<div>\n",
                            "<style scoped>\n",
                            "    .dataframe tbody tr th:only-of-type {\n",
                            "        vertical-align: middle;\n",
                            "    }\n",
                            "\n",
                            "    .dataframe tbody tr th {\n",
                            "        vertical-align: top;\n",
                            "    }\n",
                            "\n",
                            "    .dataframe thead th {\n",
                            "        text-align: right;\n",
                            "    }\n",
                            "</style>\n",
                            "<table border=\"1\" class=\"dataframe\">\n",
                            "  <thead>\n",
                            "    <tr style=\"text-align: right;\">\n",
                            "      <th>AttritionCategory</th>\n",
                            "      <th>Leave</th>\n",
                            "      <th>Stay</th>\n",
                            "    </tr>\n",
                            "    <tr>\n",
                            "      <th>JobRoleCategory</th>\n",
                            "      <th></th>\n",
                            "      <th></th>\n",
                            "    </tr>\n",
                            "  </thead>\n",
                            "  <tbody>\n",
                            "    <tr>\n",
                            "      <th>Research</th>\n",
                            "      <td>89</td>\n",
                            "      <td>375</td>\n",
                            "    </tr>\n",
                            "    <tr>\n",
                            "      <th>Sales</th>\n",
                            "      <td>64</td>\n",
                            "      <td>226</td>\n",
                            "    </tr>\n",
                            "    <tr>\n",
                            "      <th>Manufacturing</th>\n",
                            "      <td>7</td>\n",
                            "      <td>100</td>\n",
                            "    </tr>\n",
                            "    <tr>\n",
                            "      <th>Healthcare</th>\n",
                            "      <td>8</td>\n",
                            "      <td>80</td>\n",
                            "    </tr>\n",
                            "    <tr>\n",
                            "      <th>Management</th>\n",
                            "      <td>5</td>\n",
                            "      <td>74</td>\n",
                            "    </tr>\n",
                            "    <tr>\n",
                            "      <th>HR</th>\n",
                            "      <td>6</td>\n",
                            "      <td>24</td>\n",
                            "    </tr>\n",
                            "  </tbody>\n",
                            "</table>\n",
                            "</div>"
                        ],
                        "text/plain": [
                            "AttritionCategory  Leave  Stay\n",
                            "JobRoleCategory               \n",
                            "Research              89   375\n",
                            "Sales                 64   226\n",
                            "Manufacturing          7   100\n",
                            "Healthcare             8    80\n",
                            "Management             5    74\n",
                            "HR                     6    24"
                        ]
                    },
                    "execution_count": 26,
                    "metadata": {},
                    "output_type": "execute_result"
                }
            ],
            "source": [
                "# Pivot\n",
                "job_role_attr_category = pd.pivot_table(\n",
                "    df,\n",
                "    index=\"JobRoleCategory\",\n",
                "    values=\"EmployeeId\",\n",
                "    columns=\"AttritionCategory\",\n",
                "    aggfunc=\"count\",\n",
                ").sort_values(by=\"Stay\", ascending=False)\n",
                "job_role_attr_category"
            ]
        },
        {
            "cell_type": "code",
            "execution_count": 27,
            "metadata": {},
            "outputs": [
                {
                    "data": {
                        "image/png": "[encoded data removed]",
                        "text/plain": [
                            "<Figure size 1000x600 with 1 Axes>"
                        ]
                    },
                    "metadata": {},
                    "output_type": "display_data"
                }
            ],
            "source": [
                "# Visualisasi\n",
                "fig, ax = plt.subplots(figsize=(10, 6))\n",
                "x = job_role_attr_category.index\n",
                "stay = job_role_attr_category[\"Stay\"]\n",
                "leave = job_role_attr_category[\"Leave\"]\n",
                "ax.bar(x, stay, label=\"Stay\", color=\"#A4D2FF\")\n",
                "ax.bar(x, leave, label=\"Leave\", color=\"#FFB0A9\")\n",
                "for i, v in enumerate(stay):\n",
                "    ax.text(i, v + 0.5, str(v), ha=\"center\", va=\"bottom\", fontsize=10)\n",
                "for i, v in enumerate(leave):\n",
                "    ax.text(i, v + 0.5, str(v), ha=\"center\", va=\"bottom\", fontsize=10)\n",
                "ax.set_xlabel(\"Job Role Category\")\n",
                "ax.set_ylabel(\"Number of Employees\")\n",
                "ax.set_title(\"Attrition by Job Role Category\")\n",
                "ax.legend()\n",
                "plt.tight_layout()\n",
                "plt.show()"
            ]
        },
        {
            "cell_type": "markdown",
            "metadata": {},
            "source": [
                "- Kategori pekerjaan Research memiliki jumlah karyawan keluar tertinggi, yaitu 89 orang dari 464, dengan tingkat attrition sekitar 19%.\n",
                "- Kategori Sales menunjukkan tingkat attrition yang cukup tinggi juga, yaitu 64 dari 290 orang (sekitar 22%).\n",
                "- Sementara itu, kategori seperti Management, Healthcare, dan Manufacturing menunjukkan attrition yang rendah — semuanya di bawah 10% — menandakan kestabilan lebih tinggi di peran-peran tersebut.\n",
                "- Kategori HR memiliki tingkat attrition sekitar 20% (6 dari 30 orang), lebih tinggi dibanding beberapa kategori lainnya meskipun dengan jumlah total karyawan yang lebih kecil.\n"
            ]
        },
        {
            "cell_type": "markdown",
            "metadata": {},
            "source": [
                "#### Job level by attrition\n"
            ]
        },
        {
            "cell_type": "code",
            "execution_count": 28,
            "metadata": {},
            "outputs": [],
            "source": [
                "job_level = {\n",
                "    1: \"Staff \",\n",
                "    2: \"Associate \",\n",
                "    3: \"Senior Staff\",\n",
                "    4: \"Manager \",\n",
                "    5: \"Senior Manager\",\n",
                "}\n",
                "\n",
                "df[\"JobLevelCategory\"] = df[\"JobLevel\"].map(job_level)"
            ]
        },
        {
            "cell_type": "code",
            "execution_count": 29,
            "metadata": {},
            "outputs": [
                {
                    "data": {
                        "application/vnd.microsoft.datawrangler.viewer.v0+json": {
                            "columns": [
                                {
                                    "name": "JobLevelCategory",
                                    "rawType": "object",
                                    "type": "string"
                                },
                                {
                                    "name": "Leave",
                                    "rawType": "int64",
                                    "type": "integer"
                                },
                                {
                                    "name": "Stay",
                                    "rawType": "int64",
                                    "type": "integer"
                                }
                            ],
                            "ref": "f239ef11-a313-4fab-b78b-573ef74cf317",
                            "rows": [
                                [
                                    "Associate ",
                                    "37",
                                    "327"
                                ],
                                [
                                    "Manager ",
                                    "4",
                                    "76"
                                ],
                                [
                                    "Senior Manager",
                                    "5",
                                    "50"
                                ],
                                [
                                    "Senior Staff",
                                    "25",
                                    "140"
                                ],
                                [
                                    "Staff ",
                                    "108",
                                    "286"
                                ]
                            ],
                            "shape": {
                                "columns": 2,
                                "rows": 5
                            }
                        },
                        "text/html": [
                            "<div>\n",
                            "<style scoped>\n",
                            "    .dataframe tbody tr th:only-of-type {\n",
                            "        vertical-align: middle;\n",
                            "    }\n",
                            "\n",
                            "    .dataframe tbody tr th {\n",
                            "        vertical-align: top;\n",
                            "    }\n",
                            "\n",
                            "    .dataframe thead th {\n",
                            "        text-align: right;\n",
                            "    }\n",
                            "</style>\n",
                            "<table border=\"1\" class=\"dataframe\">\n",
                            "  <thead>\n",
                            "    <tr style=\"text-align: right;\">\n",
                            "      <th>AttritionCategory</th>\n",
                            "      <th>Leave</th>\n",
                            "      <th>Stay</th>\n",
                            "    </tr>\n",
                            "    <tr>\n",
                            "      <th>JobLevelCategory</th>\n",
                            "      <th></th>\n",
                            "      <th></th>\n",
                            "    </tr>\n",
                            "  </thead>\n",
                            "  <tbody>\n",
                            "    <tr>\n",
                            "      <th>Associate</th>\n",
                            "      <td>37</td>\n",
                            "      <td>327</td>\n",
                            "    </tr>\n",
                            "    <tr>\n",
                            "      <th>Manager</th>\n",
                            "      <td>4</td>\n",
                            "      <td>76</td>\n",
                            "    </tr>\n",
                            "    <tr>\n",
                            "      <th>Senior Manager</th>\n",
                            "      <td>5</td>\n",
                            "      <td>50</td>\n",
                            "    </tr>\n",
                            "    <tr>\n",
                            "      <th>Senior Staff</th>\n",
                            "      <td>25</td>\n",
                            "      <td>140</td>\n",
                            "    </tr>\n",
                            "    <tr>\n",
                            "      <th>Staff</th>\n",
                            "      <td>108</td>\n",
                            "      <td>286</td>\n",
                            "    </tr>\n",
                            "  </tbody>\n",
                            "</table>\n",
                            "</div>"
                        ],
                        "text/plain": [
                            "AttritionCategory  Leave  Stay\n",
                            "JobLevelCategory              \n",
                            "Associate             37   327\n",
                            "Manager                4    76\n",
                            "Senior Manager         5    50\n",
                            "Senior Staff          25   140\n",
                            "Staff                108   286"
                        ]
                    },
                    "execution_count": 29,
                    "metadata": {},
                    "output_type": "execute_result"
                }
            ],
            "source": [
                "job_level_category = pd.pivot_table(\n",
                "    df,\n",
                "    values=\"EmployeeId\",\n",
                "    index=\"JobLevelCategory\",\n",
                "    columns=\"AttritionCategory\",\n",
                "    aggfunc=\"count\",\n",
                ")\n",
                "\n",
                "job_level_category"
            ]
        },
        {
            "cell_type": "code",
            "execution_count": 30,
            "metadata": {},
            "outputs": [
                {
                    "data": {
                        "image/png": "[encoded data removed]",
                        "text/plain": [
                            "<Figure size 1000x600 with 1 Axes>"
                        ]
                    },
                    "metadata": {},
                    "output_type": "display_data"
                }
            ],
            "source": [
                "# Visualisasi\n",
                "x = job_level_category.index\n",
                "stay = job_level_category[\"Stay\"]\n",
                "leave = job_level_category[\"Leave\"]\n",
                "\n",
                "fig, ax = plt.subplots(figsize=(10, 6))\n",
                "ax.bar(x, stay, label=\"Stay\", color=\"#A4D2FF\")\n",
                "ax.bar(x, leave, label=\"Leave\", color=\"#FFB0A9\")\n",
                "for i, v in enumerate(stay):\n",
                "    ax.text(i, v + 0.5, str(v), ha=\"center\", va=\"bottom\", fontsize=10)\n",
                "for i, v in enumerate(leave):\n",
                "    ax.text(i, v + 0.5, str(v), ha=\"center\", va=\"bottom\", fontsize=10)\n",
                "ax.set_xlabel(\"Job Level\")\n",
                "ax.set_ylabel(\"Number of Employees\")\n",
                "ax.set_title(\"Attrition by Job Level\")\n",
                "ax.legend()\n",
                "plt.show()"
            ]
        },
        {
            "cell_type": "markdown",
            "metadata": {},
            "source": [
                "karyawan dengan level Staff mencatat jumlah attrition tertinggi sebanyak 108 orang, meskipun juga memiliki populasi stay yang cukup besar (286 orang), menandakan risiko keluar yang signifikan pada level awal. Sementara itu, level Associate memiliki angka stay tertinggi (327 orang) dengan attrition yang relatif rendah (37 orang), mengindikasikan stabilitas yang lebih baik di level ini. Posisi manajerial seperti Manager dan Senior Manager memiliki angka attrition yang sangat rendah (masing-masing 4 dan 5 orang),\n"
            ]
        },
        {
            "cell_type": "markdown",
            "metadata": {},
            "source": [
                "#### Attrition by MonthlyIncome\n"
            ]
        },
        {
            "cell_type": "code",
            "execution_count": 31,
            "metadata": {},
            "outputs": [
                {
                    "data": {
                        "application/vnd.microsoft.datawrangler.viewer.v0+json": {
                            "columns": [
                                {
                                    "name": "index",
                                    "rawType": "object",
                                    "type": "string"
                                },
                                {
                                    "name": "Leave",
                                    "rawType": "float64",
                                    "type": "float"
                                },
                                {
                                    "name": "Stay",
                                    "rawType": "float64",
                                    "type": "float"
                                }
                            ],
                            "ref": "27b3d0f9-91d1-4af5-a4d5-45af6ef856f6",
                            "rows": [
                                [
                                    "MonthlyIncome",
                                    "4872.94",
                                    "6982.93"
                                ]
                            ],
                            "shape": {
                                "columns": 2,
                                "rows": 1
                            }
                        },
                        "text/html": [
                            "<div>\n",
                            "<style scoped>\n",
                            "    .dataframe tbody tr th:only-of-type {\n",
                            "        vertical-align: middle;\n",
                            "    }\n",
                            "\n",
                            "    .dataframe tbody tr th {\n",
                            "        vertical-align: top;\n",
                            "    }\n",
                            "\n",
                            "    .dataframe thead th {\n",
                            "        text-align: right;\n",
                            "    }\n",
                            "</style>\n",
                            "<table border=\"1\" class=\"dataframe\">\n",
                            "  <thead>\n",
                            "    <tr style=\"text-align: right;\">\n",
                            "      <th>AttritionCategory</th>\n",
                            "      <th>Leave</th>\n",
                            "      <th>Stay</th>\n",
                            "    </tr>\n",
                            "  </thead>\n",
                            "  <tbody>\n",
                            "    <tr>\n",
                            "      <th>MonthlyIncome</th>\n",
                            "      <td>4872.94</td>\n",
                            "      <td>6982.93</td>\n",
                            "    </tr>\n",
                            "  </tbody>\n",
                            "</table>\n",
                            "</div>"
                        ],
                        "text/plain": [
                            "AttritionCategory    Leave     Stay\n",
                            "MonthlyIncome      4872.94  6982.93"
                        ]
                    },
                    "execution_count": 31,
                    "metadata": {},
                    "output_type": "execute_result"
                }
            ],
            "source": [
                "avg_monthly_income = pd.pivot_table(\n",
                "    df, columns=\"AttritionCategory\", values=\"MonthlyIncome\", aggfunc=\"mean\"\n",
                ")\n",
                "\n",
                "avg_monthly_income.head().round(2)"
            ]
        },
        {
            "cell_type": "code",
            "execution_count": 32,
            "metadata": {},
            "outputs": [
                {
                    "data": {
                        "image/png": "[encoded data removed]",
                        "text/plain": [
                            "<Figure size 800x500 with 1 Axes>"
                        ]
                    },
                    "metadata": {},
                    "output_type": "display_data"
                }
            ],
            "source": [
                "fig, ax = plt.subplots(figsize=(8, 5))\n",
                "colors = [\"#FFB0A9\", \"#A4D2FF\"]\n",
                "bars = ax.bar(avg_monthly_income.columns, avg_monthly_income.values[0], color=colors)\n",
                "# Menambahkan label di atas setiap bar\n",
                "for bar in bars:\n",
                "    height = bar.get_height()\n",
                "    ax.text(\n",
                "        bar.get_x() + bar.get_width() / 2,\n",
                "        height + 100,  # sedikit di atas bar\n",
                "        f\"{height:.2f}\",\n",
                "        ha=\"center\",\n",
                "        va=\"bottom\",\n",
                "        fontsize=10,\n",
                "    )\n",
                "# Label dan gaya plot\n",
                "ax.set_title(\"Rata-rata Monthly Income berdasarkan Attrition\")\n",
                "ax.set_ylabel(\"Monthly Income\")\n",
                "ax.set_xlabel(\"Attrition\")\n",
                "ax.set_ylim(0, max(avg_monthly_income.values[0]) * 1.2)  # ruang untuk label atas\n",
                "ax.grid(axis=\"y\", linestyle=\"--\", alpha=0.7)\n",
                "plt.tight_layout()\n",
                "plt.show()"
            ]
        },
        {
            "cell_type": "markdown",
            "metadata": {},
            "source": [
                "terlihat bahwa karyawan yang keluar (Leave) memiliki rata-rata Monthly Income sebesar 4,872.94, sedangkan karyawan yang tetap bekerja (Stay) memiliki rata-rata 6,982.93. Ini menunjukkan perbedaan pendapatan yang cukup signifikan, di mana karyawan dengan gaji bulanan yang lebih tinggi cenderung lebih bertahan. Temuan ini mendukung hipotesis bahwa tingkat kompensasi yang lebih tinggi dapat berperan dalam meningkatkan retensi karyawan.\n"
            ]
        },
        {
            "cell_type": "markdown",
            "metadata": {},
            "source": [
                "#### Attrition by Business Travel\n"
            ]
        },
        {
            "cell_type": "code",
            "execution_count": 33,
            "metadata": {},
            "outputs": [
                {
                    "data": {
                        "application/vnd.microsoft.datawrangler.viewer.v0+json": {
                            "columns": [
                                {
                                    "name": "BusinessTravel",
                                    "rawType": "object",
                                    "type": "string"
                                },
                                {
                                    "name": "Leave",
                                    "rawType": "int64",
                                    "type": "integer"
                                },
                                {
                                    "name": "Stay",
                                    "rawType": "int64",
                                    "type": "integer"
                                }
                            ],
                            "ref": "c675e57d-6e69-4be0-b1f8-4023421eb19d",
                            "rows": [
                                [
                                    "Non-Travel",
                                    "11",
                                    "96"
                                ],
                                [
                                    "Travel_Frequently",
                                    "51",
                                    "154"
                                ],
                                [
                                    "Travel_Rarely",
                                    "117",
                                    "629"
                                ]
                            ],
                            "shape": {
                                "columns": 2,
                                "rows": 3
                            }
                        },
                        "text/html": [
                            "<div>\n",
                            "<style scoped>\n",
                            "    .dataframe tbody tr th:only-of-type {\n",
                            "        vertical-align: middle;\n",
                            "    }\n",
                            "\n",
                            "    .dataframe tbody tr th {\n",
                            "        vertical-align: top;\n",
                            "    }\n",
                            "\n",
                            "    .dataframe thead th {\n",
                            "        text-align: right;\n",
                            "    }\n",
                            "</style>\n",
                            "<table border=\"1\" class=\"dataframe\">\n",
                            "  <thead>\n",
                            "    <tr style=\"text-align: right;\">\n",
                            "      <th>AttritionCategory</th>\n",
                            "      <th>Leave</th>\n",
                            "      <th>Stay</th>\n",
                            "    </tr>\n",
                            "    <tr>\n",
                            "      <th>BusinessTravel</th>\n",
                            "      <th></th>\n",
                            "      <th></th>\n",
                            "    </tr>\n",
                            "  </thead>\n",
                            "  <tbody>\n",
                            "    <tr>\n",
                            "      <th>Non-Travel</th>\n",
                            "      <td>11</td>\n",
                            "      <td>96</td>\n",
                            "    </tr>\n",
                            "    <tr>\n",
                            "      <th>Travel_Frequently</th>\n",
                            "      <td>51</td>\n",
                            "      <td>154</td>\n",
                            "    </tr>\n",
                            "    <tr>\n",
                            "      <th>Travel_Rarely</th>\n",
                            "      <td>117</td>\n",
                            "      <td>629</td>\n",
                            "    </tr>\n",
                            "  </tbody>\n",
                            "</table>\n",
                            "</div>"
                        ],
                        "text/plain": [
                            "AttritionCategory  Leave  Stay\n",
                            "BusinessTravel                \n",
                            "Non-Travel            11    96\n",
                            "Travel_Frequently     51   154\n",
                            "Travel_Rarely        117   629"
                        ]
                    },
                    "execution_count": 33,
                    "metadata": {},
                    "output_type": "execute_result"
                }
            ],
            "source": [
                "# Pivot\n",
                "attrition_by_business_travel = pd.pivot_table(\n",
                "    df,\n",
                "    index=\"BusinessTravel\",\n",
                "    values=\"EmployeeId\",\n",
                "    columns=\"AttritionCategory\",\n",
                "    aggfunc=\"count\",\n",
                ")\n",
                "attrition_by_business_travel"
            ]
        },
        {
            "cell_type": "code",
            "execution_count": 34,
            "metadata": {},
            "outputs": [
                {
                    "data": {
                        "image/png": "[encoded data removed]",
                        "text/plain": [
                            "<Figure size 1000x800 with 1 Axes>"
                        ]
                    },
                    "metadata": {},
                    "output_type": "display_data"
                }
            ],
            "source": [
                "# Visualisasi\n",
                "x = attrition_by_business_travel.index\n",
                "stay = attrition_by_business_travel[\"Stay\"]\n",
                "leave = attrition_by_business_travel[\"Leave\"]\n",
                "\n",
                "fig, ax = plt.subplots(figsize=(10, 8))\n",
                "ax.bar(\n",
                "    x,\n",
                "    stay,\n",
                "    label=\"Stay\",\n",
                "    color=\"#A4D2FF\",\n",
                ")\n",
                "ax.bar(\n",
                "    x,\n",
                "    leave,\n",
                "    label=\"Leave\",\n",
                "    color=\"#FFB0A9\",\n",
                ")\n",
                "\n",
                "for i, v in enumerate(stay):\n",
                "    ax.text(i, v + 0.5, str(v), ha=\"center\", va=\"bottom\", fontsize=10)\n",
                "for i, v in enumerate(leave):\n",
                "    ax.text(i, v + 0.5, str(v), ha=\"center\", va=\"bottom\", fontsize=10)\n",
                "\n",
                "ax.set_xlabel(\"Business Travel\")\n",
                "ax.set_ylabel(\"Jumlah Karyawan\")\n",
                "ax.set_title(\"Jumlah Karyawan Berdasarkan Travel Business\")\n",
                "ax.legend()\n",
                "plt.tight_layout()\n",
                "plt.show()"
            ]
        },
        {
            "cell_type": "markdown",
            "metadata": {},
            "source": [
                "karyawan yang jarang melakukan perjalanan bisnis (Travel_Rarely) memiliki angka attrition tertinggi yaitu 117 orang, sejalan dengan populasi terbesar mereka (746 total). Menariknya, karyawan yang sering melakukan perjalanan (Travel_Frequently) mencatat attrition sebesar 51 orang dari 205 total, yang berarti secara persentase risiko keluar lebih tinggi dibandingkan kategori lainnya. Sementara itu, karyawan dengan status Non-Travel memiliki tingkat attrition paling rendah (11 orang),\n"
            ]
        },
        {
            "cell_type": "markdown",
            "metadata": {},
            "source": [
                "### Kepuasan dan Keterlibatan\n"
            ]
        },
        {
            "cell_type": "markdown",
            "metadata": {},
            "source": [
                "#### Attrition by Job Satisfaction\n"
            ]
        },
        {
            "cell_type": "code",
            "execution_count": 35,
            "metadata": {},
            "outputs": [
                {
                    "data": {
                        "application/vnd.microsoft.datawrangler.viewer.v0+json": {
                            "columns": [
                                {
                                    "name": "JobSatisfactionCategory",
                                    "rawType": "category",
                                    "type": "unknown"
                                },
                                {
                                    "name": "Leave",
                                    "rawType": "int64",
                                    "type": "integer"
                                },
                                {
                                    "name": "Stay",
                                    "rawType": "int64",
                                    "type": "integer"
                                }
                            ],
                            "ref": "fa66bfca-2c1b-423d-a856-b2c4a20f60f5",
                            "rows": [
                                [
                                    "Very High",
                                    "39",
                                    "301"
                                ],
                                [
                                    "High",
                                    "62",
                                    "256"
                                ],
                                [
                                    "Medium",
                                    "32",
                                    "163"
                                ],
                                [
                                    "Low",
                                    "46",
                                    "159"
                                ]
                            ],
                            "shape": {
                                "columns": 2,
                                "rows": 4
                            }
                        },
                        "text/html": [
                            "<div>\n",
                            "<style scoped>\n",
                            "    .dataframe tbody tr th:only-of-type {\n",
                            "        vertical-align: middle;\n",
                            "    }\n",
                            "\n",
                            "    .dataframe tbody tr th {\n",
                            "        vertical-align: top;\n",
                            "    }\n",
                            "\n",
                            "    .dataframe thead th {\n",
                            "        text-align: right;\n",
                            "    }\n",
                            "</style>\n",
                            "<table border=\"1\" class=\"dataframe\">\n",
                            "  <thead>\n",
                            "    <tr style=\"text-align: right;\">\n",
                            "      <th>AttritionCategory</th>\n",
                            "      <th>Leave</th>\n",
                            "      <th>Stay</th>\n",
                            "    </tr>\n",
                            "    <tr>\n",
                            "      <th>JobSatisfactionCategory</th>\n",
                            "      <th></th>\n",
                            "      <th></th>\n",
                            "    </tr>\n",
                            "  </thead>\n",
                            "  <tbody>\n",
                            "    <tr>\n",
                            "      <th>Very High</th>\n",
                            "      <td>39</td>\n",
                            "      <td>301</td>\n",
                            "    </tr>\n",
                            "    <tr>\n",
                            "      <th>High</th>\n",
                            "      <td>62</td>\n",
                            "      <td>256</td>\n",
                            "    </tr>\n",
                            "    <tr>\n",
                            "      <th>Medium</th>\n",
                            "      <td>32</td>\n",
                            "      <td>163</td>\n",
                            "    </tr>\n",
                            "    <tr>\n",
                            "      <th>Low</th>\n",
                            "      <td>46</td>\n",
                            "      <td>159</td>\n",
                            "    </tr>\n",
                            "  </tbody>\n",
                            "</table>\n",
                            "</div>"
                        ],
                        "text/plain": [
                            "AttritionCategory        Leave  Stay\n",
                            "JobSatisfactionCategory             \n",
                            "Very High                   39   301\n",
                            "High                        62   256\n",
                            "Medium                      32   163\n",
                            "Low                         46   159"
                        ]
                    },
                    "execution_count": 35,
                    "metadata": {},
                    "output_type": "execute_result"
                }
            ],
            "source": [
                "# Pivot\n",
                "satisfaction_category = {1: \"Low\", 2: \"Medium\", 3: \"High\", 4: \"Very High\"}\n",
                "\n",
                "df[\"JobSatisfactionCategory\"] = pd.cut(\n",
                "    df[\"JobSatisfaction\"],\n",
                "    bins=[0, 1, 2, 3, 4],\n",
                "    labels=list(satisfaction_category.values()),\n",
                "    right=True,\n",
                ")\n",
                "\n",
                "job_satisfaction_categorical = pd.pivot_table(\n",
                "    df,\n",
                "    index=\"JobSatisfactionCategory\",\n",
                "    columns=\"AttritionCategory\",\n",
                "    values=\"Attrition\",\n",
                "    aggfunc=\"count\",\n",
                ").sort_values(by=\"Stay\", ascending=False)\n",
                "\n",
                "job_satisfaction_categorical"
            ]
        },
        {
            "cell_type": "code",
            "execution_count": 36,
            "metadata": {},
            "outputs": [
                {
                    "data": {
                        "image/png": "[encoded data removed]",
                        "text/plain": [
                            "<Figure size 1000x800 with 1 Axes>"
                        ]
                    },
                    "metadata": {},
                    "output_type": "display_data"
                }
            ],
            "source": [
                "# Visualisasi\n",
                "x = job_satisfaction_categorical.index\n",
                "stay = job_satisfaction_categorical[\"Stay\"]\n",
                "leave = job_satisfaction_categorical[\"Leave\"]\n",
                "\n",
                "fig, ax = plt.subplots(figsize=(10, 8))\n",
                "ax.bar(\n",
                "    x,\n",
                "    stay,\n",
                "    label=\"Stay\",\n",
                "    color=\"#A4D2FF\",\n",
                ")\n",
                "ax.bar(\n",
                "    x,\n",
                "    leave,\n",
                "    label=\"Leave\",\n",
                "    color=\"#FFB0A9\",\n",
                ")\n",
                "\n",
                "for i, v in enumerate(stay):\n",
                "    ax.text(i, v + 0.5, str(v), ha=\"center\", va=\"bottom\", fontsize=10)\n",
                "for i, v in enumerate(leave):\n",
                "    ax.text(i, v + 0.5, str(v), ha=\"center\", va=\"bottom\", fontsize=10)\n",
                "\n",
                "ax.set_xlabel(\"Job Satisfaction\")\n",
                "ax.set_ylabel(\"Jumlah Karyawan\")\n",
                "ax.set_title(\"Jumlah Karyawan Berdasarkan Job Satisfaction\")\n",
                "ax.legend()\n",
                "plt.tight_layout()\n",
                "plt.show()"
            ]
        },
        {
            "cell_type": "markdown",
            "metadata": {},
            "source": [
                "karyawan dengan tingkat Job Satisfaction tertinggi (Very High) menunjukkan angka attrition yang paling rendah secara persentase, yaitu 39 orang dari 340 total, mencerminkan dampak positif kepuasan kerja terhadap retensi. Sebaliknya, kategori High justru mencatat jumlah attrition tertinggi (62 orang), meskipun ini mungkin disebabkan oleh jumlah populasi yang besar. Sementara itu, karyawan dengan Low Job Satisfaction menunjukkan rasio keluar yang cukup signifikan (46 dari 205), menguatkan indikasi bahwa kepuasan kerja yang rendah berkontribusi pada keputusan untuk resign.\n"
            ]
        },
        {
            "cell_type": "markdown",
            "metadata": {},
            "source": [
                "#### Attrition by Environment Satisfaction\n"
            ]
        },
        {
            "cell_type": "code",
            "execution_count": 37,
            "metadata": {},
            "outputs": [
                {
                    "data": {
                        "application/vnd.microsoft.datawrangler.viewer.v0+json": {
                            "columns": [
                                {
                                    "name": "EnvironmentSatisfactionCategory",
                                    "rawType": "category",
                                    "type": "unknown"
                                },
                                {
                                    "name": "Leave",
                                    "rawType": "int64",
                                    "type": "integer"
                                },
                                {
                                    "name": "Stay",
                                    "rawType": "int64",
                                    "type": "integer"
                                }
                            ],
                            "ref": "080f0103-b7b5-4b13-878a-ef61b84b9f91",
                            "rows": [
                                [
                                    "Low",
                                    "57",
                                    "152"
                                ],
                                [
                                    "Medium",
                                    "35",
                                    "165"
                                ],
                                [
                                    "High",
                                    "47",
                                    "288"
                                ],
                                [
                                    "Very High",
                                    "40",
                                    "274"
                                ]
                            ],
                            "shape": {
                                "columns": 2,
                                "rows": 4
                            }
                        },
                        "text/html": [
                            "<div>\n",
                            "<style scoped>\n",
                            "    .dataframe tbody tr th:only-of-type {\n",
                            "        vertical-align: middle;\n",
                            "    }\n",
                            "\n",
                            "    .dataframe tbody tr th {\n",
                            "        vertical-align: top;\n",
                            "    }\n",
                            "\n",
                            "    .dataframe thead th {\n",
                            "        text-align: right;\n",
                            "    }\n",
                            "</style>\n",
                            "<table border=\"1\" class=\"dataframe\">\n",
                            "  <thead>\n",
                            "    <tr style=\"text-align: right;\">\n",
                            "      <th>AttritionCategory</th>\n",
                            "      <th>Leave</th>\n",
                            "      <th>Stay</th>\n",
                            "    </tr>\n",
                            "    <tr>\n",
                            "      <th>EnvironmentSatisfactionCategory</th>\n",
                            "      <th></th>\n",
                            "      <th></th>\n",
                            "    </tr>\n",
                            "  </thead>\n",
                            "  <tbody>\n",
                            "    <tr>\n",
                            "      <th>Low</th>\n",
                            "      <td>57</td>\n",
                            "      <td>152</td>\n",
                            "    </tr>\n",
                            "    <tr>\n",
                            "      <th>Medium</th>\n",
                            "      <td>35</td>\n",
                            "      <td>165</td>\n",
                            "    </tr>\n",
                            "    <tr>\n",
                            "      <th>High</th>\n",
                            "      <td>47</td>\n",
                            "      <td>288</td>\n",
                            "    </tr>\n",
                            "    <tr>\n",
                            "      <th>Very High</th>\n",
                            "      <td>40</td>\n",
                            "      <td>274</td>\n",
                            "    </tr>\n",
                            "  </tbody>\n",
                            "</table>\n",
                            "</div>"
                        ],
                        "text/plain": [
                            "AttritionCategory                Leave  Stay\n",
                            "EnvironmentSatisfactionCategory             \n",
                            "Low                                 57   152\n",
                            "Medium                              35   165\n",
                            "High                                47   288\n",
                            "Very High                           40   274"
                        ]
                    },
                    "execution_count": 37,
                    "metadata": {},
                    "output_type": "execute_result"
                }
            ],
            "source": [
                "# Pivot\n",
                "satisfaction_category = {1: \"Low\", 2: \"Medium\", 3: \"High\", 4: \"Very High\"}\n",
                "\n",
                "df[\"EnvironmentSatisfactionCategory\"] = pd.cut(\n",
                "    df[\"EnvironmentSatisfaction\"],\n",
                "    bins=[0, 1, 2, 3, 4],\n",
                "    labels=list(satisfaction_category.values()),\n",
                "    right=True,\n",
                ")\n",
                "\n",
                "environment_satisfaction_category = pd.pivot_table(\n",
                "    df,\n",
                "    index=\"EnvironmentSatisfactionCategory\",\n",
                "    columns=\"AttritionCategory\",\n",
                "    values=\"Attrition\",\n",
                "    aggfunc=\"count\",\n",
                ")\n",
                "\n",
                "environment_satisfaction_category"
            ]
        },
        {
            "cell_type": "code",
            "execution_count": 38,
            "metadata": {},
            "outputs": [
                {
                    "data": {
                        "image/png": "[encoded data removed]",
                        "text/plain": [
                            "<Figure size 1000x600 with 1 Axes>"
                        ]
                    },
                    "metadata": {},
                    "output_type": "display_data"
                }
            ],
            "source": [
                "# Visualisasi\n",
                "fig, ax = plt.subplots(figsize=(10, 6))\n",
                "x = environment_satisfaction_category.index\n",
                "stay = environment_satisfaction_category[\"Stay\"]\n",
                "leave = environment_satisfaction_category[\"Leave\"]\n",
                "ax.bar(x, stay, label=\"Stay\", color=\"#A4D2FF\")\n",
                "ax.bar(x, leave, label=\"Leave\", color=\"#FFB0A9\")\n",
                "for i, v in enumerate(stay):\n",
                "    ax.text(i, v + 0.5, str(v), ha=\"center\", va=\"bottom\", fontsize=10)\n",
                "for i, v in enumerate(leave):\n",
                "    ax.text(i, v + 0.5, str(v), ha=\"center\", va=\"bottom\", fontsize=10)\n",
                "ax.set_xlabel(\"Environment Satisfaction\")\n",
                "ax.set_ylabel(\"Number of Employees\")\n",
                "ax.set_title(\"Attrition by Satisfaction Environment\")\n",
                "ax.legend()\n",
                "plt.show()"
            ]
        },
        {
            "cell_type": "markdown",
            "metadata": {},
            "source": [
                "karyawan dengan tingkat Environment Satisfaction yang rendah (Low) memiliki jumlah attrition tertinggi, yaitu 57 orang dari 209, mengindikasikan kondisi lingkungan kerja yang buruk dapat mendorong keputusan untuk resign. Sementara itu, kategori Very High dan High menunjukkan tingkat retensi yang lebih baik, masing-masing dengan jumlah stay sebesar 274 dan 288, serta angka leave yang relatif lebih rendah (40 dan 47). Kategori Medium juga memperlihatkan kecenderungan yang lebih stabil, dengan jumlah leave terendah kedua (35 orang), namun distribusi antar kategori menunjukkan bahwa kepuasan terhadap lingkungan kerja berkorelasi positif terhadap retensi karyawan.\n"
            ]
        },
        {
            "cell_type": "markdown",
            "metadata": {},
            "source": [
                "#### Attrition by Relationship Satisfaction\n"
            ]
        },
        {
            "cell_type": "code",
            "execution_count": 39,
            "metadata": {},
            "outputs": [
                {
                    "data": {
                        "application/vnd.microsoft.datawrangler.viewer.v0+json": {
                            "columns": [
                                {
                                    "name": "RelationshipSatisfactionCategory",
                                    "rawType": "category",
                                    "type": "unknown"
                                },
                                {
                                    "name": "Leave",
                                    "rawType": "int64",
                                    "type": "integer"
                                },
                                {
                                    "name": "Stay",
                                    "rawType": "int64",
                                    "type": "integer"
                                }
                            ],
                            "ref": "2c72fccb-6d2a-40ce-ad16-a180c85f0883",
                            "rows": [
                                [
                                    "Low",
                                    "46",
                                    "155"
                                ],
                                [
                                    "Medium",
                                    "32",
                                    "178"
                                ],
                                [
                                    "High",
                                    "49",
                                    "275"
                                ],
                                [
                                    "Very High",
                                    "52",
                                    "271"
                                ]
                            ],
                            "shape": {
                                "columns": 2,
                                "rows": 4
                            }
                        },
                        "text/html": [
                            "<div>\n",
                            "<style scoped>\n",
                            "    .dataframe tbody tr th:only-of-type {\n",
                            "        vertical-align: middle;\n",
                            "    }\n",
                            "\n",
                            "    .dataframe tbody tr th {\n",
                            "        vertical-align: top;\n",
                            "    }\n",
                            "\n",
                            "    .dataframe thead th {\n",
                            "        text-align: right;\n",
                            "    }\n",
                            "</style>\n",
                            "<table border=\"1\" class=\"dataframe\">\n",
                            "  <thead>\n",
                            "    <tr style=\"text-align: right;\">\n",
                            "      <th>AttritionCategory</th>\n",
                            "      <th>Leave</th>\n",
                            "      <th>Stay</th>\n",
                            "    </tr>\n",
                            "    <tr>\n",
                            "      <th>RelationshipSatisfactionCategory</th>\n",
                            "      <th></th>\n",
                            "      <th></th>\n",
                            "    </tr>\n",
                            "  </thead>\n",
                            "  <tbody>\n",
                            "    <tr>\n",
                            "      <th>Low</th>\n",
                            "      <td>46</td>\n",
                            "      <td>155</td>\n",
                            "    </tr>\n",
                            "    <tr>\n",
                            "      <th>Medium</th>\n",
                            "      <td>32</td>\n",
                            "      <td>178</td>\n",
                            "    </tr>\n",
                            "    <tr>\n",
                            "      <th>High</th>\n",
                            "      <td>49</td>\n",
                            "      <td>275</td>\n",
                            "    </tr>\n",
                            "    <tr>\n",
                            "      <th>Very High</th>\n",
                            "      <td>52</td>\n",
                            "      <td>271</td>\n",
                            "    </tr>\n",
                            "  </tbody>\n",
                            "</table>\n",
                            "</div>"
                        ],
                        "text/plain": [
                            "AttritionCategory                 Leave  Stay\n",
                            "RelationshipSatisfactionCategory             \n",
                            "Low                                  46   155\n",
                            "Medium                               32   178\n",
                            "High                                 49   275\n",
                            "Very High                            52   271"
                        ]
                    },
                    "execution_count": 39,
                    "metadata": {},
                    "output_type": "execute_result"
                }
            ],
            "source": [
                "# Pivot\n",
                "relationship_category = {1: \"Low\", 2: \"Medium\", 3: \"High\", 4: \"Very High\"}\n",
                "\n",
                "df[\"RelationshipSatisfactionCategory\"] = pd.cut(\n",
                "    df[\"RelationshipSatisfaction\"],\n",
                "    bins=[0, 1, 2, 3, 4],\n",
                "    labels=list(relationship_category.values()),\n",
                "    right=True,\n",
                ")\n",
                "\n",
                "attrition_by_relationship_categorical = pd.pivot_table(\n",
                "    df,\n",
                "    index=\"RelationshipSatisfactionCategory\",\n",
                "    columns=\"AttritionCategory\",\n",
                "    values=\"Attrition\",\n",
                "    aggfunc=\"count\",\n",
                ")\n",
                "\n",
                "attrition_by_relationship_categorical"
            ]
        },
        {
            "cell_type": "code",
            "execution_count": 40,
            "metadata": {},
            "outputs": [
                {
                    "data": {
                        "image/png": "[encoded data removed]",
                        "text/plain": [
                            "<Figure size 1000x600 with 1 Axes>"
                        ]
                    },
                    "metadata": {},
                    "output_type": "display_data"
                }
            ],
            "source": [
                "# Visualisasi\n",
                "fig, ax = plt.subplots(figsize=(10, 6))\n",
                "x = attrition_by_relationship_categorical.index\n",
                "stay = attrition_by_relationship_categorical[\"Stay\"]\n",
                "leave = attrition_by_relationship_categorical[\"Leave\"]\n",
                "ax.bar(x, stay, label=\"Stay\", color=\"#A4D2FF\")\n",
                "ax.bar(x, leave, label=\"Leave\", color=\"#FFB0A9\")\n",
                "for i, v in enumerate(stay):\n",
                "    ax.text(i, v + 0.5, str(v), ha=\"center\", va=\"bottom\", fontsize=10)\n",
                "for i, v in enumerate(leave):\n",
                "    ax.text(i, v + 0.5, str(v), ha=\"center\", va=\"bottom\", fontsize=10)\n",
                "ax.set_xlabel(\"Relationship Satisfaction\")\n",
                "ax.set_ylabel(\"Number of Employees\")\n",
                "ax.set_title(\"Attrition by Satisfaction Relationship\")\n",
                "ax.legend()\n",
                "plt.show()"
            ]
        },
        {
            "cell_type": "markdown",
            "metadata": {},
            "source": [
                "karyawan dengan tingkat Relationship Satisfaction yang paling rendah (Low) mengalami attrition sebesar 46 orang dari 201, yang merupakan proporsi tinggi. Menariknya, kategori Very High justru memiliki angka attrition tertinggi secara absolut (52 orang), namun jumlah karyawan yang bertahan juga tinggi (271), sehingga perlu dianalisis secara persentase untuk mendapatkan gambaran yang akurat. Sementara itu, kategori Medium memiliki angka attrition paling rendah (32 orang), mengindikasikan bahwa tingkat kepuasan hubungan kerja tidak selalu menunjukkan pola linier terhadap keputusan resign, dan mungkin dipengaruhi oleh faktor eksternal lainnya seperti beban kerja atau kompensasi.\n"
            ]
        },
        {
            "cell_type": "markdown",
            "metadata": {},
            "source": [
                "#### Attrition by JobInvolvement,\n"
            ]
        },
        {
            "cell_type": "code",
            "execution_count": 41,
            "metadata": {},
            "outputs": [
                {
                    "data": {
                        "application/vnd.microsoft.datawrangler.viewer.v0+json": {
                            "columns": [
                                {
                                    "name": "JobInvolvementCategory",
                                    "rawType": "category",
                                    "type": "unknown"
                                },
                                {
                                    "name": "Leave",
                                    "rawType": "int64",
                                    "type": "integer"
                                },
                                {
                                    "name": "Stay",
                                    "rawType": "int64",
                                    "type": "integer"
                                }
                            ],
                            "ref": "926243c9-1900-440f-a7da-3f8bb3cb74aa",
                            "rows": [
                                [
                                    "Low",
                                    "22",
                                    "33"
                                ],
                                [
                                    "Medium",
                                    "55",
                                    "218"
                                ],
                                [
                                    "High",
                                    "92",
                                    "533"
                                ],
                                [
                                    "Very High",
                                    "10",
                                    "95"
                                ]
                            ],
                            "shape": {
                                "columns": 2,
                                "rows": 4
                            }
                        },
                        "text/html": [
                            "<div>\n",
                            "<style scoped>\n",
                            "    .dataframe tbody tr th:only-of-type {\n",
                            "        vertical-align: middle;\n",
                            "    }\n",
                            "\n",
                            "    .dataframe tbody tr th {\n",
                            "        vertical-align: top;\n",
                            "    }\n",
                            "\n",
                            "    .dataframe thead th {\n",
                            "        text-align: right;\n",
                            "    }\n",
                            "</style>\n",
                            "<table border=\"1\" class=\"dataframe\">\n",
                            "  <thead>\n",
                            "    <tr style=\"text-align: right;\">\n",
                            "      <th>AttritionCategory</th>\n",
                            "      <th>Leave</th>\n",
                            "      <th>Stay</th>\n",
                            "    </tr>\n",
                            "    <tr>\n",
                            "      <th>JobInvolvementCategory</th>\n",
                            "      <th></th>\n",
                            "      <th></th>\n",
                            "    </tr>\n",
                            "  </thead>\n",
                            "  <tbody>\n",
                            "    <tr>\n",
                            "      <th>Low</th>\n",
                            "      <td>22</td>\n",
                            "      <td>33</td>\n",
                            "    </tr>\n",
                            "    <tr>\n",
                            "      <th>Medium</th>\n",
                            "      <td>55</td>\n",
                            "      <td>218</td>\n",
                            "    </tr>\n",
                            "    <tr>\n",
                            "      <th>High</th>\n",
                            "      <td>92</td>\n",
                            "      <td>533</td>\n",
                            "    </tr>\n",
                            "    <tr>\n",
                            "      <th>Very High</th>\n",
                            "      <td>10</td>\n",
                            "      <td>95</td>\n",
                            "    </tr>\n",
                            "  </tbody>\n",
                            "</table>\n",
                            "</div>"
                        ],
                        "text/plain": [
                            "AttritionCategory       Leave  Stay\n",
                            "JobInvolvementCategory             \n",
                            "Low                        22    33\n",
                            "Medium                     55   218\n",
                            "High                       92   533\n",
                            "Very High                  10    95"
                        ]
                    },
                    "execution_count": 41,
                    "metadata": {},
                    "output_type": "execute_result"
                }
            ],
            "source": [
                "category_involvement = {1: \"Low\", 2: \"Medium\", 3: \"High\", 4: \"Very High\"}\n",
                "\n",
                "df[\"JobInvolvementCategory\"] = pd.cut(\n",
                "    df[\"JobInvolvement\"],\n",
                "    bins=[0, 1, 2, 3, 4],\n",
                "    labels=list(category_involvement.values()),\n",
                "    right=True,\n",
                ")\n",
                "\n",
                "attrition_by_job_involvement = pd.pivot_table(\n",
                "    df,\n",
                "    index=\"JobInvolvementCategory\",\n",
                "    columns=\"AttritionCategory\",\n",
                "    values=\"Attrition\",\n",
                "    aggfunc=\"count\",\n",
                ")\n",
                "\n",
                "attrition_by_job_involvement"
            ]
        },
        {
            "cell_type": "code",
            "execution_count": 42,
            "metadata": {},
            "outputs": [
                {
                    "data": {
                        "image/png": "[encoded data removed]",
                        "text/plain": [
                            "<Figure size 1000x600 with 1 Axes>"
                        ]
                    },
                    "metadata": {},
                    "output_type": "display_data"
                }
            ],
            "source": [
                "# Visualisasi\n",
                "fig, ax = plt.subplots(figsize=(10, 6))\n",
                "x = attrition_by_job_involvement.index\n",
                "stay = attrition_by_job_involvement[\"Stay\"]\n",
                "leave = attrition_by_job_involvement[\"Leave\"]\n",
                "ax.bar(x, stay, label=\"Stay\", color=\"#A4D2FF\")\n",
                "ax.bar(x, leave, label=\"Leave\", color=\"#FFB0A9\")\n",
                "for i, v in enumerate(stay):\n",
                "    ax.text(i, v + 0.5, str(v), ha=\"center\", va=\"bottom\", fontsize=10)\n",
                "for i, v in enumerate(leave):\n",
                "    ax.text(i, v + 0.5, str(v), ha=\"center\", va=\"bottom\", fontsize=10)\n",
                "ax.set_xlabel(\"Job Involvement\")\n",
                "ax.set_ylabel(\"Number of Employees\")\n",
                "ax.set_title(\"Attrition by Job Involvement\")\n",
                "ax.legend()\n",
                "plt.show()"
            ]
        },
        {
            "cell_type": "markdown",
            "metadata": {},
            "source": [
                "karyawan dengan Job Involvement tingkat High memiliki angka attrition tertinggi secara absolut, yaitu 92 orang, namun juga memiliki populasi terbesar dalam kelompok Stay (533 orang), menunjukkan partisipasi kerja yang tinggi belum tentu menjamin retensi tanpa dukungan faktor lain. Kategori Medium menunjukkan angka attrition sebesar 55 orang, dengan retensi yang cukup tinggi juga (218 orang). Sementara itu, tingkat keterlibatan Very High memiliki attrition paling rendah (10 orang dari 105), mengindikasikan bahwa keterlibatan kerja yang sangat tinggi cenderung berasosiasi dengan tingkat loyalitas yang lebih besar terhadap perusahaan.\n"
            ]
        },
        {
            "cell_type": "markdown",
            "metadata": {},
            "source": [
                "#### Attrition by WorkLifeBalance.\n"
            ]
        },
        {
            "cell_type": "code",
            "execution_count": 43,
            "metadata": {},
            "outputs": [
                {
                    "data": {
                        "application/vnd.microsoft.datawrangler.viewer.v0+json": {
                            "columns": [
                                {
                                    "name": "WorkLifeBalanceCategory",
                                    "rawType": "category",
                                    "type": "unknown"
                                },
                                {
                                    "name": "Leave",
                                    "rawType": "int64",
                                    "type": "integer"
                                },
                                {
                                    "name": "Stay",
                                    "rawType": "int64",
                                    "type": "integer"
                                }
                            ],
                            "ref": "0ca62da5-e75d-4d21-81b3-dec50b767fb7",
                            "rows": [
                                [
                                    "Low",
                                    "18",
                                    "38"
                                ],
                                [
                                    "Good",
                                    "45",
                                    "206"
                                ],
                                [
                                    "Excellent",
                                    "94",
                                    "544"
                                ],
                                [
                                    "Outstanding",
                                    "22",
                                    "91"
                                ]
                            ],
                            "shape": {
                                "columns": 2,
                                "rows": 4
                            }
                        },
                        "text/html": [
                            "<div>\n",
                            "<style scoped>\n",
                            "    .dataframe tbody tr th:only-of-type {\n",
                            "        vertical-align: middle;\n",
                            "    }\n",
                            "\n",
                            "    .dataframe tbody tr th {\n",
                            "        vertical-align: top;\n",
                            "    }\n",
                            "\n",
                            "    .dataframe thead th {\n",
                            "        text-align: right;\n",
                            "    }\n",
                            "</style>\n",
                            "<table border=\"1\" class=\"dataframe\">\n",
                            "  <thead>\n",
                            "    <tr style=\"text-align: right;\">\n",
                            "      <th>AttritionCategory</th>\n",
                            "      <th>Leave</th>\n",
                            "      <th>Stay</th>\n",
                            "    </tr>\n",
                            "    <tr>\n",
                            "      <th>WorkLifeBalanceCategory</th>\n",
                            "      <th></th>\n",
                            "      <th></th>\n",
                            "    </tr>\n",
                            "  </thead>\n",
                            "  <tbody>\n",
                            "    <tr>\n",
                            "      <th>Low</th>\n",
                            "      <td>18</td>\n",
                            "      <td>38</td>\n",
                            "    </tr>\n",
                            "    <tr>\n",
                            "      <th>Good</th>\n",
                            "      <td>45</td>\n",
                            "      <td>206</td>\n",
                            "    </tr>\n",
                            "    <tr>\n",
                            "      <th>Excellent</th>\n",
                            "      <td>94</td>\n",
                            "      <td>544</td>\n",
                            "    </tr>\n",
                            "    <tr>\n",
                            "      <th>Outstanding</th>\n",
                            "      <td>22</td>\n",
                            "      <td>91</td>\n",
                            "    </tr>\n",
                            "  </tbody>\n",
                            "</table>\n",
                            "</div>"
                        ],
                        "text/plain": [
                            "AttritionCategory        Leave  Stay\n",
                            "WorkLifeBalanceCategory             \n",
                            "Low                         18    38\n",
                            "Good                        45   206\n",
                            "Excellent                   94   544\n",
                            "Outstanding                 22    91"
                        ]
                    },
                    "execution_count": 43,
                    "metadata": {},
                    "output_type": "execute_result"
                }
            ],
            "source": [
                "worf_live_balance_category = {1: \"Low\", 2: \"Good\", 3: \"Excellent\", 4: \"Outstanding\"}\n",
                "\n",
                "df[\"WorkLifeBalanceCategory\"] = pd.cut(\n",
                "    df[\"WorkLifeBalance\"],\n",
                "    bins=[0, 1, 2, 3, 4],\n",
                "    labels=list(worf_live_balance_category.values()),\n",
                "    right=True,\n",
                ")\n",
                "\n",
                "attrition_by_work_life_balance = pd.pivot_table(\n",
                "    df,\n",
                "    index=\"WorkLifeBalanceCategory\",\n",
                "    columns=\"AttritionCategory\",\n",
                "    values=\"Attrition\",\n",
                "    aggfunc=\"count\",\n",
                ")\n",
                "\n",
                "attrition_by_work_life_balance"
            ]
        },
        {
            "cell_type": "code",
            "execution_count": 44,
            "metadata": {},
            "outputs": [
                {
                    "data": {
                        "image/png": "[encoded data removed]",
                        "text/plain": [
                            "<Figure size 1000x600 with 1 Axes>"
                        ]
                    },
                    "metadata": {},
                    "output_type": "display_data"
                }
            ],
            "source": [
                "# Visualisasi\n",
                "fig, ax = plt.subplots(figsize=(10, 6))\n",
                "x = attrition_by_work_life_balance.index\n",
                "stay = attrition_by_work_life_balance[\"Stay\"]\n",
                "leave = attrition_by_work_life_balance[\"Leave\"]\n",
                "ax.bar(x, stay, label=\"Stay\", color=\"#A4D2FF\")\n",
                "ax.bar(x, leave, label=\"Leave\", color=\"#FFB0A9\")\n",
                "for i, v in enumerate(stay):\n",
                "    ax.text(i, v + 0.5, str(v), ha=\"center\", va=\"bottom\", fontsize=10)\n",
                "for i, v in enumerate(leave):\n",
                "    ax.text(i, v + 0.5, str(v), ha=\"center\", va=\"bottom\", fontsize=10)\n",
                "ax.set_xlabel(\"Work Life Balance\")\n",
                "ax.set_ylabel(\"Number of Employees\")\n",
                "ax.set_title(\"Attrition by Work Life Balance\")\n",
                "ax.legend()\n",
                "plt.show()"
            ]
        },
        {
            "cell_type": "markdown",
            "metadata": {},
            "source": [
                "karyawan dengan Work-Life Balance tingkat High memiliki jumlah attrition tertinggi secara absolut yaitu 94 orang, namun juga mencatat jumlah stay paling tinggi (544 orang), menunjukkan bahwa populasi pada kategori ini cukup besar. Karyawan dengan Very High Work-Life Balance hanya memiliki 22 orang yang resign dari 113 total, mencerminkan tingkat retensi yang baik. Sementara itu, meskipun jumlah leave pada kategori Low relatif kecil (18 orang), rasio terhadap total kelompok (56 orang) cukup tinggi, yang mengindikasikan bahwa keseimbangan kerja-hidup yang buruk berpotensi meningkatkan risiko resign.\n"
            ]
        },
        {
            "cell_type": "code",
            "execution_count": 45,
            "metadata": {},
            "outputs": [
                {
                    "data": {
                        "application/vnd.microsoft.datawrangler.viewer.v0+json": {
                            "columns": [
                                {
                                    "name": "index",
                                    "rawType": "int64",
                                    "type": "integer"
                                },
                                {
                                    "name": "EmployeeId",
                                    "rawType": "int64",
                                    "type": "integer"
                                },
                                {
                                    "name": "Age",
                                    "rawType": "int64",
                                    "type": "integer"
                                },
                                {
                                    "name": "Attrition",
                                    "rawType": "int64",
                                    "type": "integer"
                                },
                                {
                                    "name": "BusinessTravel",
                                    "rawType": "object",
                                    "type": "string"
                                },
                                {
                                    "name": "DailyRate",
                                    "rawType": "int64",
                                    "type": "integer"
                                },
                                {
                                    "name": "Department",
                                    "rawType": "object",
                                    "type": "string"
                                },
                                {
                                    "name": "DistanceFromHome",
                                    "rawType": "int64",
                                    "type": "integer"
                                },
                                {
                                    "name": "Education",
                                    "rawType": "int64",
                                    "type": "integer"
                                },
                                {
                                    "name": "EducationField",
                                    "rawType": "object",
                                    "type": "string"
                                },
                                {
                                    "name": "EmployeeCount",
                                    "rawType": "int64",
                                    "type": "integer"
                                },
                                {
                                    "name": "EnvironmentSatisfaction",
                                    "rawType": "int64",
                                    "type": "integer"
                                },
                                {
                                    "name": "Gender",
                                    "rawType": "object",
                                    "type": "string"
                                },
                                {
                                    "name": "HourlyRate",
                                    "rawType": "int64",
                                    "type": "integer"
                                },
                                {
                                    "name": "JobInvolvement",
                                    "rawType": "int64",
                                    "type": "integer"
                                },
                                {
                                    "name": "JobLevel",
                                    "rawType": "int64",
                                    "type": "integer"
                                },
                                {
                                    "name": "JobRole",
                                    "rawType": "object",
                                    "type": "string"
                                },
                                {
                                    "name": "JobSatisfaction",
                                    "rawType": "int64",
                                    "type": "integer"
                                },
                                {
                                    "name": "MaritalStatus",
                                    "rawType": "object",
                                    "type": "string"
                                },
                                {
                                    "name": "MonthlyIncome",
                                    "rawType": "int64",
                                    "type": "integer"
                                },
                                {
                                    "name": "MonthlyRate",
                                    "rawType": "int64",
                                    "type": "integer"
                                },
                                {
                                    "name": "NumCompaniesWorked",
                                    "rawType": "int64",
                                    "type": "integer"
                                },
                                {
                                    "name": "Over18",
                                    "rawType": "object",
                                    "type": "string"
                                },
                                {
                                    "name": "OverTime",
                                    "rawType": "object",
                                    "type": "string"
                                },
                                {
                                    "name": "PercentSalaryHike",
                                    "rawType": "int64",
                                    "type": "integer"
                                },
                                {
                                    "name": "PerformanceRating",
                                    "rawType": "int64",
                                    "type": "integer"
                                },
                                {
                                    "name": "RelationshipSatisfaction",
                                    "rawType": "int64",
                                    "type": "integer"
                                },
                                {
                                    "name": "StandardHours",
                                    "rawType": "int64",
                                    "type": "integer"
                                },
                                {
                                    "name": "StockOptionLevel",
                                    "rawType": "int64",
                                    "type": "integer"
                                },
                                {
                                    "name": "TotalWorkingYears",
                                    "rawType": "int64",
                                    "type": "integer"
                                },
                                {
                                    "name": "TrainingTimesLastYear",
                                    "rawType": "int64",
                                    "type": "integer"
                                },
                                {
                                    "name": "WorkLifeBalance",
                                    "rawType": "int64",
                                    "type": "integer"
                                },
                                {
                                    "name": "YearsAtCompany",
                                    "rawType": "int64",
                                    "type": "integer"
                                },
                                {
                                    "name": "YearsInCurrentRole",
                                    "rawType": "int64",
                                    "type": "integer"
                                },
                                {
                                    "name": "YearsSinceLastPromotion",
                                    "rawType": "int64",
                                    "type": "integer"
                                },
                                {
                                    "name": "YearsWithCurrManager",
                                    "rawType": "int64",
                                    "type": "integer"
                                },
                                {
                                    "name": "AttritionCategory",
                                    "rawType": "object",
                                    "type": "string"
                                },
                                {
                                    "name": "AgeGroup",
                                    "rawType": "category",
                                    "type": "unknown"
                                },
                                {
                                    "name": "EducationCategory",
                                    "rawType": "object",
                                    "type": "string"
                                },
                                {
                                    "name": "JobRoleCategory",
                                    "rawType": "object",
                                    "type": "string"
                                },
                                {
                                    "name": "JobLevelCategory",
                                    "rawType": "object",
                                    "type": "string"
                                },
                                {
                                    "name": "JobSatisfactionCategory",
                                    "rawType": "category",
                                    "type": "unknown"
                                },
                                {
                                    "name": "EnvironmentSatisfactionCategory",
                                    "rawType": "category",
                                    "type": "unknown"
                                },
                                {
                                    "name": "RelationshipSatisfactionCategory",
                                    "rawType": "category",
                                    "type": "unknown"
                                },
                                {
                                    "name": "JobInvolvementCategory",
                                    "rawType": "category",
                                    "type": "unknown"
                                },
                                {
                                    "name": "WorkLifeBalanceCategory",
                                    "rawType": "category",
                                    "type": "unknown"
                                }
                            ],
                            "ref": "544d8efc-d10f-4ece-ade2-549abd3ddb74",
                            "rows": [
                                [
                                    "1",
                                    "2",
                                    "37",
                                    "1",
                                    "Travel_Rarely",
                                    "1141",
                                    "Research & Development",
                                    "11",
                                    "2",
                                    "Medical",
                                    "1",
                                    "1",
                                    "Female",
                                    "61",
                                    "1",
                                    "2",
                                    "Healthcare Representative",
                                    "2",
                                    "Married",
                                    "4777",
                                    "14382",
                                    "5",
                                    "Y",
                                    "No",
                                    "15",
                                    "3",
                                    "1",
                                    "80",
                                    "0",
                                    "15",
                                    "2",
                                    "1",
                                    "1",
                                    "0",
                                    "0",
                                    "0",
                                    "Leave",
                                    "35-44",
                                    "College",
                                    "Healthcare",
                                    "Associate ",
                                    "Medium",
                                    "Low",
                                    "Low",
                                    "Low",
                                    "Low"
                                ],
                                [
                                    "2",
                                    "3",
                                    "51",
                                    "1",
                                    "Travel_Rarely",
                                    "1323",
                                    "Research & Development",
                                    "4",
                                    "4",
                                    "Life Sciences",
                                    "1",
                                    "1",
                                    "Male",
                                    "34",
                                    "3",
                                    "1",
                                    "Research Scientist",
                                    "3",
                                    "Married",
                                    "2461",
                                    "10332",
                                    "9",
                                    "Y",
                                    "Yes",
                                    "12",
                                    "3",
                                    "3",
                                    "80",
                                    "3",
                                    "18",
                                    "2",
                                    "4",
                                    "10",
                                    "0",
                                    "2",
                                    "7",
                                    "Leave",
                                    "45-54",
                                    "Master",
                                    "Research",
                                    "Staff ",
                                    "High",
                                    "Low",
                                    "High",
                                    "High",
                                    "Outstanding"
                                ],
                                [
                                    "3",
                                    "4",
                                    "42",
                                    "0",
                                    "Travel_Frequently",
                                    "555",
                                    "Sales",
                                    "26",
                                    "3",
                                    "Marketing",
                                    "1",
                                    "3",
                                    "Female",
                                    "77",
                                    "3",
                                    "4",
                                    "Sales Executive",
                                    "2",
                                    "Married",
                                    "13525",
                                    "14864",
                                    "5",
                                    "Y",
                                    "No",
                                    "14",
                                    "3",
                                    "4",
                                    "80",
                                    "1",
                                    "23",
                                    "2",
                                    "4",
                                    "20",
                                    "4",
                                    "4",
                                    "8",
                                    "Stay",
                                    "35-44",
                                    "Bachelor",
                                    "Sales",
                                    "Manager ",
                                    "Medium",
                                    "High",
                                    "Very High",
                                    "High",
                                    "Outstanding"
                                ],
                                [
                                    "6",
                                    "7",
                                    "40",
                                    "0",
                                    "Travel_Rarely",
                                    "1124",
                                    "Sales",
                                    "1",
                                    "2",
                                    "Medical",
                                    "1",
                                    "2",
                                    "Male",
                                    "57",
                                    "1",
                                    "2",
                                    "Sales Executive",
                                    "4",
                                    "Married",
                                    "7457",
                                    "13273",
                                    "2",
                                    "Y",
                                    "Yes",
                                    "22",
                                    "4",
                                    "3",
                                    "80",
                                    "3",
                                    "6",
                                    "2",
                                    "2",
                                    "4",
                                    "3",
                                    "0",
                                    "2",
                                    "Stay",
                                    "35-44",
                                    "College",
                                    "Sales",
                                    "Associate ",
                                    "Very High",
                                    "Medium",
                                    "High",
                                    "Low",
                                    "Good"
                                ],
                                [
                                    "7",
                                    "8",
                                    "55",
                                    "1",
                                    "Travel_Rarely",
                                    "725",
                                    "Research & Development",
                                    "2",
                                    "3",
                                    "Medical",
                                    "1",
                                    "4",
                                    "Male",
                                    "78",
                                    "3",
                                    "5",
                                    "Manager",
                                    "1",
                                    "Married",
                                    "19859",
                                    "21199",
                                    "5",
                                    "Y",
                                    "Yes",
                                    "13",
                                    "3",
                                    "4",
                                    "80",
                                    "1",
                                    "24",
                                    "2",
                                    "3",
                                    "5",
                                    "2",
                                    "1",
                                    "4",
                                    "Leave",
                                    "55-64",
                                    "Bachelor",
                                    "Management",
                                    "Senior Manager",
                                    "Low",
                                    "Very High",
                                    "Very High",
                                    "High",
                                    "Excellent"
                                ]
                            ],
                            "shape": {
                                "columns": 45,
                                "rows": 5
                            }
                        },
                        "text/html": [
                            "<div>\n",
                            "<style scoped>\n",
                            "    .dataframe tbody tr th:only-of-type {\n",
                            "        vertical-align: middle;\n",
                            "    }\n",
                            "\n",
                            "    .dataframe tbody tr th {\n",
                            "        vertical-align: top;\n",
                            "    }\n",
                            "\n",
                            "    .dataframe thead th {\n",
                            "        text-align: right;\n",
                            "    }\n",
                            "</style>\n",
                            "<table border=\"1\" class=\"dataframe\">\n",
                            "  <thead>\n",
                            "    <tr style=\"text-align: right;\">\n",
                            "      <th></th>\n",
                            "      <th>EmployeeId</th>\n",
                            "      <th>Age</th>\n",
                            "      <th>Attrition</th>\n",
                            "      <th>BusinessTravel</th>\n",
                            "      <th>DailyRate</th>\n",
                            "      <th>Department</th>\n",
                            "      <th>DistanceFromHome</th>\n",
                            "      <th>Education</th>\n",
                            "      <th>EducationField</th>\n",
                            "      <th>EmployeeCount</th>\n",
                            "      <th>...</th>\n",
                            "      <th>AttritionCategory</th>\n",
                            "      <th>AgeGroup</th>\n",
                            "      <th>EducationCategory</th>\n",
                            "      <th>JobRoleCategory</th>\n",
                            "      <th>JobLevelCategory</th>\n",
                            "      <th>JobSatisfactionCategory</th>\n",
                            "      <th>EnvironmentSatisfactionCategory</th>\n",
                            "      <th>RelationshipSatisfactionCategory</th>\n",
                            "      <th>JobInvolvementCategory</th>\n",
                            "      <th>WorkLifeBalanceCategory</th>\n",
                            "    </tr>\n",
                            "  </thead>\n",
                            "  <tbody>\n",
                            "    <tr>\n",
                            "      <th>1</th>\n",
                            "      <td>2</td>\n",
                            "      <td>37</td>\n",
                            "      <td>1</td>\n",
                            "      <td>Travel_Rarely</td>\n",
                            "      <td>1141</td>\n",
                            "      <td>Research &amp; Development</td>\n",
                            "      <td>11</td>\n",
                            "      <td>2</td>\n",
                            "      <td>Medical</td>\n",
                            "      <td>1</td>\n",
                            "      <td>...</td>\n",
                            "      <td>Leave</td>\n",
                            "      <td>35-44</td>\n",
                            "      <td>College</td>\n",
                            "      <td>Healthcare</td>\n",
                            "      <td>Associate</td>\n",
                            "      <td>Medium</td>\n",
                            "      <td>Low</td>\n",
                            "      <td>Low</td>\n",
                            "      <td>Low</td>\n",
                            "      <td>Low</td>\n",
                            "    </tr>\n",
                            "    <tr>\n",
                            "      <th>2</th>\n",
                            "      <td>3</td>\n",
                            "      <td>51</td>\n",
                            "      <td>1</td>\n",
                            "      <td>Travel_Rarely</td>\n",
                            "      <td>1323</td>\n",
                            "      <td>Research &amp; Development</td>\n",
                            "      <td>4</td>\n",
                            "      <td>4</td>\n",
                            "      <td>Life Sciences</td>\n",
                            "      <td>1</td>\n",
                            "      <td>...</td>\n",
                            "      <td>Leave</td>\n",
                            "      <td>45-54</td>\n",
                            "      <td>Master</td>\n",
                            "      <td>Research</td>\n",
                            "      <td>Staff</td>\n",
                            "      <td>High</td>\n",
                            "      <td>Low</td>\n",
                            "      <td>High</td>\n",
                            "      <td>High</td>\n",
                            "      <td>Outstanding</td>\n",
                            "    </tr>\n",
                            "    <tr>\n",
                            "      <th>3</th>\n",
                            "      <td>4</td>\n",
                            "      <td>42</td>\n",
                            "      <td>0</td>\n",
                            "      <td>Travel_Frequently</td>\n",
                            "      <td>555</td>\n",
                            "      <td>Sales</td>\n",
                            "      <td>26</td>\n",
                            "      <td>3</td>\n",
                            "      <td>Marketing</td>\n",
                            "      <td>1</td>\n",
                            "      <td>...</td>\n",
                            "      <td>Stay</td>\n",
                            "      <td>35-44</td>\n",
                            "      <td>Bachelor</td>\n",
                            "      <td>Sales</td>\n",
                            "      <td>Manager</td>\n",
                            "      <td>Medium</td>\n",
                            "      <td>High</td>\n",
                            "      <td>Very High</td>\n",
                            "      <td>High</td>\n",
                            "      <td>Outstanding</td>\n",
                            "    </tr>\n",
                            "    <tr>\n",
                            "      <th>6</th>\n",
                            "      <td>7</td>\n",
                            "      <td>40</td>\n",
                            "      <td>0</td>\n",
                            "      <td>Travel_Rarely</td>\n",
                            "      <td>1124</td>\n",
                            "      <td>Sales</td>\n",
                            "      <td>1</td>\n",
                            "      <td>2</td>\n",
                            "      <td>Medical</td>\n",
                            "      <td>1</td>\n",
                            "      <td>...</td>\n",
                            "      <td>Stay</td>\n",
                            "      <td>35-44</td>\n",
                            "      <td>College</td>\n",
                            "      <td>Sales</td>\n",
                            "      <td>Associate</td>\n",
                            "      <td>Very High</td>\n",
                            "      <td>Medium</td>\n",
                            "      <td>High</td>\n",
                            "      <td>Low</td>\n",
                            "      <td>Good</td>\n",
                            "    </tr>\n",
                            "    <tr>\n",
                            "      <th>7</th>\n",
                            "      <td>8</td>\n",
                            "      <td>55</td>\n",
                            "      <td>1</td>\n",
                            "      <td>Travel_Rarely</td>\n",
                            "      <td>725</td>\n",
                            "      <td>Research &amp; Development</td>\n",
                            "      <td>2</td>\n",
                            "      <td>3</td>\n",
                            "      <td>Medical</td>\n",
                            "      <td>1</td>\n",
                            "      <td>...</td>\n",
                            "      <td>Leave</td>\n",
                            "      <td>55-64</td>\n",
                            "      <td>Bachelor</td>\n",
                            "      <td>Management</td>\n",
                            "      <td>Senior Manager</td>\n",
                            "      <td>Low</td>\n",
                            "      <td>Very High</td>\n",
                            "      <td>Very High</td>\n",
                            "      <td>High</td>\n",
                            "      <td>Excellent</td>\n",
                            "    </tr>\n",
                            "  </tbody>\n",
                            "</table>\n",
                            "<p>5 rows × 45 columns</p>\n",
                            "</div>"
                        ],
                        "text/plain": [
                            "   EmployeeId  Age  Attrition     BusinessTravel  DailyRate  \\\n",
                            "1           2   37          1      Travel_Rarely       1141   \n",
                            "2           3   51          1      Travel_Rarely       1323   \n",
                            "3           4   42          0  Travel_Frequently        555   \n",
                            "6           7   40          0      Travel_Rarely       1124   \n",
                            "7           8   55          1      Travel_Rarely        725   \n",
                            "\n",
                            "               Department  DistanceFromHome  Education EducationField  \\\n",
                            "1  Research & Development                11          2        Medical   \n",
                            "2  Research & Development                 4          4  Life Sciences   \n",
                            "3                   Sales                26          3      Marketing   \n",
                            "6                   Sales                 1          2        Medical   \n",
                            "7  Research & Development                 2          3        Medical   \n",
                            "\n",
                            "   EmployeeCount  ...  AttritionCategory AgeGroup  EducationCategory  \\\n",
                            "1              1  ...              Leave    35-44            College   \n",
                            "2              1  ...              Leave    45-54             Master   \n",
                            "3              1  ...               Stay    35-44           Bachelor   \n",
                            "6              1  ...               Stay    35-44            College   \n",
                            "7              1  ...              Leave    55-64           Bachelor   \n",
                            "\n",
                            "   JobRoleCategory  JobLevelCategory JobSatisfactionCategory  \\\n",
                            "1       Healthcare        Associate                   Medium   \n",
                            "2         Research            Staff                     High   \n",
                            "3            Sales          Manager                   Medium   \n",
                            "6            Sales        Associate                Very High   \n",
                            "7       Management    Senior Manager                     Low   \n",
                            "\n",
                            "   EnvironmentSatisfactionCategory RelationshipSatisfactionCategory  \\\n",
                            "1                              Low                              Low   \n",
                            "2                              Low                             High   \n",
                            "3                             High                        Very High   \n",
                            "6                           Medium                             High   \n",
                            "7                        Very High                        Very High   \n",
                            "\n",
                            "   JobInvolvementCategory  WorkLifeBalanceCategory  \n",
                            "1                     Low                      Low  \n",
                            "2                    High              Outstanding  \n",
                            "3                    High              Outstanding  \n",
                            "6                     Low                     Good  \n",
                            "7                    High                Excellent  \n",
                            "\n",
                            "[5 rows x 45 columns]"
                        ]
                    },
                    "execution_count": 45,
                    "metadata": {},
                    "output_type": "execute_result"
                }
            ],
            "source": [
                "df.head()"
            ]
        },
        {
            "cell_type": "code",
            "execution_count": 46,
            "metadata": {},
            "outputs": [],
            "source": [
                "# simpan ke file CSV\n",
                "dataset_dashboard = df.copy()\n",
                "dataset_dashboard.to_csv(\"data/dashboard_dataset.csv\", index=False)"
            ]
        },
        {
            "cell_type": "code",
            "execution_count": 47,
            "metadata": {},
            "outputs": [],
            "source": [
                "# Mengubah kategorical ke numerikal\n",
                "numerikal = {\"Yes\": 1, \"No\": 0}\n",
                "df[\"OverTimeNum\"] = df[\"OverTime\"].map(numerikal)"
            ]
        },
        {
            "cell_type": "markdown",
            "metadata": {},
            "source": [
                "## Modeling\n"
            ]
        },
        {
            "cell_type": "code",
            "execution_count": 48,
            "metadata": {},
            "outputs": [],
            "source": [
                "# Memisahkan fitur dan target untuk model\n",
                "X = df[\n",
                "    [\n",
                "        \"DistanceFromHome\",\n",
                "        \"EnvironmentSatisfaction\",\n",
                "        \"JobInvolvement\",\n",
                "        \"JobLevel\",\n",
                "        \"JobSatisfaction\",\n",
                "        \"MonthlyIncome\",\n",
                "        \"OverTimeNum\",\n",
                "        \"PerformanceRating\",\n",
                "        \"PercentSalaryHike\",\n",
                "        \"RelationshipSatisfaction\",\n",
                "        \"TotalWorkingYears\",\n",
                "        \"WorkLifeBalance\",\n",
                "        \"YearsAtCompany\",\n",
                "        \"YearsSinceLastPromotion\",\n",
                "    ]\n",
                "]\n",
                "y = df[\"Attrition\"]"
            ]
        },
        {
            "cell_type": "code",
            "execution_count": 49,
            "metadata": {},
            "outputs": [],
            "source": [
                "numeric_features = X.columns.tolist()\n",
                "\n",
                "preprocessor = ColumnTransformer(\n",
                "    transformers=[(\"num\", StandardScaler(), numeric_features)]\n",
                ")"
            ]
        },
        {
            "cell_type": "code",
            "execution_count": 50,
            "metadata": {},
            "outputs": [],
            "source": [
                "pipeline = Pipeline(\n",
                "    steps=[\n",
                "        (\"preprocessing\", preprocessor),\n",
                "        (\"classifier\", LogisticRegression(solver=\"liblinear\", random_state=42)),\n",
                "    ]\n",
                ")"
            ]
        },
        {
            "cell_type": "code",
            "execution_count": 51,
            "metadata": {},
            "outputs": [],
            "source": [
                "X_train, X_test, y_train, y_test = train_test_split(\n",
                "    X, y, test_size=0.2, random_state=42\n",
                ")"
            ]
        },
        {
            "cell_type": "code",
            "execution_count": 52,
            "metadata": {},
            "outputs": [
                {
                    "data": {
                        "text/html": [
                            "<style>#sk-container-id-1 {\n",
                            "  /* Definition of color scheme common for light and dark mode */\n",
                            "  --sklearn-color-text: #000;\n",
                            "  --sklearn-color-text-muted: #666;\n",
                            "  --sklearn-color-line: gray;\n",
                            "  /* Definition of color scheme for unfitted estimators */\n",
                            "  --sklearn-color-unfitted-level-0: #fff5e6;\n",
                            "  --sklearn-color-unfitted-level-1: #f6e4d2;\n",
                            "  --sklearn-color-unfitted-level-2: #ffe0b3;\n",
                            "  --sklearn-color-unfitted-level-3: chocolate;\n",
                            "  /* Definition of color scheme for fitted estimators */\n",
                            "  --sklearn-color-fitted-level-0: #f0f8ff;\n",
                            "  --sklearn-color-fitted-level-1: #d4ebff;\n",
                            "  --sklearn-color-fitted-level-2: #b3dbfd;\n",
                            "  --sklearn-color-fitted-level-3: cornflowerblue;\n",
                            "\n",
                            "  /* Specific color for light theme */\n",
                            "  --sklearn-color-text-on-default-background: var(--sg-text-color, var(--theme-code-foreground, var(--jp-content-font-color1, black)));\n",
                            "  --sklearn-color-background: var(--sg-background-color, var(--theme-background, var(--jp-layout-color0, white)));\n",
                            "  --sklearn-color-border-box: var(--sg-text-color, var(--theme-code-foreground, var(--jp-content-font-color1, black)));\n",
                            "  --sklearn-color-icon: #696969;\n",
                            "\n",
                            "  @media (prefers-color-scheme: dark) {\n",
                            "    /* Redefinition of color scheme for dark theme */\n",
                            "    --sklearn-color-text-on-default-background: var(--sg-text-color, var(--theme-code-foreground, var(--jp-content-font-color1, white)));\n",
                            "    --sklearn-color-background: var(--sg-background-color, var(--theme-background, var(--jp-layout-color0, #111)));\n",
                            "    --sklearn-color-border-box: var(--sg-text-color, var(--theme-code-foreground, var(--jp-content-font-color1, white)));\n",
                            "    --sklearn-color-icon: #878787;\n",
                            "  }\n",
                            "}\n",
                            "\n",
                            "#sk-container-id-1 {\n",
                            "  color: var(--sklearn-color-text);\n",
                            "}\n",
                            "\n",
                            "#sk-container-id-1 pre {\n",
                            "  padding: 0;\n",
                            "}\n",
                            "\n",
                            "#sk-container-id-1 input.sk-hidden--visually {\n",
                            "  border: 0;\n",
                            "  clip: rect(1px 1px 1px 1px);\n",
                            "  clip: rect(1px, 1px, 1px, 1px);\n",
                            "  height: 1px;\n",
                            "  margin: -1px;\n",
                            "  overflow: hidden;\n",
                            "  padding: 0;\n",
                            "  position: absolute;\n",
                            "  width: 1px;\n",
                            "}\n",
                            "\n",
                            "#sk-container-id-1 div.sk-dashed-wrapped {\n",
                            "  border: 1px dashed var(--sklearn-color-line);\n",
                            "  margin: 0 0.4em 0.5em 0.4em;\n",
                            "  box-sizing: border-box;\n",
                            "  padding-bottom: 0.4em;\n",
                            "  background-color: var(--sklearn-color-background);\n",
                            "}\n",
                            "\n",
                            "#sk-container-id-1 div.sk-container {\n",
                            "  /* jupyter's `normalize.less` sets `[hidden] { display: none; }`\n",
                            "     but bootstrap.min.css set `[hidden] { display: none !important; }`\n",
                            "     so we also need the `!important` here to be able to override the\n",
                            "     default hidden behavior on the sphinx rendered scikit-learn.org.\n",
                            "     See: https://github.com/scikit-learn/scikit-learn/issues/21755 */\n",
                            "  display: inline-block !important;\n",
                            "  position: relative;\n",
                            "}\n",
                            "\n",
                            "#sk-container-id-1 div.sk-text-repr-fallback {\n",
                            "  display: none;\n",
                            "}\n",
                            "\n",
                            "div.sk-parallel-item,\n",
                            "div.sk-serial,\n",
                            "div.sk-item {\n",
                            "  /* draw centered vertical line to link estimators */\n",
                            "  background-image: linear-gradient(var(--sklearn-color-text-on-default-background), var(--sklearn-color-text-on-default-background));\n",
                            "  background-size: 2px 100%;\n",
                            "  background-repeat: no-repeat;\n",
                            "  background-position: center center;\n",
                            "}\n",
                            "\n",
                            "/* Parallel-specific style estimator block */\n",
                            "\n",
                            "#sk-container-id-1 div.sk-parallel-item::after {\n",
                            "  content: \"\";\n",
                            "  width: 100%;\n",
                            "  border-bottom: 2px solid var(--sklearn-color-text-on-default-background);\n",
                            "  flex-grow: 1;\n",
                            "}\n",
                            "\n",
                            "#sk-container-id-1 div.sk-parallel {\n",
                            "  display: flex;\n",
                            "  align-items: stretch;\n",
                            "  justify-content: center;\n",
                            "  background-color: var(--sklearn-color-background);\n",
                            "  position: relative;\n",
                            "}\n",
                            "\n",
                            "#sk-container-id-1 div.sk-parallel-item {\n",
                            "  display: flex;\n",
                            "  flex-direction: column;\n",
                            "}\n",
                            "\n",
                            "#sk-container-id-1 div.sk-parallel-item:first-child::after {\n",
                            "  align-self: flex-end;\n",
                            "  width: 50%;\n",
                            "}\n",
                            "\n",
                            "#sk-container-id-1 div.sk-parallel-item:last-child::after {\n",
                            "  align-self: flex-start;\n",
                            "  width: 50%;\n",
                            "}\n",
                            "\n",
                            "#sk-container-id-1 div.sk-parallel-item:only-child::after {\n",
                            "  width: 0;\n",
                            "}\n",
                            "\n",
                            "/* Serial-specific style estimator block */\n",
                            "\n",
                            "#sk-container-id-1 div.sk-serial {\n",
                            "  display: flex;\n",
                            "  flex-direction: column;\n",
                            "  align-items: center;\n",
                            "  background-color: var(--sklearn-color-background);\n",
                            "  padding-right: 1em;\n",
                            "  padding-left: 1em;\n",
                            "}\n",
                            "\n",
                            "\n",
                            "/* Toggleable style: style used for estimator/Pipeline/ColumnTransformer box that is\n",
                            "clickable and can be expanded/collapsed.\n",
                            "- Pipeline and ColumnTransformer use this feature and define the default style\n",
                            "- Estimators will overwrite some part of the style using the `sk-estimator` class\n",
                            "*/\n",
                            "\n",
                            "/* Pipeline and ColumnTransformer style (default) */\n",
                            "\n",
                            "#sk-container-id-1 div.sk-toggleable {\n",
                            "  /* Default theme specific background. It is overwritten whether we have a\n",
                            "  specific estimator or a Pipeline/ColumnTransformer */\n",
                            "  background-color: var(--sklearn-color-background);\n",
                            "}\n",
                            "\n",
                            "/* Toggleable label */\n",
                            "#sk-container-id-1 label.sk-toggleable__label {\n",
                            "  cursor: pointer;\n",
                            "  display: flex;\n",
                            "  width: 100%;\n",
                            "  margin-bottom: 0;\n",
                            "  padding: 0.5em;\n",
                            "  box-sizing: border-box;\n",
                            "  text-align: center;\n",
                            "  align-items: start;\n",
                            "  justify-content: space-between;\n",
                            "  gap: 0.5em;\n",
                            "}\n",
                            "\n",
                            "#sk-container-id-1 label.sk-toggleable__label .caption {\n",
                            "  font-size: 0.6rem;\n",
                            "  font-weight: lighter;\n",
                            "  color: var(--sklearn-color-text-muted);\n",
                            "}\n",
                            "\n",
                            "#sk-container-id-1 label.sk-toggleable__label-arrow:before {\n",
                            "  /* Arrow on the left of the label */\n",
                            "  content: \"▸\";\n",
                            "  float: left;\n",
                            "  margin-right: 0.25em;\n",
                            "  color: var(--sklearn-color-icon);\n",
                            "}\n",
                            "\n",
                            "#sk-container-id-1 label.sk-toggleable__label-arrow:hover:before {\n",
                            "  color: var(--sklearn-color-text);\n",
                            "}\n",
                            "\n",
                            "/* Toggleable content - dropdown */\n",
                            "\n",
                            "#sk-container-id-1 div.sk-toggleable__content {\n",
                            "  max-height: 0;\n",
                            "  max-width: 0;\n",
                            "  overflow: hidden;\n",
                            "  text-align: left;\n",
                            "  /* unfitted */\n",
                            "  background-color: var(--sklearn-color-unfitted-level-0);\n",
                            "}\n",
                            "\n",
                            "#sk-container-id-1 div.sk-toggleable__content.fitted {\n",
                            "  /* fitted */\n",
                            "  background-color: var(--sklearn-color-fitted-level-0);\n",
                            "}\n",
                            "\n",
                            "#sk-container-id-1 div.sk-toggleable__content pre {\n",
                            "  margin: 0.2em;\n",
                            "  border-radius: 0.25em;\n",
                            "  color: var(--sklearn-color-text);\n",
                            "  /* unfitted */\n",
                            "  background-color: var(--sklearn-color-unfitted-level-0);\n",
                            "}\n",
                            "\n",
                            "#sk-container-id-1 div.sk-toggleable__content.fitted pre {\n",
                            "  /* unfitted */\n",
                            "  background-color: var(--sklearn-color-fitted-level-0);\n",
                            "}\n",
                            "\n",
                            "#sk-container-id-1 input.sk-toggleable__control:checked~div.sk-toggleable__content {\n",
                            "  /* Expand drop-down */\n",
                            "  max-height: 200px;\n",
                            "  max-width: 100%;\n",
                            "  overflow: auto;\n",
                            "}\n",
                            "\n",
                            "#sk-container-id-1 input.sk-toggleable__control:checked~label.sk-toggleable__label-arrow:before {\n",
                            "  content: \"▾\";\n",
                            "}\n",
                            "\n",
                            "/* Pipeline/ColumnTransformer-specific style */\n",
                            "\n",
                            "#sk-container-id-1 div.sk-label input.sk-toggleable__control:checked~label.sk-toggleable__label {\n",
                            "  color: var(--sklearn-color-text);\n",
                            "  background-color: var(--sklearn-color-unfitted-level-2);\n",
                            "}\n",
                            "\n",
                            "#sk-container-id-1 div.sk-label.fitted input.sk-toggleable__control:checked~label.sk-toggleable__label {\n",
                            "  background-color: var(--sklearn-color-fitted-level-2);\n",
                            "}\n",
                            "\n",
                            "/* Estimator-specific style */\n",
                            "\n",
                            "/* Colorize estimator box */\n",
                            "#sk-container-id-1 div.sk-estimator input.sk-toggleable__control:checked~label.sk-toggleable__label {\n",
                            "  /* unfitted */\n",
                            "  background-color: var(--sklearn-color-unfitted-level-2);\n",
                            "}\n",
                            "\n",
                            "#sk-container-id-1 div.sk-estimator.fitted input.sk-toggleable__control:checked~label.sk-toggleable__label {\n",
                            "  /* fitted */\n",
                            "  background-color: var(--sklearn-color-fitted-level-2);\n",
                            "}\n",
                            "\n",
                            "#sk-container-id-1 div.sk-label label.sk-toggleable__label,\n",
                            "#sk-container-id-1 div.sk-label label {\n",
                            "  /* The background is the default theme color */\n",
                            "  color: var(--sklearn-color-text-on-default-background);\n",
                            "}\n",
                            "\n",
                            "/* On hover, darken the color of the background */\n",
                            "#sk-container-id-1 div.sk-label:hover label.sk-toggleable__label {\n",
                            "  color: var(--sklearn-color-text);\n",
                            "  background-color: var(--sklearn-color-unfitted-level-2);\n",
                            "}\n",
                            "\n",
                            "/* Label box, darken color on hover, fitted */\n",
                            "#sk-container-id-1 div.sk-label.fitted:hover label.sk-toggleable__label.fitted {\n",
                            "  color: var(--sklearn-color-text);\n",
                            "  background-color: var(--sklearn-color-fitted-level-2);\n",
                            "}\n",
                            "\n",
                            "/* Estimator label */\n",
                            "\n",
                            "#sk-container-id-1 div.sk-label label {\n",
                            "  font-family: monospace;\n",
                            "  font-weight: bold;\n",
                            "  display: inline-block;\n",
                            "  line-height: 1.2em;\n",
                            "}\n",
                            "\n",
                            "#sk-container-id-1 div.sk-label-container {\n",
                            "  text-align: center;\n",
                            "}\n",
                            "\n",
                            "/* Estimator-specific */\n",
                            "#sk-container-id-1 div.sk-estimator {\n",
                            "  font-family: monospace;\n",
                            "  border: 1px dotted var(--sklearn-color-border-box);\n",
                            "  border-radius: 0.25em;\n",
                            "  box-sizing: border-box;\n",
                            "  margin-bottom: 0.5em;\n",
                            "  /* unfitted */\n",
                            "  background-color: var(--sklearn-color-unfitted-level-0);\n",
                            "}\n",
                            "\n",
                            "#sk-container-id-1 div.sk-estimator.fitted {\n",
                            "  /* fitted */\n",
                            "  background-color: var(--sklearn-color-fitted-level-0);\n",
                            "}\n",
                            "\n",
                            "/* on hover */\n",
                            "#sk-container-id-1 div.sk-estimator:hover {\n",
                            "  /* unfitted */\n",
                            "  background-color: var(--sklearn-color-unfitted-level-2);\n",
                            "}\n",
                            "\n",
                            "#sk-container-id-1 div.sk-estimator.fitted:hover {\n",
                            "  /* fitted */\n",
                            "  background-color: var(--sklearn-color-fitted-level-2);\n",
                            "}\n",
                            "\n",
                            "/* Specification for estimator info (e.g. \"i\" and \"?\") */\n",
                            "\n",
                            "/* Common style for \"i\" and \"?\" */\n",
                            "\n",
                            ".sk-estimator-doc-link,\n",
                            "a:link.sk-estimator-doc-link,\n",
                            "a:visited.sk-estimator-doc-link {\n",
                            "  float: right;\n",
                            "  font-size: smaller;\n",
                            "  line-height: 1em;\n",
                            "  font-family: monospace;\n",
                            "  background-color: var(--sklearn-color-background);\n",
                            "  border-radius: 1em;\n",
                            "  height: 1em;\n",
                            "  width: 1em;\n",
                            "  text-decoration: none !important;\n",
                            "  margin-left: 0.5em;\n",
                            "  text-align: center;\n",
                            "  /* unfitted */\n",
                            "  border: var(--sklearn-color-unfitted-level-1) 1pt solid;\n",
                            "  color: var(--sklearn-color-unfitted-level-1);\n",
                            "}\n",
                            "\n",
                            ".sk-estimator-doc-link.fitted,\n",
                            "a:link.sk-estimator-doc-link.fitted,\n",
                            "a:visited.sk-estimator-doc-link.fitted {\n",
                            "  /* fitted */\n",
                            "  border: var(--sklearn-color-fitted-level-1) 1pt solid;\n",
                            "  color: var(--sklearn-color-fitted-level-1);\n",
                            "}\n",
                            "\n",
                            "/* On hover */\n",
                            "div.sk-estimator:hover .sk-estimator-doc-link:hover,\n",
                            ".sk-estimator-doc-link:hover,\n",
                            "div.sk-label-container:hover .sk-estimator-doc-link:hover,\n",
                            ".sk-estimator-doc-link:hover {\n",
                            "  /* unfitted */\n",
                            "  background-color: var(--sklearn-color-unfitted-level-3);\n",
                            "  color: var(--sklearn-color-background);\n",
                            "  text-decoration: none;\n",
                            "}\n",
                            "\n",
                            "div.sk-estimator.fitted:hover .sk-estimator-doc-link.fitted:hover,\n",
                            ".sk-estimator-doc-link.fitted:hover,\n",
                            "div.sk-label-container:hover .sk-estimator-doc-link.fitted:hover,\n",
                            ".sk-estimator-doc-link.fitted:hover {\n",
                            "  /* fitted */\n",
                            "  background-color: var(--sklearn-color-fitted-level-3);\n",
                            "  color: var(--sklearn-color-background);\n",
                            "  text-decoration: none;\n",
                            "}\n",
                            "\n",
                            "/* Span, style for the box shown on hovering the info icon */\n",
                            ".sk-estimator-doc-link span {\n",
                            "  display: none;\n",
                            "  z-index: 9999;\n",
                            "  position: relative;\n",
                            "  font-weight: normal;\n",
                            "  right: .2ex;\n",
                            "  padding: .5ex;\n",
                            "  margin: .5ex;\n",
                            "  width: min-content;\n",
                            "  min-width: 20ex;\n",
                            "  max-width: 50ex;\n",
                            "  color: var(--sklearn-color-text);\n",
                            "  box-shadow: 2pt 2pt 4pt #999;\n",
                            "  /* unfitted */\n",
                            "  background: var(--sklearn-color-unfitted-level-0);\n",
                            "  border: .5pt solid var(--sklearn-color-unfitted-level-3);\n",
                            "}\n",
                            "\n",
                            ".sk-estimator-doc-link.fitted span {\n",
                            "  /* fitted */\n",
                            "  background: var(--sklearn-color-fitted-level-0);\n",
                            "  border: var(--sklearn-color-fitted-level-3);\n",
                            "}\n",
                            "\n",
                            ".sk-estimator-doc-link:hover span {\n",
                            "  display: block;\n",
                            "}\n",
                            "\n",
                            "/* \"?\"-specific style due to the `<a>` HTML tag */\n",
                            "\n",
                            "#sk-container-id-1 a.estimator_doc_link {\n",
                            "  float: right;\n",
                            "  font-size: 1rem;\n",
                            "  line-height: 1em;\n",
                            "  font-family: monospace;\n",
                            "  background-color: var(--sklearn-color-background);\n",
                            "  border-radius: 1rem;\n",
                            "  height: 1rem;\n",
                            "  width: 1rem;\n",
                            "  text-decoration: none;\n",
                            "  /* unfitted */\n",
                            "  color: var(--sklearn-color-unfitted-level-1);\n",
                            "  border: var(--sklearn-color-unfitted-level-1) 1pt solid;\n",
                            "}\n",
                            "\n",
                            "#sk-container-id-1 a.estimator_doc_link.fitted {\n",
                            "  /* fitted */\n",
                            "  border: var(--sklearn-color-fitted-level-1) 1pt solid;\n",
                            "  color: var(--sklearn-color-fitted-level-1);\n",
                            "}\n",
                            "\n",
                            "/* On hover */\n",
                            "#sk-container-id-1 a.estimator_doc_link:hover {\n",
                            "  /* unfitted */\n",
                            "  background-color: var(--sklearn-color-unfitted-level-3);\n",
                            "  color: var(--sklearn-color-background);\n",
                            "  text-decoration: none;\n",
                            "}\n",
                            "\n",
                            "#sk-container-id-1 a.estimator_doc_link.fitted:hover {\n",
                            "  /* fitted */\n",
                            "  background-color: var(--sklearn-color-fitted-level-3);\n",
                            "}\n",
                            "</style><div id=\"sk-container-id-1\" class=\"sk-top-container\"><div class=\"sk-text-repr-fallback\"><pre>Pipeline(steps=[(&#x27;preprocessing&#x27;,\n",
                            "                 ColumnTransformer(transformers=[(&#x27;num&#x27;, StandardScaler(),\n",
                            "                                                  [&#x27;DistanceFromHome&#x27;,\n",
                            "                                                   &#x27;EnvironmentSatisfaction&#x27;,\n",
                            "                                                   &#x27;JobInvolvement&#x27;, &#x27;JobLevel&#x27;,\n",
                            "                                                   &#x27;JobSatisfaction&#x27;,\n",
                            "                                                   &#x27;MonthlyIncome&#x27;,\n",
                            "                                                   &#x27;OverTimeNum&#x27;,\n",
                            "                                                   &#x27;PerformanceRating&#x27;,\n",
                            "                                                   &#x27;PercentSalaryHike&#x27;,\n",
                            "                                                   &#x27;RelationshipSatisfaction&#x27;,\n",
                            "                                                   &#x27;TotalWorkingYears&#x27;,\n",
                            "                                                   &#x27;WorkLifeBalance&#x27;,\n",
                            "                                                   &#x27;YearsAtCompany&#x27;,\n",
                            "                                                   &#x27;YearsSinceLastPromotion&#x27;])])),\n",
                            "                (&#x27;classifier&#x27;,\n",
                            "                 LogisticRegression(random_state=42, solver=&#x27;liblinear&#x27;))])</pre><b>In a Jupyter environment, please rerun this cell to show the HTML representation or trust the notebook. <br />On GitHub, the HTML representation is unable to render, please try loading this page with nbviewer.org.</b></div><div class=\"sk-container\" hidden><div class=\"sk-item sk-dashed-wrapped\"><div class=\"sk-label-container\"><div class=\"sk-label fitted sk-toggleable\"><input class=\"sk-toggleable__control sk-hidden--visually\" id=\"sk-estimator-id-1\" type=\"checkbox\" ><label for=\"sk-estimator-id-1\" class=\"sk-toggleable__label fitted sk-toggleable__label-arrow\"><div><div>Pipeline</div></div><div><a class=\"sk-estimator-doc-link fitted\" rel=\"noreferrer\" target=\"_blank\" href=\"https://scikit-learn.org/1.6/modules/generated/sklearn.pipeline.Pipeline.html\">?<span>Documentation for Pipeline</span></a><span class=\"sk-estimator-doc-link fitted\">i<span>Fitted</span></span></div></label><div class=\"sk-toggleable__content fitted\"><pre>Pipeline(steps=[(&#x27;preprocessing&#x27;,\n",
                            "                 ColumnTransformer(transformers=[(&#x27;num&#x27;, StandardScaler(),\n",
                            "                                                  [&#x27;DistanceFromHome&#x27;,\n",
                            "                                                   &#x27;EnvironmentSatisfaction&#x27;,\n",
                            "                                                   &#x27;JobInvolvement&#x27;, &#x27;JobLevel&#x27;,\n",
                            "                                                   &#x27;JobSatisfaction&#x27;,\n",
                            "                                                   &#x27;MonthlyIncome&#x27;,\n",
                            "                                                   &#x27;OverTimeNum&#x27;,\n",
                            "                                                   &#x27;PerformanceRating&#x27;,\n",
                            "                                                   &#x27;PercentSalaryHike&#x27;,\n",
                            "                                                   &#x27;RelationshipSatisfaction&#x27;,\n",
                            "                                                   &#x27;TotalWorkingYears&#x27;,\n",
                            "                                                   &#x27;WorkLifeBalance&#x27;,\n",
                            "                                                   &#x27;YearsAtCompany&#x27;,\n",
                            "                                                   &#x27;YearsSinceLastPromotion&#x27;])])),\n",
                            "                (&#x27;classifier&#x27;,\n",
                            "                 LogisticRegression(random_state=42, solver=&#x27;liblinear&#x27;))])</pre></div> </div></div><div class=\"sk-serial\"><div class=\"sk-item sk-dashed-wrapped\"><div class=\"sk-label-container\"><div class=\"sk-label fitted sk-toggleable\"><input class=\"sk-toggleable__control sk-hidden--visually\" id=\"sk-estimator-id-2\" type=\"checkbox\" ><label for=\"sk-estimator-id-2\" class=\"sk-toggleable__label fitted sk-toggleable__label-arrow\"><div><div>preprocessing: ColumnTransformer</div></div><div><a class=\"sk-estimator-doc-link fitted\" rel=\"noreferrer\" target=\"_blank\" href=\"https://scikit-learn.org/1.6/modules/generated/sklearn.compose.ColumnTransformer.html\">?<span>Documentation for preprocessing: ColumnTransformer</span></a></div></label><div class=\"sk-toggleable__content fitted\"><pre>ColumnTransformer(transformers=[(&#x27;num&#x27;, StandardScaler(),\n",
                            "                                 [&#x27;DistanceFromHome&#x27;, &#x27;EnvironmentSatisfaction&#x27;,\n",
                            "                                  &#x27;JobInvolvement&#x27;, &#x27;JobLevel&#x27;,\n",
                            "                                  &#x27;JobSatisfaction&#x27;, &#x27;MonthlyIncome&#x27;,\n",
                            "                                  &#x27;OverTimeNum&#x27;, &#x27;PerformanceRating&#x27;,\n",
                            "                                  &#x27;PercentSalaryHike&#x27;,\n",
                            "                                  &#x27;RelationshipSatisfaction&#x27;,\n",
                            "                                  &#x27;TotalWorkingYears&#x27;, &#x27;WorkLifeBalance&#x27;,\n",
                            "                                  &#x27;YearsAtCompany&#x27;,\n",
                            "                                  &#x27;YearsSinceLastPromotion&#x27;])])</pre></div> </div></div><div class=\"sk-parallel\"><div class=\"sk-parallel-item\"><div class=\"sk-item\"><div class=\"sk-label-container\"><div class=\"sk-label fitted sk-toggleable\"><input class=\"sk-toggleable__control sk-hidden--visually\" id=\"sk-estimator-id-3\" type=\"checkbox\" ><label for=\"sk-estimator-id-3\" class=\"sk-toggleable__label fitted sk-toggleable__label-arrow\"><div><div>num</div></div></label><div class=\"sk-toggleable__content fitted\"><pre>[&#x27;DistanceFromHome&#x27;, &#x27;EnvironmentSatisfaction&#x27;, &#x27;JobInvolvement&#x27;, &#x27;JobLevel&#x27;, &#x27;JobSatisfaction&#x27;, &#x27;MonthlyIncome&#x27;, &#x27;OverTimeNum&#x27;, &#x27;PerformanceRating&#x27;, &#x27;PercentSalaryHike&#x27;, &#x27;RelationshipSatisfaction&#x27;, &#x27;TotalWorkingYears&#x27;, &#x27;WorkLifeBalance&#x27;, &#x27;YearsAtCompany&#x27;, &#x27;YearsSinceLastPromotion&#x27;]</pre></div> </div></div><div class=\"sk-serial\"><div class=\"sk-item\"><div class=\"sk-estimator fitted sk-toggleable\"><input class=\"sk-toggleable__control sk-hidden--visually\" id=\"sk-estimator-id-4\" type=\"checkbox\" ><label for=\"sk-estimator-id-4\" class=\"sk-toggleable__label fitted sk-toggleable__label-arrow\"><div><div>StandardScaler</div></div><div><a class=\"sk-estimator-doc-link fitted\" rel=\"noreferrer\" target=\"_blank\" href=\"https://scikit-learn.org/1.6/modules/generated/sklearn.preprocessing.StandardScaler.html\">?<span>Documentation for StandardScaler</span></a></div></label><div class=\"sk-toggleable__content fitted\"><pre>StandardScaler()</pre></div> </div></div></div></div></div></div></div><div class=\"sk-item\"><div class=\"sk-estimator fitted sk-toggleable\"><input class=\"sk-toggleable__control sk-hidden--visually\" id=\"sk-estimator-id-5\" type=\"checkbox\" ><label for=\"sk-estimator-id-5\" class=\"sk-toggleable__label fitted sk-toggleable__label-arrow\"><div><div>LogisticRegression</div></div><div><a class=\"sk-estimator-doc-link fitted\" rel=\"noreferrer\" target=\"_blank\" href=\"https://scikit-learn.org/1.6/modules/generated/sklearn.linear_model.LogisticRegression.html\">?<span>Documentation for LogisticRegression</span></a></div></label><div class=\"sk-toggleable__content fitted\"><pre>LogisticRegression(random_state=42, solver=&#x27;liblinear&#x27;)</pre></div> </div></div></div></div></div></div>"
                        ],
                        "text/plain": [
                            "Pipeline(steps=[('preprocessing',\n",
                            "                 ColumnTransformer(transformers=[('num', StandardScaler(),\n",
                            "                                                  ['DistanceFromHome',\n",
                            "                                                   'EnvironmentSatisfaction',\n",
                            "                                                   'JobInvolvement', 'JobLevel',\n",
                            "                                                   'JobSatisfaction',\n",
                            "                                                   'MonthlyIncome',\n",
                            "                                                   'OverTimeNum',\n",
                            "                                                   'PerformanceRating',\n",
                            "                                                   'PercentSalaryHike',\n",
                            "                                                   'RelationshipSatisfaction',\n",
                            "                                                   'TotalWorkingYears',\n",
                            "                                                   'WorkLifeBalance',\n",
                            "                                                   'YearsAtCompany',\n",
                            "                                                   'YearsSinceLastPromotion'])])),\n",
                            "                ('classifier',\n",
                            "                 LogisticRegression(random_state=42, solver='liblinear'))])"
                        ]
                    },
                    "execution_count": 52,
                    "metadata": {},
                    "output_type": "execute_result"
                }
            ],
            "source": [
                "pipeline.fit(X_train, y_train)"
            ]
        },
        {
            "cell_type": "code",
            "execution_count": 53,
            "metadata": {},
            "outputs": [],
            "source": [
                "y_pred = pipeline.predict(X_test)"
            ]
        },
        {
            "cell_type": "markdown",
            "metadata": {},
            "source": [
                "## Evaluation\n"
            ]
        },
        {
            "cell_type": "code",
            "execution_count": 54,
            "metadata": {},
            "outputs": [
                {
                    "name": "stdout",
                    "output_type": "stream",
                    "text": [
                        "Akurasi: 0.8584905660377359\n",
                        "\n",
                        "Classification Report:\n",
                        "               precision    recall  f1-score   support\n",
                        "\n",
                        "           0       0.86      0.98      0.92       173\n",
                        "           1       0.80      0.31      0.44        39\n",
                        "\n",
                        "    accuracy                           0.86       212\n",
                        "   macro avg       0.83      0.65      0.68       212\n",
                        "weighted avg       0.85      0.86      0.83       212\n",
                        "\n"
                    ]
                }
            ],
            "source": [
                "print(\"Akurasi:\", accuracy_score(y_test, y_pred))\n",
                "print(\"\\nClassification Report:\\n\", classification_report(y_test, y_pred))"
            ]
        },
        {
            "cell_type": "markdown",
            "metadata": {},
            "source": [
                "### Evaluasi Model Logistic Regression: Prediksi Attrition\n",
                "\n",
                "Model klasifikasi memiliki **akurasi sebesar 85.85%**, yang menunjukkan bahwa secara keseluruhan model mampu memprediksi apakah seorang karyawan akan mengundurkan diri atau tetap bekerja dengan tingkat ketepatan yang cukup tinggi. Namun, akurasi saja tidak cukup untuk menilai performa model, terutama ketika terdapat **ketidakseimbangan data** antar kelas, seperti pada kasus ini.\n",
                "\n",
                "Dari *classification report*, terlihat bahwa model **sangat baik dalam memprediksi kelas 0 (Stay)** dengan:\n",
                "- **Precision:** 0.86\n",
                "- **Recall:** 0.98\n",
                "- **F1-score:** 0.92\n",
                "\n",
                "Ini berarti mayoritas karyawan yang memang tetap bekerja berhasil dikenali dengan benar oleh model, dan hanya sedikit yang diprediksi salah.\n",
                "\n",
                "Namun, performa pada **kelas 1 (Leave)** masih cukup rendah:\n",
                "- **Precision:** 0.80\n",
                "- **Recall:** 0.31\n",
                "- **F1-score:** 0.44\n",
                "\n",
                "Artinya, model hanya berhasil menangkap sekitar 31% dari seluruh karyawan yang sebenarnya mengundurkan diri. Ini menyebabkan *f1-score* untuk kelas 1 rendah, mencerminkan ketidakseimbangan kemampuan model dalam mendeteksi kasus pengunduran diri.\n",
                "\n",
                "**Macro average** dan **weighted average** pun menunjukkan perbedaan antara metrik antar kelas:\n",
                "- **Macro F1-score:** 0.68 → rata-rata tanpa memperhatikan distribusi kelas\n",
                "- **Weighted F1-score:** 0.83 → rata-rata dengan memperhatikan distribusi kelas, yang cukup tinggi karena dominasi kelas 0\n",
                "\n",
                "---\n",
                "\n",
                "## 📌 Kesimpulan\n",
                "\n",
                "Secara keseluruhan, **model memiliki performa yang sangat baik untuk mendeteksi karyawan yang bertahan**,\n"
            ]
        },
        {
            "cell_type": "markdown",
            "metadata": {},
            "source": [
                "## Save Model\n"
            ]
        },
        {
            "cell_type": "code",
            "execution_count": 55,
            "metadata": {},
            "outputs": [
                {
                    "name": "stdout",
                    "output_type": "stream",
                    "text": [
                        "Model berhasil disimpan ke attrition_model.pkl\n"
                    ]
                }
            ],
            "source": [
                "import pickle\n",
                "\n",
                "# Simpan pipeline ke file bernama 'attrition_model.pkl'\n",
                "with open(\"model/attrition_model.pkl\", \"wb\") as f:\n",
                "    pickle.dump(pipeline, f)\n",
                "\n",
                "print(\"Model berhasil disimpan ke attrition_model.pkl\")"
            ]
        },
        {
            "cell_type": "markdown",
            "metadata": {},
            "source": [
                "## Mengunggah Model\n"
            ]
        },
        {
            "cell_type": "code",
            "execution_count": 56,
            "metadata": {},
            "outputs": [],
            "source": [
                "new_data = pd.DataFrame(\n",
                "    [\n",
                "        {\n",
                "            \"DistanceFromHome\": 10,\n",
                "            \"EnvironmentSatisfaction\": 3,\n",
                "            \"JobInvolvement\": 2,\n",
                "            \"JobLevel\": 2,\n",
                "            \"JobSatisfaction\": 3,\n",
                "            \"MonthlyIncome\": 7000,\n",
                "            \"OverTimeNum\": 1,\n",
                "            \"PerformanceRating\": 3,\n",
                "            \"PercentSalaryHike\": 12,\n",
                "            \"RelationshipSatisfaction\": 4,\n",
                "            \"TotalWorkingYears\": 8,\n",
                "            \"WorkLifeBalance\": 2,\n",
                "            \"YearsAtCompany\": 4,\n",
                "            \"YearsSinceLastPromotion\": 1,\n",
                "        }\n",
                "    ]\n",
                ")"
            ]
        },
        {
            "cell_type": "code",
            "execution_count": 57,
            "metadata": {},
            "outputs": [
                {
                    "name": "stdout",
                    "output_type": "stream",
                    "text": [
                        "[LOADED MODEL] Prediksi: 0 → STAY (tetap bekerja)\n",
                        "[LOADED MODEL] Probabilitas [Stay, Leave]: [0.60535736 0.39464264]\n"
                    ]
                }
            ],
            "source": [
                "# Load dari pickle\n",
                "with open(\"model/attrition_model.pkl\", \"rb\") as f:\n",
                "    loaded_model = pickle.load(f)\n",
                "\n",
                "# Prediksi ulang\n",
                "loaded_pred = loaded_model.predict(new_data)[0]\n",
                "loaded_proba = loaded_model.predict_proba(new_data)[0]\n",
                "\n",
                "status = \"LEAVE (mengundurkan diri)\" if loaded_pred == 1 else \"STAY (tetap bekerja)\"\n",
                "\n",
                "print(f\"[LOADED MODEL] Prediksi: {loaded_pred} → {status}\")\n",
                "print(f\"[LOADED MODEL] Probabilitas [Stay, Leave]: {loaded_proba}\")"
            ]
        }
    ],
    "metadata": {
        "kernelspec": {
            "display_name": "base",
            "language": "python",
            "name": "python3"
        },
        "language_info": {
            "codemirror_mode": {
                "name": "ipython",
                "version": 3
            },
            "file_extension": ".py",
            "mimetype": "text/x-python",
            "name": "python",
            "nbconvert_exporter": "python",
            "pygments_lexer": "ipython3",
            "version": "3.12.9"
        },
        "orig_nbformat": 4
    },
    "nbformat": 4,
    "nbformat_minor": 2
}
